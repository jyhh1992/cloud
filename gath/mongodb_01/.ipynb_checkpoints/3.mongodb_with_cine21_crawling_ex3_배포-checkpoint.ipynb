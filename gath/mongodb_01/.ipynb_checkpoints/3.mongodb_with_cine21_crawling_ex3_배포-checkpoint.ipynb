{
 "cells": [
  {
   "cell_type": "markdown",
   "metadata": {
    "collapsed": true
   },
   "source": [
    "# 1. 크롤링과 함께 쓰는 mongoDB 예제"
   ]
  },
  {
   "cell_type": "markdown",
   "metadata": {},
   "source": [
    "### cine21 인물 랭킹 알아내기\n",
    "  - http://www.cine21.com/rank/person/\n",
    "  - 조회를 눌렀을 때, Go to Network -> content 의 Request URL/Method 와 Form 데이터 알아내기\n",
    "    - Request URL: http://www.cine21.com/rank/person/content\n",
    "    - Request Method: POST\n",
    "    - Form Data\n",
    "      - section:actor\n",
    "      - period_start:2021-10\n",
    "      - gender:all\n",
    "      - page:1\n",
    "    - 하단부 페이지를 누를 때마다, Form Data 의 page 값이 바뀜"
   ]
  },
  {
   "cell_type": "code",
   "execution_count": 8,
   "metadata": {
    "scrolled": true
   },
   "outputs": [
    {
     "ename": "ModuleNotFoundError",
     "evalue": "No module named 'pymongo'",
     "output_type": "error",
     "traceback": [
      "\u001b[0;31m---------------------------------------------------------------------------\u001b[0m",
      "\u001b[0;31mModuleNotFoundError\u001b[0m                       Traceback (most recent call last)",
      "\u001b[0;32m/tmp/ipykernel_16724/428412701.py\u001b[0m in \u001b[0;36m<module>\u001b[0;34m\u001b[0m\n\u001b[1;32m      2\u001b[0m \u001b[0;32mimport\u001b[0m \u001b[0mre\u001b[0m\u001b[0;34m\u001b[0m\u001b[0;34m\u001b[0m\u001b[0m\n\u001b[1;32m      3\u001b[0m \u001b[0;32mimport\u001b[0m \u001b[0mdatetime\u001b[0m\u001b[0;34m\u001b[0m\u001b[0;34m\u001b[0m\u001b[0m\n\u001b[0;32m----> 4\u001b[0;31m \u001b[0;32mfrom\u001b[0m \u001b[0mpymongo\u001b[0m \u001b[0;32mimport\u001b[0m \u001b[0mMongoClient\u001b[0m\u001b[0;34m\u001b[0m\u001b[0;34m\u001b[0m\u001b[0m\n\u001b[0m\u001b[1;32m      5\u001b[0m \u001b[0;32mimport\u001b[0m \u001b[0mpymongo\u001b[0m\u001b[0;34m\u001b[0m\u001b[0;34m\u001b[0m\u001b[0m\n",
      "\u001b[0;31mModuleNotFoundError\u001b[0m: No module named 'pymongo'"
     ]
    }
   ],
   "source": [
    "import requests as req\n",
    "import re\n",
    "import datetime\n",
    "from pymongo import MongoClient\n",
    "import pymongo"
   ]
  },
  {
   "cell_type": "code",
   "execution_count": 3,
   "metadata": {},
   "outputs": [
    {
     "name": "stdout",
     "output_type": "stream",
     "text": [
      "Requirement already satisfied: BeautifulSoup4 in /home/ubuntu/gath/gathVENV/lib/python3.8/site-packages (4.10.0)\n",
      "Requirement already satisfied: soupsieve>1.2 in /home/ubuntu/gath/gathVENV/lib/python3.8/site-packages (from BeautifulSoup4) (2.2.1)\n",
      "\u001b[33mWARNING: You are using pip version 21.2.4; however, version 21.3.1 is available.\n",
      "You should consider upgrading via the '/home/ubuntu/gath/gathVENV/bin/python -m pip install --upgrade pip' command.\u001b[0m\n"
     ]
    }
   ],
   "source": [
    "!pip install BeautifulSoup4"
   ]
  },
  {
   "cell_type": "code",
   "execution_count": null,
   "metadata": {},
   "outputs": [],
   "source": []
  },
  {
   "cell_type": "code",
   "execution_count": 7,
   "metadata": {
    "scrolled": true
   },
   "outputs": [
    {
     "ename": "NameError",
     "evalue": "name 'pymongo' is not defined",
     "output_type": "error",
     "traceback": [
      "\u001b[0;31m---------------------------------------------------------------------------\u001b[0m",
      "\u001b[0;31mNameError\u001b[0m                                 Traceback (most recent call last)",
      "\u001b[0;32m/tmp/ipykernel_16724/4080492118.py\u001b[0m in \u001b[0;36m<module>\u001b[0;34m\u001b[0m\n\u001b[1;32m      2\u001b[0m \u001b[0musername\u001b[0m \u001b[0;34m=\u001b[0m \u001b[0;34m'rapa00'\u001b[0m\u001b[0;34m\u001b[0m\u001b[0;34m\u001b[0m\u001b[0m\n\u001b[1;32m      3\u001b[0m \u001b[0mpassword\u001b[0m \u001b[0;34m=\u001b[0m \u001b[0;34m'1234'\u001b[0m\u001b[0;34m\u001b[0m\u001b[0;34m\u001b[0m\u001b[0m\n\u001b[0;32m----> 4\u001b[0;31m \u001b[0mconn\u001b[0m \u001b[0;34m=\u001b[0m \u001b[0mpymongo\u001b[0m\u001b[0;34m.\u001b[0m\u001b[0mMongoClient\u001b[0m\u001b[0;34m(\u001b[0m\u001b[0;34m'mongodb://%s:%s@127.0.0.1'\u001b[0m \u001b[0;34m%\u001b[0m \u001b[0;34m(\u001b[0m\u001b[0musername\u001b[0m\u001b[0;34m,\u001b[0m \u001b[0mpassword\u001b[0m\u001b[0;34m)\u001b[0m\u001b[0;34m)\u001b[0m\u001b[0;34m\u001b[0m\u001b[0;34m\u001b[0m\u001b[0m\n\u001b[0m",
      "\u001b[0;31mNameError\u001b[0m: name 'pymongo' is not defined"
     ]
    }
   ],
   "source": [
    "# 몽고DB 서버 연결\n",
    "username = 'rapa00'\n",
    "password = '1234'\n",
    "conn = pymongo.MongoClient('mongodb://%s:%s@127.0.0.1' % (username, password))"
   ]
  },
  {
   "cell_type": "code",
   "execution_count": 88,
   "metadata": {
    "collapsed": true,
    "scrolled": true
   },
   "outputs": [],
   "source": [
    "# db, collection 연결(없으면 생성)\n",
    "# python과 연동되었을 때, db와 collection의 경우, document insert 싯점에 생성됨\n",
    "mongodb = conn.cine21\n",
    "actor_collection = mongodb.actor_collection # collection 객체 생성자"
   ]
  },
  {
   "cell_type": "code",
   "execution_count": 89,
   "metadata": {
    "scrolled": true
   },
   "outputs": [],
   "source": [
    "# actor 정보가 있는지 확인하기\n",
    "actor_list = actor_collection.find()\n",
    "for actor in actor_list:\n",
    "    print(actor['actor'])"
   ]
  },
  {
   "cell_type": "code",
   "execution_count": 16,
   "metadata": {
    "collapsed": true,
    "scrolled": true
   },
   "outputs": [],
   "source": [
    "# request url\n",
    "cine21_url = 'http://www.cine21.com/rank/person/content'\n",
    "month = \"2021-10\"\n",
    "year = \"2020-11\"\n",
    "\n",
    "# post 방식으로 데이터를 가져오기 위한 request 시 필요 정보\n",
    "conditions = dict()\n",
    "conditions['section'] = 'actor'\n",
    "conditions['period_start'] = month\n",
    "conditions['gender'] = 'all'\n",
    "conditions['page'] = 1\n",
    "\n",
    "# post 방식으로 request 요청\n",
    "response = req.post(cine21_url, data = conditions)"
   ]
  },
  {
   "cell_type": "code",
   "execution_count": 17,
   "metadata": {},
   "outputs": [
    {
     "data": {
      "text/plain": [
       "<Response [200]>"
      ]
     },
     "execution_count": 17,
     "metadata": {},
     "output_type": "execute_result"
    }
   ],
   "source": [
    "response"
   ]
  },
  {
   "cell_type": "code",
   "execution_count": 22,
   "metadata": {},
   "outputs": [
    {
     "data": {
      "text/plain": [
       " <ul class=\"people_list\">\n",
       "<li class=\"people_li\">\n",
       "<a href=\"/db/person/info/?person_id=74826\"><img alt=\"\" class=\"people_thumb\" src=\"https://image.cine21.com/resize/cine21/person/2019/0828/11_54_52__5d65ecfc13ca6[X145,145].jpg\" target=\"_blank\"/></a>\n",
       "<div class=\"name\"><a href=\"/db/person/info/?person_id=74826\">박정민(1편)</a></div>\n",
       "<ul class=\"num_info\">\n",
       "<li><span class=\"tit\">흥행지수</span><strong>161,725</strong></li>\n",
       "<!--\n",
       "\t\t\t\t\t\t<li><a href=\"#\" class=\"btn_graph\"><span class=\"ico\"></span><span>흥행성적<br />그래프로 보기</span></a></li>\n",
       "\t\t\t\t\t\t-->\n",
       "</ul>\n",
       "<!-- 영화포스터는 최대 5개까지만 -->\n",
       "<ul class=\"mov_list\">\n",
       "<li>\n",
       "<a href=\"/movie/info/?movie_id=57227\">\n",
       "<img alt=\"\" class=\"thumb\" src=\"https://image.cine21.com/resize/cine21/poster/2021/0928/10_31_26__6152706e344e6[X85,120].jpg\" target=\"_blank\"/>\n",
       "<span>기적</span>\n",
       "</a>\n",
       "</li>\n",
       "</ul>\n",
       "<!-- 순위 --><span class=\"grade\">1</span>\n",
       "</li>\n",
       "<li class=\"people_li\">\n",
       "<a href=\"/db/person/info/?person_id=25123\"><img alt=\"\" class=\"people_thumb\" src=\"https://image.cine21.com/resize/cine21/person/2020/0108/11_20_05__5e153c55bdaea[X145,145].jpg\" target=\"_blank\"/></a>\n",
       "<div class=\"name\"><a href=\"/db/person/info/?person_id=25123\">이성민(1편)</a></div>\n",
       "<ul class=\"num_info\">\n",
       "<li><span class=\"tit\">흥행지수</span><strong>121,294</strong></li>\n",
       "<!--\n",
       "\t\t\t\t\t\t<li><a href=\"#\" class=\"btn_graph\"><span class=\"ico\"></span><span>흥행성적<br />그래프로 보기</span></a></li>\n",
       "\t\t\t\t\t\t-->\n",
       "</ul>\n",
       "<!-- 영화포스터는 최대 5개까지만 -->\n",
       "<ul class=\"mov_list\">\n",
       "<li>\n",
       "<a href=\"/movie/info/?movie_id=57227\">\n",
       "<img alt=\"\" class=\"thumb\" src=\"https://image.cine21.com/resize/cine21/poster/2021/0928/10_31_26__6152706e344e6[X85,120].jpg\" target=\"_blank\"/>\n",
       "<span>기적</span>\n",
       "</a>\n",
       "</li>\n",
       "</ul>\n",
       "<!-- 순위 --><span class=\"grade\">2</span>\n",
       "</li>\n",
       "<li class=\"people_li\">\n",
       "<a href=\"/db/person/info/?person_id=66313\"><img alt=\"\" class=\"people_thumb\" src=\"https://image.cine21.com/resize/cine21/person/2021/0927/15_22_17__615163198ef1b[X145,145].jpg\" target=\"_blank\"/></a>\n",
       "<div class=\"name\"><a href=\"/db/person/info/?person_id=66313\">임윤아(1편)</a></div>\n",
       "<ul class=\"num_info\">\n",
       "<li><span class=\"tit\">흥행지수</span><strong>80,862</strong></li>\n",
       "<!--\n",
       "\t\t\t\t\t\t<li><a href=\"#\" class=\"btn_graph\"><span class=\"ico\"></span><span>흥행성적<br />그래프로 보기</span></a></li>\n",
       "\t\t\t\t\t\t-->\n",
       "</ul>\n",
       "<!-- 영화포스터는 최대 5개까지만 -->\n",
       "<ul class=\"mov_list\">\n",
       "<li>\n",
       "<a href=\"/movie/info/?movie_id=57227\">\n",
       "<img alt=\"\" class=\"thumb\" src=\"https://image.cine21.com/resize/cine21/poster/2021/0928/10_31_26__6152706e344e6[X85,120].jpg\" target=\"_blank\"/>\n",
       "<span>기적</span>\n",
       "</a>\n",
       "</li>\n",
       "</ul>\n",
       "<!-- 순위 --><span class=\"grade\">3</span>\n",
       "</li>\n",
       "<li class=\"people_li\">\n",
       "<a href=\"/db/person/info/?person_id=70020\"><img alt=\"\" class=\"people_thumb\" src=\"https://image.cine21.com/resize/cine21/person/2009/1116/P0000006_04[X145,145].jpg\" target=\"_blank\"/></a>\n",
       "<div class=\"name\"><a href=\"/db/person/info/?person_id=70020\">노회찬(1편)</a></div>\n",
       "<ul class=\"num_info\">\n",
       "<li><span class=\"tit\">흥행지수</span><strong>51,594</strong></li>\n",
       "<!--\n",
       "\t\t\t\t\t\t<li><a href=\"#\" class=\"btn_graph\"><span class=\"ico\"></span><span>흥행성적<br />그래프로 보기</span></a></li>\n",
       "\t\t\t\t\t\t-->\n",
       "</ul>\n",
       "<!-- 영화포스터는 최대 5개까지만 -->\n",
       "<ul class=\"mov_list\">\n",
       "<li>\n",
       "<a href=\"/movie/info/?movie_id=57921\">\n",
       "<img alt=\"\" class=\"thumb\" src=\"https://image.cine21.com/resize/cine21/poster/2021/1018/57921_616cc9dd3e72a[X85,120].jpg\" target=\"_blank\"/>\n",
       "<span>노회찬6411</span>\n",
       "</a>\n",
       "</li>\n",
       "</ul>\n",
       "<!-- 순위 --><span class=\"grade\">4</span>\n",
       "</li>\n",
       "<li class=\"people_li\">\n",
       "<a href=\"/db/person/info/?person_id=96165\"><img alt=\"\" class=\"people_thumb\" src=\"https://image.cine21.com/resize/cine21/still/2017/1207/13_59_25__5a28caad303f8[X145,145].jpg\" target=\"_blank\"/></a>\n",
       "<div class=\"name\"><a href=\"/db/person/info/?person_id=96165\">이수경(1편)</a></div>\n",
       "<ul class=\"num_info\">\n",
       "<li><span class=\"tit\">흥행지수</span><strong>40,431</strong></li>\n",
       "<!--\n",
       "\t\t\t\t\t\t<li><a href=\"#\" class=\"btn_graph\"><span class=\"ico\"></span><span>흥행성적<br />그래프로 보기</span></a></li>\n",
       "\t\t\t\t\t\t-->\n",
       "</ul>\n",
       "<!-- 영화포스터는 최대 5개까지만 -->\n",
       "<ul class=\"mov_list\">\n",
       "<li>\n",
       "<a href=\"/movie/info/?movie_id=57227\">\n",
       "<img alt=\"\" class=\"thumb\" src=\"https://image.cine21.com/resize/cine21/poster/2021/0928/10_31_26__6152706e344e6[X85,120].jpg\" target=\"_blank\"/>\n",
       "<span>기적</span>\n",
       "</a>\n",
       "</li>\n",
       "</ul>\n",
       "<!-- 순위 --><span class=\"grade\">5</span>\n",
       "</li>\n",
       "<li class=\"people_li\">\n",
       "<a href=\"/db/person/info/?person_id=32987\"><img alt=\"\" class=\"people_thumb\" src=\"https://image.cine21.com/resize/cine21/person/2021/0713/19_03_32__60ed64f4d30da[X145,145].jpg\" target=\"_blank\"/></a>\n",
       "<div class=\"name\"><a href=\"/db/person/info/?person_id=32987\">박영남(1편)</a></div>\n",
       "<ul class=\"num_info\">\n",
       "<li><span class=\"tit\">흥행지수</span><strong>27,908</strong></li>\n",
       "<!--\n",
       "\t\t\t\t\t\t<li><a href=\"#\" class=\"btn_graph\"><span class=\"ico\"></span><span>흥행성적<br />그래프로 보기</span></a></li>\n",
       "\t\t\t\t\t\t-->\n",
       "</ul>\n",
       "<!-- 영화포스터는 최대 5개까지만 -->\n",
       "<ul class=\"mov_list\">\n",
       "<li>\n",
       "<a href=\"/movie/info/?movie_id=58107\">\n",
       "<img alt=\"\" class=\"thumb\" src=\"https://image.cine21.com/resize/cine21/poster/2021/0903/11_52_57__61318e09828ca[X85,120].jpg\" target=\"_blank\"/>\n",
       "<span>극장판 짱구는 못말려: 격돌! 낙서왕국과 얼추 네 명의 용사들</span>\n",
       "</a>\n",
       "</li>\n",
       "</ul>\n",
       "<!-- 순위 --><span class=\"grade\">6</span>\n",
       "</li>\n",
       "<li class=\"people_li\">\n",
       "<a href=\"/db/person/info/?person_id=74727\"><img alt=\"\" class=\"people_thumb\" src=\"https://image.cine21.com/resize/cine21/person/2021/0713/19_05_58__60ed65866f3cd[X145,145].jpg\" target=\"_blank\"/></a>\n",
       "<div class=\"name\"><a href=\"/db/person/info/?person_id=74727\">김환진(1편)</a></div>\n",
       "<ul class=\"num_info\">\n",
       "<li><span class=\"tit\">흥행지수</span><strong>24,419</strong></li>\n",
       "<!--\n",
       "\t\t\t\t\t\t<li><a href=\"#\" class=\"btn_graph\"><span class=\"ico\"></span><span>흥행성적<br />그래프로 보기</span></a></li>\n",
       "\t\t\t\t\t\t-->\n",
       "</ul>\n",
       "<!-- 영화포스터는 최대 5개까지만 -->\n",
       "<ul class=\"mov_list\">\n",
       "<li>\n",
       "<a href=\"/movie/info/?movie_id=58107\">\n",
       "<img alt=\"\" class=\"thumb\" src=\"https://image.cine21.com/resize/cine21/poster/2021/0903/11_52_57__61318e09828ca[X85,120].jpg\" target=\"_blank\"/>\n",
       "<span>극장판 짱구는 못말려: 격돌! 낙서왕국과 얼추 네 명의 용사들</span>\n",
       "</a>\n",
       "</li>\n",
       "</ul>\n",
       "<!-- 순위 --><span class=\"grade\">7</span>\n",
       "</li>\n",
       "</ul>\n",
       "<div class=\"pagination\"><a class=\"btn_first\" href=\"javascript:fetch_list(1)\"><span class=\"hidden\">처음으로</span><span class=\"ico\"></span></a><div class=\"page\"><a class=\"on\" href=\"javascript:;\">1</a><a href=\"javascript:fetch_list(2)\">2</a><a href=\"javascript:fetch_list(3)\">3</a><a href=\"javascript:fetch_list(4)\">4</a><a href=\"javascript:fetch_list(5)\">5</a><a href=\"javascript:fetch_list(6)\">6</a><a href=\"javascript:fetch_list(7)\">7</a><a href=\"javascript:fetch_list(8)\">8</a><a href=\"javascript:fetch_list(9)\">9</a><a href=\"javascript:fetch_list(10)\">10</a></div><a class=\"btn_next\" href=\"javascript:fetch_list(11)\"><span class=\"hidden\">다음</span><span class=\"ico\"></span></a><a class=\"btn_end\" href=\"javascript:fetch_list(73)\"><span class=\"hidden\">끝으로</span><span class=\"ico\"></span></a> </div>"
      ]
     },
     "execution_count": 22,
     "metadata": {},
     "output_type": "execute_result"
    }
   ],
   "source": [
    "\n",
    "# soup  = bs(response.content.decode('utf-8'), 'html.parser')\n",
    "soup  = bs(response.content, 'html.parser')\n",
    "soup"
   ]
  },
  {
   "cell_type": "code",
   "execution_count": null,
   "metadata": {},
   "outputs": [],
   "source": [
    "#rank_holder > ul > li:nth-child(1) > div > a"
   ]
  },
  {
   "cell_type": "code",
   "execution_count": null,
   "metadata": {},
   "outputs": [],
   "source": []
  },
  {
   "cell_type": "code",
   "execution_count": 62,
   "metadata": {},
   "outputs": [
    {
     "name": "stdout",
     "output_type": "stream",
     "text": [
      "박정민(1편)\n"
     ]
    }
   ],
   "source": [
    "tds = soup.select(\"div.name\")\n",
    "for i in tds:\n",
    "    i = tds[0].get_text(strip=True)\n",
    "print(i)"
   ]
  },
  {
   "cell_type": "code",
   "execution_count": 23,
   "metadata": {
    "scrolled": true
   },
   "outputs": [
    {
     "name": "stdout",
     "output_type": "stream",
     "text": [
      "마동석\n"
     ]
    }
   ],
   "source": [
    "# 정규 표현식 참고 : https://regexr.com/\n",
    "# 문자, 숫자를 찾음 : \\w\n",
    "# 특수 기호 () 문자로 인식 : \\( \\)\n",
    "\n",
    "# 2. 반복 표현 ?, *, +\n",
    "# + : 앞 문자가 1번 또는 그 이상 반복되는 패턴\n",
    "# ? : 앞 문자가 0번 또는 1번 표시되는 패턴(없어도 되고, 한번 있어도 되는 패턴)\n",
    "# * : 앞 문자가 0번 또는 그이상 반복되는 패턴\n",
    "import re\n",
    "test_data = '마동석(17편)'\n",
    "#re.sub('정규표현식', '변경데이터', test_data)\n",
    "print(re.sub(\"\\(\\w+\\)\", \"\", test_data))"
   ]
  },
  {
   "cell_type": "code",
   "execution_count": 63,
   "metadata": {},
   "outputs": [
    {
     "name": "stdout",
     "output_type": "stream",
     "text": [
      "박정민\n",
      "이성민\n",
      "임윤아\n",
      "노회찬\n",
      "이수경\n",
      "박영남\n",
      "김환진\n"
     ]
    }
   ],
   "source": [
    "# [실습]\n",
    "# 한 페이지 내의 배우이름만 가져오기\n",
    "import re\n",
    "\n",
    "data_list = []\n",
    "for tt in tds:\n",
    "    print(re.sub(\"\\(\\w+\\)\", \"\", tt.getText(strip=True)))\n",
    "    data_list.append((re.sub(\"\\(\\w+\\)\", \"\", tt.getText(strip=True))))\n"
   ]
  },
  {
   "cell_type": "code",
   "execution_count": 35,
   "metadata": {},
   "outputs": [
    {
     "name": "stdout",
     "output_type": "stream",
     "text": [
      "['박정민', '이성민', '임윤아', '노회찬', '이수경', '박영남', '김환진']\n"
     ]
    }
   ],
   "source": [
    "print(data_list)"
   ]
  },
  {
   "cell_type": "code",
   "execution_count": null,
   "metadata": {},
   "outputs": [],
   "source": []
  },
  {
   "cell_type": "markdown",
   "metadata": {},
   "source": [
    "### 각 배우별 상세 정보를 document에 넣고 싶다.\n",
    "* 각 배우별 상세 정보를 별도 컬럼으로 만들려했더니, 각 배우별 상세 정보 항목이 다르다!\n",
    "* 모든 상세 정보 항목을 컬럼으로 만들고, 각 컬럼에 매칭되는 컬럼값을 넣기가 쉽지 않다. 코드도 복잡하고!\n",
    "* Mongodb는 NoSQL -> 통째로 집어넣자.!"
   ]
  },
  {
   "cell_type": "markdown",
   "metadata": {},
   "source": [
    "* embedded document\n",
    "  - document 의 컬럼값으로 document를 넣을 수 있다."
   ]
  },
  {
   "cell_type": "code",
   "execution_count": null,
   "metadata": {},
   "outputs": [],
   "source": [
    "#info_content > div.default_info_area > ul.default_info\n",
    "# http://www.cine21.com/inc/www/css/content1.css\n",
    "# http://www.cine21.com/db/person/info/?person_id=74826\n",
    "# http://www.cine21.com/db/person/info/?person_id=25123"
   ]
  },
  {
   "cell_type": "code",
   "execution_count": 46,
   "metadata": {},
   "outputs": [
    {
     "name": "stdout",
     "output_type": "stream",
     "text": [
      "직업배우생년월일1987-02-25성별남신장/체중178cm, 63kg학교한국예술종합학교 영상원 연극원 연기과\n",
      "직업배우생년월일1968-10-15성별남신장/체중178cm\n",
      "다른 이름소녀시대; girlsgeneration; girls generation직업가수생년월일1990-05-30성별여홈페이지https://www.instagram.com/yoona__lim/소속사SM엔터테인먼트\n",
      "생년월일1956-08-31사망2018-07-23성별남홈페이지https://twitter.com/hcrohhttps://www.facebook.com/omyChans\n",
      "직업배우생년월일1996-10-24성별여\n",
      "직업성우생년월일1946-10-08성별여\n",
      "직업성우생년월일1952-10-03성별남\n"
     ]
    }
   ],
   "source": [
    "data_li= []\n",
    "for i in tds:\n",
    "    li = \" http://www.cine21.com\" + i.select_one('a').attrs['href']\n",
    "    res_url = req.get(li)\n",
    "    soup_actor = bs(res_url.content, \"html.parser\")\n",
    "    default_info = soup_actor.select_one('ul.default_info')\n",
    "    print(re.sub(\"\\(\\w+\\)\", \"\", default_info.getText(strip=True)))\n",
    "   \n"
   ]
  },
  {
   "cell_type": "code",
   "execution_count": 40,
   "metadata": {},
   "outputs": [
    {
     "data": {
      "text/plain": [
       "'/db/person/info/?person_id=74826'"
      ]
     },
     "execution_count": 40,
     "metadata": {},
     "output_type": "execute_result"
    }
   ],
   "source": [
    "tds[0].select_one('a').attrs['href']"
   ]
  },
  {
   "cell_type": "code",
   "execution_count": 82,
   "metadata": {},
   "outputs": [
    {
     "name": "stdout",
     "output_type": "stream",
     "text": [
      "<li>배우</li>\n",
      "배우\n",
      "<li>1987-02-25</li>\n",
      "1987-02-25\n",
      "<li>남</li>\n",
      "남\n",
      "<li>178cm, 63kg</li>\n",
      "178cm, 63kg\n",
      "<li>한국예술종합학교 영상원 연극원 연기과</li>\n",
      "한국예술종합학교 영상원 연극원 연기과\n",
      "{'직업': '배우', '생년월일': '1987-02-25', '성별': '남', '신장/체중': '178cm, 63kg', '학교': '한국예술종합학교 영상원 연극원 연기과'}\n",
      "<li>배우</li>\n",
      "배우\n",
      "<li>1968-10-15</li>\n",
      "1968-10-15\n",
      "<li>남</li>\n",
      "남\n",
      "<li>178cm</li>\n",
      "178cm\n",
      "{'직업': '배우', '생년월일': '1968-10-15', '성별': '남', '신장/체중': '178cm'}\n",
      "<li>소녀시대; girlsgeneration; girls generation</li>\n",
      "소녀시대; girlsgeneration; girls generation\n",
      "<li>가수</li>\n",
      "가수\n",
      "<li>1990-05-30</li>\n",
      "1990-05-30\n",
      "<li>여</li>\n",
      "여\n",
      "<li>\n",
      "<a href=\"https://www.instagram.com/yoona__lim/\" target=\"_blank\">https://www.instagram.com/yoona__lim/</a><br/>\n",
      "</li>\n",
      "https://www.instagram.com/yoona__lim/\n",
      "<li>SM엔터테인먼트</li>\n",
      "SM엔터테인먼트\n",
      "{'다른 이름': '소녀시대; girlsgeneration; girls generation', '직업': '가수', '생년월일': '1990-05-30', '성별': '여', '홈페이지': 'https://www.instagram.com/yoona__lim/', '소속사': 'SM엔터테인먼트'}\n",
      "<li>1956-08-31</li>\n",
      "1956-08-31\n",
      "<li>2018-07-23</li>\n",
      "2018-07-23\n",
      "<li>남</li>\n",
      "남\n",
      "<li>\n",
      "<a href=\"https://twitter.com/hcroh\" target=\"_blank\">https://twitter.com/hcroh</a><br/>\n",
      "<a href=\"https://www.facebook.com/omyChans\" target=\"_blank\">https://www.facebook.com/omyChans</a><br/>\n",
      "</li>\n",
      "https://twitter.com/hcroh\n",
      "https://www.facebook.com/omyChans\n",
      "{'생년월일': '1956-08-31', '사망': '2018-07-23', '성별': '남', '홈페이지': 'https://twitter.com/hcroh\\nhttps://www.facebook.com/omyChans'}\n",
      "<li>배우</li>\n",
      "배우\n",
      "<li>1996-10-24</li>\n",
      "1996-10-24\n",
      "<li>여</li>\n",
      "여\n",
      "{'직업': '배우', '생년월일': '1996-10-24', '성별': '여'}\n",
      "<li>성우</li>\n",
      "성우\n",
      "<li>1946-10-08</li>\n",
      "1946-10-08\n",
      "<li>여</li>\n",
      "여\n",
      "{'직업': '성우', '생년월일': '1946-10-08', '성별': '여'}\n",
      "<li>성우</li>\n",
      "성우\n",
      "<li>1952-10-03</li>\n",
      "1952-10-03\n",
      "<li>남</li>\n",
      "남\n",
      "{'직업': '성우', '생년월일': '1952-10-03', '성별': '남'}\n"
     ]
    }
   ],
   "source": [
    "for i in tds:\n",
    "    li = \" http://www.cine21.com\" + i.select_one('a').attrs['href']\n",
    "    res_url = req.get(li)\n",
    "    soup_actor = bs(res_url.content, \"html.parser\")\n",
    "    default_info = soup_actor.select_one('ul.default_info')   \n",
    "    \n",
    "    actor_details = default_info.select('li')\n",
    "    actor_info_dict = dict()\n",
    "    \n",
    "    for actor_detail in actor_details:\n",
    "        actor_detail_key = actor_detail.select_one('span.tit').get_text(strip=True)\n",
    "        actor_detail_value = re.sub('<span.*?>.*?</span>','',str(actor_detail))\n",
    "        print(actor_detail_value)\n",
    "        actor_detail_value = re.sub('<.*?>','',actor_detail_value).strip()\n",
    "        print(actor_detail_value)\n",
    "\n",
    "\n",
    "        # a = actor_detail\n",
    "        # print(type(a))\n",
    "        # b = actor_detail.select_one('span').extract() #.get_text()\n",
    "        # print(type(b))\n",
    "        # c = actor_detail #.get_text()\n",
    "        # print(type(c))\n",
    "        # print(\"-\" * 10)\n",
    "\n",
    "        actor_info_dict[actor_detail_key] = actor_detail_value\n",
    "       \n",
    "    print(actor_info_dict)"
   ]
  },
  {
   "cell_type": "code",
   "execution_count": 60,
   "metadata": {},
   "outputs": [
    {
     "name": "stdout",
     "output_type": "stream",
     "text": [
      "161,725\n"
     ]
    }
   ],
   "source": [
    "tdds = soup.select(\"ul.num_info strong\")\n",
    "for i in tdds:\n",
    "    i = tdds[0].get_text(strip=True)\n",
    "print(i)"
   ]
  },
  {
   "cell_type": "code",
   "execution_count": 64,
   "metadata": {},
   "outputs": [
    {
     "name": "stdout",
     "output_type": "stream",
     "text": [
      "161,725\n",
      "121,294\n",
      "80,862\n",
      "51,594\n",
      "40,431\n",
      "27,908\n",
      "24,419\n"
     ]
    }
   ],
   "source": [
    "#rank_holder > ul > li:nth-child(1) > ul.num_info > li > strong\n",
    "\n",
    "import re\n",
    "\n",
    "data_list = []\n",
    "for ttt in tdds:\n",
    "    print(re.sub(\"\\(\\w+\\)\", \"\", ttt.getText(strip=True)))\n",
    "    data_list.append((re.sub(\"\\(\\w+\\)\", \"\", ttt.getText(strip=True))))"
   ]
  },
  {
   "cell_type": "code",
   "execution_count": null,
   "metadata": {},
   "outputs": [],
   "source": []
  },
  {
   "cell_type": "code",
   "execution_count": null,
   "metadata": {},
   "outputs": [],
   "source": []
  },
  {
   "cell_type": "code",
   "execution_count": null,
   "metadata": {},
   "outputs": [],
   "source": []
  },
  {
   "cell_type": "markdown",
   "metadata": {},
   "source": [
    "### 흥행지수 뽑기"
   ]
  },
  {
   "cell_type": "code",
   "execution_count": null,
   "metadata": {},
   "outputs": [],
   "source": []
  },
  {
   "cell_type": "code",
   "execution_count": null,
   "metadata": {},
   "outputs": [],
   "source": []
  },
  {
   "cell_type": "code",
   "execution_count": null,
   "metadata": {},
   "outputs": [],
   "source": []
  },
  {
   "cell_type": "code",
   "execution_count": null,
   "metadata": {},
   "outputs": [],
   "source": []
  },
  {
   "cell_type": "code",
   "execution_count": null,
   "metadata": {},
   "outputs": [],
   "source": []
  },
  {
   "cell_type": "markdown",
   "metadata": {},
   "source": [
    "### 각 배우별 출연 영화를 document에 저장하고 싶다.\n",
    "  - 출연 영화는 한 개가 될 수도 있고, 여러 개가 될 수도 있음\n",
    "  - 파이썬은 리스트, mongodb document는 컬럼에 배열(array)로 넣으면 됨 "
   ]
  },
  {
   "cell_type": "code",
   "execution_count": 81,
   "metadata": {},
   "outputs": [
    {
     "name": "stdout",
     "output_type": "stream",
     "text": [
      "기적\n",
      "----------\n",
      "기적\n",
      "----------\n",
      "기적\n",
      "----------\n",
      "노회찬6411\n",
      "----------\n",
      "기적\n",
      "----------\n",
      "극장판 짱구는 못말려: 격돌! 낙서왕국과 얼추 네 명의 용사들\n",
      "----------\n",
      "극장판 짱구는 못말려: 격돌! 낙서왕국과 얼추 네 명의 용사들\n",
      "----------\n"
     ]
    }
   ],
   "source": [
    "movie_list = list()\n",
    "movies = soup.select('li.people_li ul.mov_list')\n",
    "# print(movies)\n",
    "\n",
    "for movie in movies:\n",
    "    actor_movies = list()\n",
    "    movie_titles = movie.select('ul.mov_list li a span')\n",
    "    for movie_title in movie_titles:\n",
    "        actor_movies.append(movie_title.text)\n",
    "        print(movie_title.text)\n",
    "    movie_list.append(actor_movies)\n",
    "    print('-'*10)"
   ]
  },
  {
   "cell_type": "code",
   "execution_count": 74,
   "metadata": {},
   "outputs": [
    {
     "name": "stdout",
     "output_type": "stream",
     "text": [
      "161,725\n",
      "121,294\n",
      "80,862\n",
      "51,594\n",
      "40,431\n",
      "27,908\n",
      "24,419\n"
     ]
    }
   ],
   "source": [
    "data_list1 = []\n",
    "for ttt in tdds:\n",
    "    print(re.sub(\"\\(\\w+\\)\", \"\", ttt.getText(strip=True)))\n",
    "    data_list1.append((re.sub(\"\\(\\w+\\)\", \"\", ttt.getText(strip=True))))"
   ]
  },
  {
   "cell_type": "code",
   "execution_count": null,
   "metadata": {},
   "outputs": [],
   "source": [
    "#rank_holder > ul > li:nth-child(1) > ul.mov_list > li > a > span"
   ]
  },
  {
   "cell_type": "code",
   "execution_count": null,
   "metadata": {},
   "outputs": [],
   "source": []
  },
  {
   "cell_type": "markdown",
   "metadata": {},
   "source": [
    "### insert_one() 로 하나씩 데이터 입력하기 (반복문과 함께 사용하면, 여러 데이터를 넣을 수 있음)"
   ]
  },
  {
   "cell_type": "markdown",
   "metadata": {},
   "source": [
    "- actor_list: 배우 이름\n",
    "- actor_details: 배우 상세 정보\n",
    "- actor_rate: 흥행 지수\n",
    "- date: 기준월\n",
    "- movie_list: 출연 영화 리스트!"
   ]
  },
  {
   "cell_type": "code",
   "execution_count": 85,
   "metadata": {},
   "outputs": [],
   "source": [
    "for num, actor in enumerate(actor_list):\n",
    "    actor_collection.insert_one(\n",
    "        {\"actor\":actor,\n",
    "        \"actor_details\": actor_info_dict[num],\n",
    "        \"actor_hit\":data_list1[num],\n",
    "        \"date\":month,\n",
    "        \"movie_list\":movie_list[num]\n",
    "        } )\n"
   ]
  },
  {
   "cell_type": "code",
   "execution_count": null,
   "metadata": {},
   "outputs": [],
   "source": []
  },
  {
   "cell_type": "code",
   "execution_count": null,
   "metadata": {},
   "outputs": [],
   "source": []
  },
  {
   "cell_type": "code",
   "execution_count": null,
   "metadata": {},
   "outputs": [],
   "source": []
  },
  {
   "cell_type": "markdown",
   "metadata": {},
   "source": [
    "### collection 삭제하기"
   ]
  },
  {
   "cell_type": "code",
   "execution_count": null,
   "metadata": {},
   "outputs": [],
   "source": []
  },
  {
   "cell_type": "code",
   "execution_count": null,
   "metadata": {},
   "outputs": [],
   "source": []
  },
  {
   "cell_type": "code",
   "execution_count": null,
   "metadata": {
    "collapsed": true,
    "scrolled": true
   },
   "outputs": [],
   "source": [
    "# collection drop\n",
    "actor_collection.drop()"
   ]
  },
  {
   "cell_type": "code",
   "execution_count": null,
   "metadata": {
    "collapsed": true,
    "scrolled": true
   },
   "outputs": [],
   "source": [
    "# collection 찾기\n",
    "docs = actor_collection.find()\n",
    "docs"
   ]
  },
  {
   "cell_type": "code",
   "execution_count": null,
   "metadata": {
    "collapsed": true,
    "scrolled": true
   },
   "outputs": [],
   "source": [
    "for doc in docs:\n",
    "    print(doc)"
   ]
  },
  {
   "cell_type": "markdown",
   "metadata": {},
   "source": [
    "### Dictionary 타입으로 만들어서 한번에 insert_many() 로 데이터 입력하기"
   ]
  },
  {
   "cell_type": "code",
   "execution_count": null,
   "metadata": {},
   "outputs": [],
   "source": []
  },
  {
   "cell_type": "code",
   "execution_count": null,
   "metadata": {},
   "outputs": [],
   "source": []
  },
  {
   "cell_type": "code",
   "execution_count": null,
   "metadata": {},
   "outputs": [],
   "source": []
  },
  {
   "cell_type": "markdown",
   "metadata": {},
   "source": [
    "### Update (컬럼명 변경 예제)"
   ]
  },
  {
   "cell_type": "code",
   "execution_count": null,
   "metadata": {},
   "outputs": [],
   "source": []
  },
  {
   "cell_type": "code",
   "execution_count": null,
   "metadata": {},
   "outputs": [],
   "source": []
  },
  {
   "cell_type": "code",
   "execution_count": null,
   "metadata": {},
   "outputs": [],
   "source": []
  },
  {
   "cell_type": "code",
   "execution_count": null,
   "metadata": {},
   "outputs": [],
   "source": []
  },
  {
   "cell_type": "markdown",
   "metadata": {},
   "source": [
    "### 컬렉션 객체 이름도 바꿀 수 있겠지요\n",
    "actor_collection -> actors_info 로 변경"
   ]
  },
  {
   "cell_type": "code",
   "execution_count": null,
   "metadata": {},
   "outputs": [],
   "source": []
  },
  {
   "cell_type": "code",
   "execution_count": null,
   "metadata": {},
   "outputs": [],
   "source": []
  },
  {
   "cell_type": "code",
   "execution_count": null,
   "metadata": {},
   "outputs": [],
   "source": []
  },
  {
   "cell_type": "code",
   "execution_count": null,
   "metadata": {},
   "outputs": [],
   "source": []
  }
 ],
 "metadata": {
  "interpreter": {
   "hash": "fc13c0a8e8d12ce08c95072973631411a4695aaf4b5a0fe7d466f6f9f1488ae1"
  },
  "kernelspec": {
   "display_name": "Python 3 (ipykernel)",
   "language": "python",
   "name": "python3"
  },
  "language_info": {
   "codemirror_mode": {
    "name": "ipython",
    "version": 3
   },
   "file_extension": ".py",
   "mimetype": "text/x-python",
   "name": "python",
   "nbconvert_exporter": "python",
   "pygments_lexer": "ipython3",
   "version": "3.8.0"
  },
  "nbTranslate": {
   "displayLangs": [
    "*"
   ],
   "hotkey": "alt-t",
   "langInMainMenu": true,
   "sourceLang": "en",
   "targetLang": "fr",
   "useGoogleTranslate": true
  }
 },
 "nbformat": 4,
 "nbformat_minor": 1
}
