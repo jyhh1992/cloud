{
 "cells": [
  {
   "cell_type": "markdown",
   "source": [
    "# 1. 크롤링과 함께 쓰는 mongoDB 예제"
   ],
   "metadata": {
    "collapsed": true
   }
  },
  {
   "cell_type": "markdown",
   "source": [
    "### cine21 인물 랭킹 알아내기\n",
    "  - http://www.cine21.com/rank/person/\n",
    "  - 조회를 눌렀을 때, Go to Network -> content 의 Request URL/Method 와 Form 데이터 알아내기\n",
    "    - Request URL: http://www.cine21.com/rank/person/content\n",
    "    - Request Method: POST\n",
    "    - Form Data\n",
    "      - section:actor\n",
    "      - period_start:2021-10\n",
    "      - gender:all\n",
    "      - page:1\n",
    "    - 하단부 페이지를 누를 때마다, Form Data 의 page 값이 바뀜"
   ],
   "metadata": {}
  },
  {
   "cell_type": "code",
   "execution_count": 1,
   "source": [
    "import requests as req\n",
    "import re\n",
    "import datetime\n",
    "from bs4 import BeautifulSoup as bs\n",
    "from pymongo import MongoClient\n",
    "import pymongo"
   ],
   "outputs": [],
   "metadata": {
    "collapsed": true,
    "scrolled": true
   }
  },
  {
   "cell_type": "code",
   "execution_count": 2,
   "source": [
    "# 몽고DB 서버 연결\n",
    "username = 'rapa00'\n",
    "password = '1234'\n",
    "conn = pymongo.MongoClient('mongodb://%s:%s@127.0.0.1' % (username, password))"
   ],
   "outputs": [],
   "metadata": {
    "collapsed": true,
    "scrolled": true
   }
  },
  {
   "cell_type": "code",
   "execution_count": 3,
   "source": [
    "# db, collection 연결(없으면 생성)\n",
    "# python과 연동되었을 때, db와 collection의 경우, document insert 싯점에 생성됨\n",
    "mongodb = conn.cine21\n",
    "actor_collection = mongodb.actor_collection"
   ],
   "outputs": [],
   "metadata": {
    "collapsed": true,
    "scrolled": true
   }
  },
  {
   "cell_type": "code",
   "execution_count": 4,
   "source": [
    "# actor 정보가 있는지 확인하기\n",
    "actor_list = actor_collection.find()\n",
    "for actor in actor_list:\n",
    "    print(actor['actor'])"
   ],
   "outputs": [
    {
     "output_type": "error",
     "ename": "KeyError",
     "evalue": "'actor'",
     "traceback": [
      "\u001b[0;31m---------------------------------------------------------------------------\u001b[0m",
      "\u001b[0;31mKeyError\u001b[0m                                  Traceback (most recent call last)",
      "\u001b[0;32m/tmp/ipykernel_2825/83191933.py\u001b[0m in \u001b[0;36m<module>\u001b[0;34m\u001b[0m\n\u001b[1;32m      2\u001b[0m \u001b[0mactor_list\u001b[0m \u001b[0;34m=\u001b[0m \u001b[0mactor_collection\u001b[0m\u001b[0;34m.\u001b[0m\u001b[0mfind\u001b[0m\u001b[0;34m(\u001b[0m\u001b[0;34m)\u001b[0m\u001b[0;34m\u001b[0m\u001b[0;34m\u001b[0m\u001b[0m\n\u001b[1;32m      3\u001b[0m \u001b[0;32mfor\u001b[0m \u001b[0mactor\u001b[0m \u001b[0;32min\u001b[0m \u001b[0mactor_list\u001b[0m\u001b[0;34m:\u001b[0m\u001b[0;34m\u001b[0m\u001b[0;34m\u001b[0m\u001b[0m\n\u001b[0;32m----> 4\u001b[0;31m     \u001b[0mprint\u001b[0m\u001b[0;34m(\u001b[0m\u001b[0mactor\u001b[0m\u001b[0;34m[\u001b[0m\u001b[0;34m'actor'\u001b[0m\u001b[0;34m]\u001b[0m\u001b[0;34m)\u001b[0m\u001b[0;34m\u001b[0m\u001b[0;34m\u001b[0m\u001b[0m\n\u001b[0m",
      "\u001b[0;31mKeyError\u001b[0m: 'actor'"
     ]
    }
   ],
   "metadata": {
    "scrolled": true
   }
  },
  {
   "cell_type": "code",
   "execution_count": null,
   "source": [
    "# request url http://www.cine21.com/rank/person\n",
    "def get_pages(page):\n",
    "    cine21_url = 'http://www.cine21.com/rank/person/content'\n",
    "    month = \"2021-10\"\n",
    "    # post 방식으로 데이터를 가져오기 위한 request 시 필요 정보 F12/network 의 content/header에서 url과 form data 확인함.\n",
    "    conditions = dict()\n",
    "    conditions['section'] = 'actor'\n",
    "    conditions['period_start'] = month\n",
    "    conditions['gender'] = 'all'\n",
    "    conditions['page'] = page \n",
    "\n",
    "    # post 방식으로 request 요청\n",
    "    res = req.post(cine21_url, data = conditions)\n",
    "    print(conditions)\n",
    "    soup = bs(res.text, \"html.parser\")\n",
    "    return soup"
   ],
   "outputs": [],
   "metadata": {
    "collapsed": true,
    "scrolled": true
   }
  },
  {
   "cell_type": "code",
   "execution_count": null,
   "source": [
    "def get_items(soup):\n",
    "    actor=[]\n",
    "    urls=[]\n",
    "    tds = soup.select(\"div.name>a\")\n",
    "    for td in tds:\n",
    "        actor.append(td.get_text(strip=True).split(\"(\")[0])\n",
    "        urls.append(td[\"href\"])\n",
    "\n",
    "    score = []\n",
    "    tds = soup.select(\"li>strong\")\n",
    "    for td in tds:\n",
    "        score.append(td.get_text(strip=True).replace(\",\",\"\"))\n",
    "\n",
    "    movie =[]\n",
    "    tds = soup.select(\"li.people_li>ul.mov_list>li>a>span\")  \n",
    "    for td in tds:\n",
    "        movie.append(td.get_text(strip=True))\n",
    "\n",
    "    print(actor, score, movie, urls)   \n",
    "    return actor, score, movie, urls "
   ],
   "outputs": [],
   "metadata": {}
  },
  {
   "cell_type": "code",
   "execution_count": null,
   "source": [
    " \n",
    "def put_data(actor, score, movie, urls):\n",
    "    for i, j, k, l in zip(actor, score, movie, urls):\n",
    "        post ={}\n",
    "        post['actor'] = i\n",
    "        post['score'] = j\n",
    "        post['movie'] = k\n",
    "\n",
    "        cine21_url=\"http://www.cine21.com\" + l\n",
    "        #print(cine21_url)\n",
    "        res = req.post(cine21_url, data = conditions)\n",
    "        soup = bs(res.text, \"html.parser\")\n",
    "        tds = soup.select(\"ul.default_info>li\")\n",
    "        dic={}\n",
    "        for td in tds:\n",
    "    #        print(td)\n",
    "            key = (td.select(\"li>span\")[0].get_text(strip = True))\n",
    "            value = (td.get_text(strip = True)).split(key)[1]\n",
    "            dic[key] = value   \n",
    "        post['basic_info'] = dic\n",
    "        actor_collection.insert_one(post)    "
   ],
   "outputs": [],
   "metadata": {}
  },
  {
   "cell_type": "code",
   "execution_count": null,
   "source": [
    "page = int(input(\"몇 page data를 가져올까요? :\"))\n",
    "for i in range(1,page + 1):\n",
    "    print(page)\n",
    "    soup = get_pages(page)\n",
    "    actor, score, movie, urls = get_items(soup)\n",
    "    put_data(actor, score, movie, urls)\n",
    "\n"
   ],
   "outputs": [
    {
     "output_type": "stream",
     "name": "stdout",
     "text": [
      "['정만식', '박재욱', '장해송', '김강민', '강찬희', '정혜옥', '구교환'] ['8130', '7812', '7647', '7276', '6988', '6978', '6413'] ['모가디슈', '지푸라기라도 잡고 싶은 짐승들', '타다: 대한민국 스타트업의 초상', '수색자', 'F20', '화이트데이: 부서진 결계', '극장판 짱구는 못말려: 격돌! 낙서왕국과 얼추 네 명의 용사들', '모가디슈', '메기', '우리 손자 베스트', '반도'] ['/db/person/info/?person_id=64972', '/db/person/info/?person_id=118687', '/db/person/info/?person_id=118816', '/db/person/info/?person_id=113836', '/db/person/info/?person_id=96300', '/db/person/info/?person_id=99053', '/db/person/info/?person_id=71787']\n",
      "['정만식', '박재욱', '장해송', '김강민', '강찬희', '정혜옥', '구교환'] ['8130', '7812', '7647', '7276', '6988', '6978', '6413'] ['모가디슈', '지푸라기라도 잡고 싶은 짐승들', '타다: 대한민국 스타트업의 초상', '수색자', 'F20', '화이트데이: 부서진 결계', '극장판 짱구는 못말려: 격돌! 낙서왕국과 얼추 네 명의 용사들', '모가디슈', '메기', '우리 손자 베스트', '반도'] ['/db/person/info/?person_id=64972', '/db/person/info/?person_id=118687', '/db/person/info/?person_id=118816', '/db/person/info/?person_id=113836', '/db/person/info/?person_id=96300', '/db/person/info/?person_id=99053', '/db/person/info/?person_id=71787']\n",
      "['정만식', '박재욱', '장해송', '김강민', '강찬희', '정혜옥', '구교환'] ['8130', '7812', '7647', '7276', '6988', '6978', '6413'] ['모가디슈', '지푸라기라도 잡고 싶은 짐승들', '타다: 대한민국 스타트업의 초상', '수색자', 'F20', '화이트데이: 부서진 결계', '극장판 짱구는 못말려: 격돌! 낙서왕국과 얼추 네 명의 용사들', '모가디슈', '메기', '우리 손자 베스트', '반도'] ['/db/person/info/?person_id=64972', '/db/person/info/?person_id=118687', '/db/person/info/?person_id=118816', '/db/person/info/?person_id=113836', '/db/person/info/?person_id=96300', '/db/person/info/?person_id=99053', '/db/person/info/?person_id=71787']\n",
      "['정만식', '박재욱', '장해송', '김강민', '강찬희', '정혜옥', '구교환'] ['8130', '7812', '7647', '7276', '6988', '6978', '6413'] ['모가디슈', '지푸라기라도 잡고 싶은 짐승들', '타다: 대한민국 스타트업의 초상', '수색자', 'F20', '화이트데이: 부서진 결계', '극장판 짱구는 못말려: 격돌! 낙서왕국과 얼추 네 명의 용사들', '모가디슈', '메기', '우리 손자 베스트', '반도'] ['/db/person/info/?person_id=64972', '/db/person/info/?person_id=118687', '/db/person/info/?person_id=118816', '/db/person/info/?person_id=113836', '/db/person/info/?person_id=96300', '/db/person/info/?person_id=99053', '/db/person/info/?person_id=71787']\n"
     ]
    }
   ],
   "metadata": {}
  },
  {
   "cell_type": "code",
   "execution_count": null,
   "source": [
    "# 정규 표현식 참고 : https://regexr.com/\n",
    "# 문자, 숫자를 찾음 : \\w\n",
    "# 특수 기호 () 문자로 인식 : \\( \\)\n",
    "\n",
    "# 2. 반복 표현 ?, *, +\n",
    "# + : 앞 문자가 1번 또는 그 이상 반복되는 패턴\n",
    "# ? : 앞 문자가 0번 또는 1번 표시되는 패턴(없어도 되고, 한번 있어도 되는 패턴)\n",
    "# * : 앞 문자가 0번 또는 그이상 반복되는 패턴\n",
    "import re\n",
    "test_data = '마동석(17편)'\n",
    "#re.sub('정규표현식', '변경데이터', test_data)\n",
    "print(re.sub(\"\\(\\w+\\)\", \"\", test_data))"
   ],
   "outputs": [
    {
     "output_type": "stream",
     "name": "stdout",
     "text": [
      "마동석\n"
     ]
    }
   ],
   "metadata": {
    "scrolled": true
   }
  },
  {
   "cell_type": "code",
   "execution_count": null,
   "source": [
    "# [실습]\n",
    "# 한 페이지 내의 배우이름만 가져오기\n",
    "import re\n",
    "\n"
   ],
   "outputs": [],
   "metadata": {}
  },
  {
   "cell_type": "markdown",
   "source": [
    "### 각 배우별 상세 정보를 document에 넣고 싶다.\n",
    "* 각 배우별 상세 정보를 별도 컬럼으로 만들려했더니, 각 배우별 상세 정보 항목이 다르다!\n",
    "* 모든 상세 정보 항목을 컬럼으로 만들고, 각 컬럼에 매칭되는 컬럼값을 넣기가 쉽지 않다. 코드도 복잡하고!\n",
    "* Mongodb는 NoSQL -> 통째로 집어넣자.!"
   ],
   "metadata": {}
  },
  {
   "cell_type": "markdown",
   "source": [
    "* embedded document\n",
    "  - document 의 컬럼값으로 document를 넣을 수 있다."
   ],
   "metadata": {}
  },
  {
   "cell_type": "code",
   "execution_count": null,
   "source": [],
   "outputs": [],
   "metadata": {}
  },
  {
   "cell_type": "code",
   "execution_count": null,
   "source": [],
   "outputs": [],
   "metadata": {}
  },
  {
   "cell_type": "code",
   "execution_count": null,
   "source": [],
   "outputs": [],
   "metadata": {}
  },
  {
   "cell_type": "code",
   "execution_count": null,
   "source": [],
   "outputs": [],
   "metadata": {}
  },
  {
   "cell_type": "code",
   "execution_count": null,
   "source": [],
   "outputs": [],
   "metadata": {}
  },
  {
   "cell_type": "markdown",
   "source": [
    "### 흥행지수 뽑기"
   ],
   "metadata": {}
  },
  {
   "cell_type": "code",
   "execution_count": null,
   "source": [],
   "outputs": [],
   "metadata": {}
  },
  {
   "cell_type": "code",
   "execution_count": null,
   "source": [],
   "outputs": [],
   "metadata": {}
  },
  {
   "cell_type": "code",
   "execution_count": null,
   "source": [],
   "outputs": [],
   "metadata": {}
  },
  {
   "cell_type": "code",
   "execution_count": null,
   "source": [],
   "outputs": [],
   "metadata": {}
  },
  {
   "cell_type": "code",
   "execution_count": null,
   "source": [],
   "outputs": [],
   "metadata": {}
  },
  {
   "cell_type": "markdown",
   "source": [
    "### 각 배우별 출연 영화를 document에 저장하고 싶다.\n",
    "  - 출연 영화는 한 개가 될 수도 있고, 여러 개가 될 수도 있음\n",
    "  - 파이썬은 리스트, mongodb document는 컬럼에 배열(array)로 넣으면 됨 "
   ],
   "metadata": {}
  },
  {
   "cell_type": "code",
   "execution_count": null,
   "source": [],
   "outputs": [],
   "metadata": {}
  },
  {
   "cell_type": "code",
   "execution_count": null,
   "source": [],
   "outputs": [],
   "metadata": {}
  },
  {
   "cell_type": "code",
   "execution_count": null,
   "source": [],
   "outputs": [],
   "metadata": {}
  },
  {
   "cell_type": "code",
   "execution_count": null,
   "source": [],
   "outputs": [],
   "metadata": {}
  },
  {
   "cell_type": "markdown",
   "source": [
    "### insert_one() 로 하나씩 데이터 입력하기 (반복문과 함께 사용하면, 여러 데이터를 넣을 수 있음)"
   ],
   "metadata": {}
  },
  {
   "cell_type": "markdown",
   "source": [
    "- actor_list: 배우 이름\n",
    "- actor_details: 배우 상세 정보\n",
    "- actor_rate: 흥행 지수\n",
    "- date: 기준월\n",
    "- movie_list: 출연 영화 리스트!"
   ],
   "metadata": {}
  },
  {
   "cell_type": "code",
   "execution_count": null,
   "source": [],
   "outputs": [],
   "metadata": {}
  },
  {
   "cell_type": "code",
   "execution_count": null,
   "source": [],
   "outputs": [],
   "metadata": {}
  },
  {
   "cell_type": "code",
   "execution_count": null,
   "source": [],
   "outputs": [],
   "metadata": {}
  },
  {
   "cell_type": "code",
   "execution_count": null,
   "source": [],
   "outputs": [],
   "metadata": {}
  },
  {
   "cell_type": "markdown",
   "source": [
    "### collection 삭제하기"
   ],
   "metadata": {}
  },
  {
   "cell_type": "code",
   "execution_count": null,
   "source": [],
   "outputs": [],
   "metadata": {}
  },
  {
   "cell_type": "code",
   "execution_count": null,
   "source": [],
   "outputs": [],
   "metadata": {}
  },
  {
   "cell_type": "code",
   "execution_count": null,
   "source": [
    "# collection drop\n",
    "actor_collection.drop()"
   ],
   "outputs": [],
   "metadata": {
    "collapsed": true,
    "scrolled": true
   }
  },
  {
   "cell_type": "code",
   "execution_count": null,
   "source": [
    "# collection 찾기\n",
    "docs = actor_collection.find()\n",
    "docs"
   ],
   "outputs": [],
   "metadata": {
    "collapsed": true,
    "scrolled": true
   }
  },
  {
   "cell_type": "code",
   "execution_count": null,
   "source": [
    "for doc in docs:\n",
    "    print(doc)"
   ],
   "outputs": [],
   "metadata": {
    "collapsed": true,
    "scrolled": true
   }
  },
  {
   "cell_type": "markdown",
   "source": [
    "### Dictionary 타입으로 만들어서 한번에 insert_many() 로 데이터 입력하기"
   ],
   "metadata": {}
  },
  {
   "cell_type": "code",
   "execution_count": null,
   "source": [],
   "outputs": [],
   "metadata": {}
  },
  {
   "cell_type": "code",
   "execution_count": null,
   "source": [],
   "outputs": [],
   "metadata": {}
  },
  {
   "cell_type": "code",
   "execution_count": null,
   "source": [],
   "outputs": [],
   "metadata": {}
  },
  {
   "cell_type": "markdown",
   "source": [
    "### Update (컬럼명 변경 예제)"
   ],
   "metadata": {}
  },
  {
   "cell_type": "code",
   "execution_count": null,
   "source": [],
   "outputs": [],
   "metadata": {}
  },
  {
   "cell_type": "code",
   "execution_count": null,
   "source": [],
   "outputs": [],
   "metadata": {}
  },
  {
   "cell_type": "code",
   "execution_count": null,
   "source": [],
   "outputs": [],
   "metadata": {}
  },
  {
   "cell_type": "code",
   "execution_count": null,
   "source": [],
   "outputs": [],
   "metadata": {}
  },
  {
   "cell_type": "markdown",
   "source": [
    "### 컬렉션 객체 이름도 바꿀 수 있겠지요\n",
    "actor_collection -> actors_info 로 변경"
   ],
   "metadata": {}
  },
  {
   "cell_type": "code",
   "execution_count": null,
   "source": [],
   "outputs": [],
   "metadata": {}
  },
  {
   "cell_type": "code",
   "execution_count": null,
   "source": [],
   "outputs": [],
   "metadata": {}
  },
  {
   "cell_type": "code",
   "execution_count": null,
   "source": [],
   "outputs": [],
   "metadata": {}
  },
  {
   "cell_type": "code",
   "execution_count": null,
   "source": [],
   "outputs": [],
   "metadata": {}
  }
 ],
 "metadata": {
  "interpreter": {
   "hash": "fc13c0a8e8d12ce08c95072973631411a4695aaf4b5a0fe7d466f6f9f1488ae1"
  },
  "kernelspec": {
   "name": "python3",
   "display_name": "Python 3.8.0 64-bit ('gathVENV': venv)"
  },
  "language_info": {
   "codemirror_mode": {
    "name": "ipython",
    "version": 3
   },
   "file_extension": ".py",
   "mimetype": "text/x-python",
   "name": "python",
   "nbconvert_exporter": "python",
   "pygments_lexer": "ipython3",
   "version": "3.8.0"
  },
  "nbTranslate": {
   "displayLangs": [
    "*"
   ],
   "hotkey": "alt-t",
   "langInMainMenu": true,
   "sourceLang": "en",
   "targetLang": "fr",
   "useGoogleTranslate": true
  }
 },
 "nbformat": 4,
 "nbformat_minor": 1
}