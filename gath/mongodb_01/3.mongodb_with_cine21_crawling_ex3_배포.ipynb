{
 "cells": [
  {
   "cell_type": "markdown",
   "source": [
    "# 1. 크롤링과 함께 쓰는 mongoDB 예제"
   ],
   "metadata": {
    "collapsed": true
   }
  },
  {
   "cell_type": "markdown",
   "source": [
    "### cine21 인물 랭킹 알아내기\n",
    "  - http://www.cine21.com/rank/person/\n",
    "  - 조회를 눌렀을 때, Go to Network -> content 의 Request URL/Method 와 Form 데이터 알아내기\n",
    "    - Request URL: http://www.cine21.com/rank/person/content\n",
    "    - Request Method: POST\n",
    "    - Form Data\n",
    "      - section:actor\n",
    "      - period_start:2021-10\n",
    "      - gender:all\n",
    "      - page:1\n",
    "    - 하단부 페이지를 누를 때마다, Form Data 의 page 값이 바뀜"
   ],
   "metadata": {}
  },
  {
   "cell_type": "code",
   "execution_count": 1,
   "source": [
    "import requests as req\n",
    "import re\n",
    "import datetime\n",
    "from bs4 import BeautifulSoup as bs\n",
    "from pymongo import MongoClient\n",
    "import pymongo"
   ],
   "outputs": [],
   "metadata": {
    "scrolled": true
   }
  },
  {
   "cell_type": "code",
   "execution_count": 2,
   "source": [
    "# 몽고DB 서버 연결\n",
    "username = 'rapa00'\n",
    "password = '1234'\n",
    "conn = pymongo.MongoClient('mongodb://%s:%s@127.0.0.1' % (username, password))"
   ],
   "outputs": [],
   "metadata": {
    "scrolled": true
   }
  },
  {
   "cell_type": "code",
   "execution_count": 3,
   "source": [
    "# db, collection 연결(없으면 생성)\n",
    "# python과 연동되었을 때, db와 collection의 경우, document insert 싯점에 생성됨\n",
    "mongodb = conn.cine21\n",
    "actor_collection = mongodb.actor_collection # collection 객체 생성자\n"
   ],
   "outputs": [],
   "metadata": {
    "collapsed": true,
    "scrolled": true
   }
  },
  {
   "cell_type": "code",
   "execution_count": 24,
   "source": [
    "actor_list = actor_collection.find()"
   ],
   "outputs": [],
   "metadata": {}
  },
  {
   "cell_type": "code",
   "execution_count": 35,
   "source": [
    "# actor 정보가 있는지 확인하기\n",
    "# 데이터가 있다면 정보를 가져오고 데이터가 없는상태에서는 에러가 뜬다\n",
    "actor_list = actor_collection.find()\n",
    "for actor in actor_list:\n",
    "    print(actor['actor'])"
   ],
   "outputs": [
    {
     "output_type": "stream",
     "name": "stdout",
     "text": [
      "박정민\n",
      "이성민\n",
      "임윤아\n",
      "노회찬\n",
      "이수경\n",
      "박영남\n",
      "김환진\n"
     ]
    }
   ],
   "metadata": {
    "scrolled": true
   }
  },
  {
   "cell_type": "code",
   "execution_count": 5,
   "source": [
    "# request url\n",
    "cine21_url = 'http://www.cine21.com/rank/person/content'\n",
    "month = \"2021-10\"\n",
    "year = \"2020-11\"\n",
    "\n",
    "# post 방식으로 데이터를 가져오기 위한 request 시 필요 정보\n",
    "conditions = dict()\n",
    "conditions['section'] = 'actor'\n",
    "conditions['period_start'] = month\n",
    "conditions['gender'] = 'all'\n",
    "conditions['page'] = 1\n",
    "\n",
    "# post 방식으로 request 요청\n",
    "# url은 get방식과 post방식이 있고 get 방식은 보안상 위험이 크다\n",
    "response = req.post(cine21_url, data = conditions)"
   ],
   "outputs": [],
   "metadata": {
    "collapsed": true,
    "scrolled": true
   }
  },
  {
   "cell_type": "code",
   "execution_count": 6,
   "source": [
    "response"
   ],
   "outputs": [
    {
     "output_type": "execute_result",
     "data": {
      "text/plain": [
       "<Response [200]>"
      ]
     },
     "metadata": {},
     "execution_count": 6
    }
   ],
   "metadata": {}
  },
  {
   "cell_type": "code",
   "execution_count": 7,
   "source": [
    "\n",
    "# soup  = bs(response.content.decode('utf-8'), 'html.parser')\n",
    "soup  = bs(response.content, 'html.parser')\n",
    "soup"
   ],
   "outputs": [
    {
     "output_type": "execute_result",
     "data": {
      "text/plain": [
       " <ul class=\"people_list\">\n",
       "<li class=\"people_li\">\n",
       "<a href=\"/db/person/info/?person_id=74826\"><img alt=\"\" class=\"people_thumb\" src=\"https://image.cine21.com/resize/cine21/person/2019/0828/11_54_52__5d65ecfc13ca6[X145,145].jpg\" target=\"_blank\"/></a>\n",
       "<div class=\"name\"><a href=\"/db/person/info/?person_id=74826\">박정민(1편)</a></div>\n",
       "<ul class=\"num_info\">\n",
       "<li><span class=\"tit\">흥행지수</span><strong>161,725</strong></li>\n",
       "<!--\n",
       "\t\t\t\t\t\t<li><a href=\"#\" class=\"btn_graph\"><span class=\"ico\"></span><span>흥행성적<br />그래프로 보기</span></a></li>\n",
       "\t\t\t\t\t\t-->\n",
       "</ul>\n",
       "<!-- 영화포스터는 최대 5개까지만 -->\n",
       "<ul class=\"mov_list\">\n",
       "<li>\n",
       "<a href=\"/movie/info/?movie_id=57227\">\n",
       "<img alt=\"\" class=\"thumb\" src=\"https://image.cine21.com/resize/cine21/poster/2021/0928/10_31_26__6152706e344e6[X85,120].jpg\" target=\"_blank\"/>\n",
       "<span>기적</span>\n",
       "</a>\n",
       "</li>\n",
       "</ul>\n",
       "<!-- 순위 --><span class=\"grade\">1</span>\n",
       "</li>\n",
       "<li class=\"people_li\">\n",
       "<a href=\"/db/person/info/?person_id=25123\"><img alt=\"\" class=\"people_thumb\" src=\"https://image.cine21.com/resize/cine21/person/2020/0108/11_20_05__5e153c55bdaea[X145,145].jpg\" target=\"_blank\"/></a>\n",
       "<div class=\"name\"><a href=\"/db/person/info/?person_id=25123\">이성민(1편)</a></div>\n",
       "<ul class=\"num_info\">\n",
       "<li><span class=\"tit\">흥행지수</span><strong>121,294</strong></li>\n",
       "<!--\n",
       "\t\t\t\t\t\t<li><a href=\"#\" class=\"btn_graph\"><span class=\"ico\"></span><span>흥행성적<br />그래프로 보기</span></a></li>\n",
       "\t\t\t\t\t\t-->\n",
       "</ul>\n",
       "<!-- 영화포스터는 최대 5개까지만 -->\n",
       "<ul class=\"mov_list\">\n",
       "<li>\n",
       "<a href=\"/movie/info/?movie_id=57227\">\n",
       "<img alt=\"\" class=\"thumb\" src=\"https://image.cine21.com/resize/cine21/poster/2021/0928/10_31_26__6152706e344e6[X85,120].jpg\" target=\"_blank\"/>\n",
       "<span>기적</span>\n",
       "</a>\n",
       "</li>\n",
       "</ul>\n",
       "<!-- 순위 --><span class=\"grade\">2</span>\n",
       "</li>\n",
       "<li class=\"people_li\">\n",
       "<a href=\"/db/person/info/?person_id=66313\"><img alt=\"\" class=\"people_thumb\" src=\"https://image.cine21.com/resize/cine21/person/2021/0927/15_22_17__615163198ef1b[X145,145].jpg\" target=\"_blank\"/></a>\n",
       "<div class=\"name\"><a href=\"/db/person/info/?person_id=66313\">임윤아(1편)</a></div>\n",
       "<ul class=\"num_info\">\n",
       "<li><span class=\"tit\">흥행지수</span><strong>80,862</strong></li>\n",
       "<!--\n",
       "\t\t\t\t\t\t<li><a href=\"#\" class=\"btn_graph\"><span class=\"ico\"></span><span>흥행성적<br />그래프로 보기</span></a></li>\n",
       "\t\t\t\t\t\t-->\n",
       "</ul>\n",
       "<!-- 영화포스터는 최대 5개까지만 -->\n",
       "<ul class=\"mov_list\">\n",
       "<li>\n",
       "<a href=\"/movie/info/?movie_id=57227\">\n",
       "<img alt=\"\" class=\"thumb\" src=\"https://image.cine21.com/resize/cine21/poster/2021/0928/10_31_26__6152706e344e6[X85,120].jpg\" target=\"_blank\"/>\n",
       "<span>기적</span>\n",
       "</a>\n",
       "</li>\n",
       "</ul>\n",
       "<!-- 순위 --><span class=\"grade\">3</span>\n",
       "</li>\n",
       "<li class=\"people_li\">\n",
       "<a href=\"/db/person/info/?person_id=70020\"><img alt=\"\" class=\"people_thumb\" src=\"https://image.cine21.com/resize/cine21/person/2009/1116/P0000006_04[X145,145].jpg\" target=\"_blank\"/></a>\n",
       "<div class=\"name\"><a href=\"/db/person/info/?person_id=70020\">노회찬(1편)</a></div>\n",
       "<ul class=\"num_info\">\n",
       "<li><span class=\"tit\">흥행지수</span><strong>51,594</strong></li>\n",
       "<!--\n",
       "\t\t\t\t\t\t<li><a href=\"#\" class=\"btn_graph\"><span class=\"ico\"></span><span>흥행성적<br />그래프로 보기</span></a></li>\n",
       "\t\t\t\t\t\t-->\n",
       "</ul>\n",
       "<!-- 영화포스터는 최대 5개까지만 -->\n",
       "<ul class=\"mov_list\">\n",
       "<li>\n",
       "<a href=\"/movie/info/?movie_id=57921\">\n",
       "<img alt=\"\" class=\"thumb\" src=\"https://image.cine21.com/resize/cine21/poster/2021/1018/57921_616cc9dd3e72a[X85,120].jpg\" target=\"_blank\"/>\n",
       "<span>노회찬6411</span>\n",
       "</a>\n",
       "</li>\n",
       "</ul>\n",
       "<!-- 순위 --><span class=\"grade\">4</span>\n",
       "</li>\n",
       "<li class=\"people_li\">\n",
       "<a href=\"/db/person/info/?person_id=96165\"><img alt=\"\" class=\"people_thumb\" src=\"https://image.cine21.com/resize/cine21/still/2017/1207/13_59_25__5a28caad303f8[X145,145].jpg\" target=\"_blank\"/></a>\n",
       "<div class=\"name\"><a href=\"/db/person/info/?person_id=96165\">이수경(1편)</a></div>\n",
       "<ul class=\"num_info\">\n",
       "<li><span class=\"tit\">흥행지수</span><strong>40,431</strong></li>\n",
       "<!--\n",
       "\t\t\t\t\t\t<li><a href=\"#\" class=\"btn_graph\"><span class=\"ico\"></span><span>흥행성적<br />그래프로 보기</span></a></li>\n",
       "\t\t\t\t\t\t-->\n",
       "</ul>\n",
       "<!-- 영화포스터는 최대 5개까지만 -->\n",
       "<ul class=\"mov_list\">\n",
       "<li>\n",
       "<a href=\"/movie/info/?movie_id=57227\">\n",
       "<img alt=\"\" class=\"thumb\" src=\"https://image.cine21.com/resize/cine21/poster/2021/0928/10_31_26__6152706e344e6[X85,120].jpg\" target=\"_blank\"/>\n",
       "<span>기적</span>\n",
       "</a>\n",
       "</li>\n",
       "</ul>\n",
       "<!-- 순위 --><span class=\"grade\">5</span>\n",
       "</li>\n",
       "<li class=\"people_li\">\n",
       "<a href=\"/db/person/info/?person_id=32987\"><img alt=\"\" class=\"people_thumb\" src=\"https://image.cine21.com/resize/cine21/person/2021/0713/19_03_32__60ed64f4d30da[X145,145].jpg\" target=\"_blank\"/></a>\n",
       "<div class=\"name\"><a href=\"/db/person/info/?person_id=32987\">박영남(1편)</a></div>\n",
       "<ul class=\"num_info\">\n",
       "<li><span class=\"tit\">흥행지수</span><strong>27,908</strong></li>\n",
       "<!--\n",
       "\t\t\t\t\t\t<li><a href=\"#\" class=\"btn_graph\"><span class=\"ico\"></span><span>흥행성적<br />그래프로 보기</span></a></li>\n",
       "\t\t\t\t\t\t-->\n",
       "</ul>\n",
       "<!-- 영화포스터는 최대 5개까지만 -->\n",
       "<ul class=\"mov_list\">\n",
       "<li>\n",
       "<a href=\"/movie/info/?movie_id=58107\">\n",
       "<img alt=\"\" class=\"thumb\" src=\"https://image.cine21.com/resize/cine21/poster/2021/0903/11_52_57__61318e09828ca[X85,120].jpg\" target=\"_blank\"/>\n",
       "<span>극장판 짱구는 못말려: 격돌! 낙서왕국과 얼추 네 명의 용사들</span>\n",
       "</a>\n",
       "</li>\n",
       "</ul>\n",
       "<!-- 순위 --><span class=\"grade\">6</span>\n",
       "</li>\n",
       "<li class=\"people_li\">\n",
       "<a href=\"/db/person/info/?person_id=74727\"><img alt=\"\" class=\"people_thumb\" src=\"https://image.cine21.com/resize/cine21/person/2021/0713/19_05_58__60ed65866f3cd[X145,145].jpg\" target=\"_blank\"/></a>\n",
       "<div class=\"name\"><a href=\"/db/person/info/?person_id=74727\">김환진(1편)</a></div>\n",
       "<ul class=\"num_info\">\n",
       "<li><span class=\"tit\">흥행지수</span><strong>24,419</strong></li>\n",
       "<!--\n",
       "\t\t\t\t\t\t<li><a href=\"#\" class=\"btn_graph\"><span class=\"ico\"></span><span>흥행성적<br />그래프로 보기</span></a></li>\n",
       "\t\t\t\t\t\t-->\n",
       "</ul>\n",
       "<!-- 영화포스터는 최대 5개까지만 -->\n",
       "<ul class=\"mov_list\">\n",
       "<li>\n",
       "<a href=\"/movie/info/?movie_id=58107\">\n",
       "<img alt=\"\" class=\"thumb\" src=\"https://image.cine21.com/resize/cine21/poster/2021/0903/11_52_57__61318e09828ca[X85,120].jpg\" target=\"_blank\"/>\n",
       "<span>극장판 짱구는 못말려: 격돌! 낙서왕국과 얼추 네 명의 용사들</span>\n",
       "</a>\n",
       "</li>\n",
       "</ul>\n",
       "<!-- 순위 --><span class=\"grade\">7</span>\n",
       "</li>\n",
       "</ul>\n",
       "<div class=\"pagination\"><a class=\"btn_first\" href=\"javascript:fetch_list(1)\"><span class=\"hidden\">처음으로</span><span class=\"ico\"></span></a><div class=\"page\"><a class=\"on\" href=\"javascript:;\">1</a><a href=\"javascript:fetch_list(2)\">2</a><a href=\"javascript:fetch_list(3)\">3</a><a href=\"javascript:fetch_list(4)\">4</a><a href=\"javascript:fetch_list(5)\">5</a><a href=\"javascript:fetch_list(6)\">6</a><a href=\"javascript:fetch_list(7)\">7</a><a href=\"javascript:fetch_list(8)\">8</a><a href=\"javascript:fetch_list(9)\">9</a><a href=\"javascript:fetch_list(10)\">10</a></div><a class=\"btn_next\" href=\"javascript:fetch_list(11)\"><span class=\"hidden\">다음</span><span class=\"ico\"></span></a><a class=\"btn_end\" href=\"javascript:fetch_list(73)\"><span class=\"hidden\">끝으로</span><span class=\"ico\"></span></a> </div>"
      ]
     },
     "metadata": {},
     "execution_count": 7
    }
   ],
   "metadata": {}
  },
  {
   "cell_type": "code",
   "execution_count": null,
   "source": [
    "#rank_holder > ul > li:nth-child(1) > div > a"
   ],
   "outputs": [],
   "metadata": {}
  },
  {
   "cell_type": "code",
   "execution_count": null,
   "source": [],
   "outputs": [],
   "metadata": {}
  },
  {
   "cell_type": "code",
   "execution_count": 8,
   "source": [
    "tds = soup.select(\"div.name\")\n",
    "for i in tds:\n",
    "    i = tds[0].get_text(strip=True)\n",
    "print(i)"
   ],
   "outputs": [
    {
     "output_type": "stream",
     "name": "stdout",
     "text": [
      "박정민(1편)\n"
     ]
    }
   ],
   "metadata": {}
  },
  {
   "cell_type": "code",
   "execution_count": 9,
   "source": [
    "# 정규 표현식 참고 : https://regexr.com/\n",
    "# 문자, 숫자를 찾음 : \\w\n",
    "# 특수 기호 () 문자로 인식 : \\( \\)\n",
    "\n",
    "# 2. 반복 표현 ?, *, +\n",
    "# + : 앞 문자가 1번 또는 그 이상 반복되는 패턴\n",
    "# ? : 앞 문자가 0번 또는 1번 표시되는 패턴(없어도 되고, 한번 있어도 되는 패턴)\n",
    "# * : 앞 문자가 0번 또는 그이상 반복되는 패턴\n",
    "import re\n",
    "test_data = '마동석(17편)'\n",
    "#re.sub('정규표현식', '변경데이터', test_data)\n",
    "print(re.sub(\"\\(\\w+\\)\", \"\", test_data))"
   ],
   "outputs": [
    {
     "output_type": "stream",
     "name": "stdout",
     "text": [
      "마동석\n"
     ]
    }
   ],
   "metadata": {
    "scrolled": true
   }
  },
  {
   "cell_type": "code",
   "execution_count": 10,
   "source": [
    "# [실습]\n",
    "# 한 페이지 내의 배우이름만 가져오기\n",
    "import re\n",
    "\n",
    "name_list = []\n",
    "for tt in tds:\n",
    "    print(re.sub(\"\\(\\w+\\)\", \"\", tt.getText(strip=True)))\n",
    "    name_list.append((re.sub(\"\\(\\w+\\)\", \"\", tt.getText(strip=True))))\n"
   ],
   "outputs": [
    {
     "output_type": "stream",
     "name": "stdout",
     "text": [
      "박정민\n",
      "이성민\n",
      "임윤아\n",
      "노회찬\n",
      "이수경\n",
      "박영남\n",
      "김환진\n"
     ]
    }
   ],
   "metadata": {}
  },
  {
   "cell_type": "code",
   "execution_count": null,
   "source": [],
   "outputs": [],
   "metadata": {}
  },
  {
   "cell_type": "markdown",
   "source": [
    "### 각 배우별 상세 정보를 document에 넣고 싶다.\n",
    "* 각 배우별 상세 정보를 별도 컬럼으로 만들려했더니, 각 배우별 상세 정보 항목이 다르다!\n",
    "* 모든 상세 정보 항목을 컬럼으로 만들고, 각 컬럼에 매칭되는 컬럼값을 넣기가 쉽지 않다. 코드도 복잡하고!\n",
    "* Mongodb는 NoSQL -> 통째로 집어넣자.!"
   ],
   "metadata": {}
  },
  {
   "cell_type": "markdown",
   "source": [
    "* embedded document\n",
    "  - document 의 컬럼값으로 document를 넣을 수 있다."
   ],
   "metadata": {}
  },
  {
   "cell_type": "code",
   "execution_count": null,
   "source": [
    "#info_content > div.default_info_area > ul.default_info\n",
    "# http://www.cine21.com/inc/www/css/content1.css\n",
    "# http://www.cine21.com/db/person/info/?person_id=74826\n",
    "# http://www.cine21.com/db/person/info/?person_id=25123"
   ],
   "outputs": [],
   "metadata": {}
  },
  {
   "cell_type": "code",
   "execution_count": 11,
   "source": [
    "data_li= []\n",
    "for i in tds:\n",
    "    li = \" http://www.cine21.com\" + i.select_one('a').attrs['href']\n",
    "    res_url = req.get(li)\n",
    "    soup_actor = bs(res_url.content, \"html.parser\")\n",
    "    default_info = soup_actor.select_one('ul.default_info')\n",
    "    print(re.sub(\"\\(\\w+\\)\", \"\", default_info.getText(strip=True)))\n",
    "   \n"
   ],
   "outputs": [
    {
     "output_type": "stream",
     "name": "stdout",
     "text": [
      "직업배우생년월일1987-02-25성별남신장/체중178cm, 63kg학교한국예술종합학교 영상원 연극원 연기과\n",
      "직업배우생년월일1968-10-15성별남신장/체중178cm\n",
      "다른 이름소녀시대; girlsgeneration; girls generation직업가수생년월일1990-05-30성별여홈페이지https://www.instagram.com/yoona__lim/소속사SM엔터테인먼트\n",
      "생년월일1956-08-31사망2018-07-23성별남홈페이지https://twitter.com/hcrohhttps://www.facebook.com/omyChans\n",
      "직업배우생년월일1996-10-24성별여\n",
      "직업성우생년월일1946-10-08성별여\n",
      "직업성우생년월일1952-10-03성별남\n"
     ]
    }
   ],
   "metadata": {}
  },
  {
   "cell_type": "code",
   "execution_count": 12,
   "source": [
    "tds[0].select_one('a').attrs['href']"
   ],
   "outputs": [
    {
     "output_type": "execute_result",
     "data": {
      "text/plain": [
       "'/db/person/info/?person_id=74826'"
      ]
     },
     "metadata": {},
     "execution_count": 12
    }
   ],
   "metadata": {}
  },
  {
   "cell_type": "code",
   "execution_count": 31,
   "source": [
    "actor_real=list()\n",
    "for i in tds:\n",
    "    li = \" http://www.cine21.com\" + i.select_one('a').attrs['href']\n",
    "    res_url = req.get(li)\n",
    "    soup_actor = bs(res_url.content, \"html.parser\")\n",
    "    default_info = soup_actor.select_one('ul.default_info')   \n",
    "    \n",
    "    actor_details = default_info.select('li')\n",
    "    actor_info_dict = dict()\n",
    "    \n",
    "    for actor_detail in actor_details:\n",
    "        actor_detail_key = actor_detail.select_one('span.tit').get_text(strip=True)\n",
    "        actor_detail_value = re.sub('<span.*?>.*?</span>','',str(actor_detail))\n",
    "        # print(actor_detail_value)\n",
    "        actor_detail_value = re.sub('<.*?>','',actor_detail_value).strip()\n",
    "        # print(actor_detail_value)\n",
    "\n",
    "\n",
    "        # a = actor_detail\n",
    "        # print(type(a))\n",
    "        # b = actor_detail.select_one('span').extract() #.get_text()\n",
    "        # print(type(b))\n",
    "        # c = actor_detail #.get_text()\n",
    "        # print(type(c))\n",
    "        # print(\"-\" * 10)\n",
    "\n",
    "        actor_info_dict[actor_detail_key] = actor_detail_value\n",
    "    actor_real.append(actor_info_dict)\n",
    "       \n",
    "print(actor_real)"
   ],
   "outputs": [
    {
     "output_type": "stream",
     "name": "stdout",
     "text": [
      "[{'직업': '배우', '생년월일': '1987-02-25', '성별': '남', '신장/체중': '178cm, 63kg', '학교': '한국예술종합학교 영상원 연극원 연기과'}, {'직업': '배우', '생년월일': '1968-10-15', '성별': '남', '신장/체중': '178cm'}, {'다른 이름': '소녀시대; girlsgeneration; girls generation', '직업': '가수', '생년월일': '1990-05-30', '성별': '여', '홈페이지': 'https://www.instagram.com/yoona__lim/', '소속사': 'SM엔터테인먼트'}, {'생년월일': '1956-08-31', '사망': '2018-07-23', '성별': '남', '홈페이지': 'https://twitter.com/hcroh\\nhttps://www.facebook.com/omyChans'}, {'직업': '배우', '생년월일': '1996-10-24', '성별': '여'}, {'직업': '성우', '생년월일': '1946-10-08', '성별': '여'}, {'직업': '성우', '생년월일': '1952-10-03', '성별': '남'}]\n"
     ]
    }
   ],
   "metadata": {}
  },
  {
   "cell_type": "markdown",
   "source": [
    "### 각 배우별 출연 영화를 document에 저장하고 싶다.\n",
    "  - 출연 영화는 한 개가 될 수도 있고, 여러 개가 될 수도 있음\n",
    "  - 파이썬은 리스트, mongodb document는 컬럼에 배열(array)로 넣으면 됨 "
   ],
   "metadata": {}
  },
  {
   "cell_type": "code",
   "execution_count": 16,
   "source": [
    "movie_list = list()\n",
    "movies = soup.select('li.people_li ul.mov_list')\n",
    "# print(movies)\n",
    "\n",
    "for movie in movies:\n",
    "    actor_movies = list()\n",
    "    movie_titles = movie.select('ul.mov_list li a span')\n",
    "    for movie_title in movie_titles:\n",
    "        actor_movies.append(movie_title.text)\n",
    "        print(movie_title.text)\n",
    "    movie_list.append(actor_movies)\n",
    "    print('-'*10)"
   ],
   "outputs": [
    {
     "output_type": "stream",
     "name": "stdout",
     "text": [
      "기적\n",
      "----------\n",
      "기적\n",
      "----------\n",
      "기적\n",
      "----------\n",
      "노회찬6411\n",
      "----------\n",
      "기적\n",
      "----------\n",
      "극장판 짱구는 못말려: 격돌! 낙서왕국과 얼추 네 명의 용사들\n",
      "----------\n",
      "극장판 짱구는 못말려: 격돌! 낙서왕국과 얼추 네 명의 용사들\n",
      "----------\n"
     ]
    }
   ],
   "metadata": {}
  },
  {
   "cell_type": "code",
   "execution_count": 19,
   "source": [
    "tdds = soup.select(\"ul.num_info strong\")\n",
    "for i in tdds:\n",
    "    i = tdds[0].get_text(strip=True)\n",
    "\n",
    "\n",
    "num_list = []\n",
    "for ttt in tdds:\n",
    "    print(re.sub(\"\\(\\w+\\)\", \"\", ttt.getText(strip=True)))\n",
    "    num_list.append((re.sub(\"\\(\\w+\\)\", \"\", ttt.getText(strip=True))))"
   ],
   "outputs": [
    {
     "output_type": "stream",
     "name": "stdout",
     "text": [
      "161,725\n",
      "121,294\n",
      "80,862\n",
      "51,594\n",
      "40,431\n",
      "27,908\n",
      "24,419\n"
     ]
    }
   ],
   "metadata": {}
  },
  {
   "cell_type": "code",
   "execution_count": null,
   "source": [
    "#rank_holder > ul > li:nth-child(1) > ul.mov_list > li > a > span"
   ],
   "outputs": [],
   "metadata": {}
  },
  {
   "cell_type": "code",
   "execution_count": 32,
   "source": [
    "print(name_list)\n",
    "print(actor_real)\n",
    "print(num_list)\n",
    "print(movie_list)\n"
   ],
   "outputs": [
    {
     "output_type": "stream",
     "name": "stdout",
     "text": [
      "['박정민', '이성민', '임윤아', '노회찬', '이수경', '박영남', '김환진']\n",
      "[{'직업': '배우', '생년월일': '1987-02-25', '성별': '남', '신장/체중': '178cm, 63kg', '학교': '한국예술종합학교 영상원 연극원 연기과'}, {'직업': '배우', '생년월일': '1968-10-15', '성별': '남', '신장/체중': '178cm'}, {'다른 이름': '소녀시대; girlsgeneration; girls generation', '직업': '가수', '생년월일': '1990-05-30', '성별': '여', '홈페이지': 'https://www.instagram.com/yoona__lim/', '소속사': 'SM엔터테인먼트'}, {'생년월일': '1956-08-31', '사망': '2018-07-23', '성별': '남', '홈페이지': 'https://twitter.com/hcroh\\nhttps://www.facebook.com/omyChans'}, {'직업': '배우', '생년월일': '1996-10-24', '성별': '여'}, {'직업': '성우', '생년월일': '1946-10-08', '성별': '여'}, {'직업': '성우', '생년월일': '1952-10-03', '성별': '남'}]\n",
      "['161,725', '121,294', '80,862', '51,594', '40,431', '27,908', '24,419']\n",
      "[['기적'], ['기적'], ['기적'], ['노회찬6411'], ['기적'], ['극장판 짱구는 못말려: 격돌! 낙서왕국과 얼추 네 명의 용사들'], ['극장판 짱구는 못말려: 격돌! 낙서왕국과 얼추 네 명의 용사들']]\n"
     ]
    }
   ],
   "metadata": {}
  },
  {
   "cell_type": "markdown",
   "source": [
    "### insert_one() 로 하나씩 데이터 입력하기 (반복문과 함께 사용하면, 여러 데이터를 넣을 수 있음)"
   ],
   "metadata": {}
  },
  {
   "cell_type": "markdown",
   "source": [
    "- actor_list: 배우 이름\n",
    "- actor_details: 배우 상세 정보\n",
    "- actor_rate: 흥행 지수\n",
    "- date: 기준월\n",
    "- movie_list: 출연 영화 리스트!"
   ],
   "metadata": {}
  },
  {
   "cell_type": "code",
   "execution_count": 34,
   "source": [
    "\n",
    "for num, actor in enumerate(name_list):\n",
    "    actor_collection.insert_one({\n",
    "        \"actor\":name_list[num],\n",
    "        \"actor_details\": actor_real[num],\n",
    "        \"actor_hit\":num_list[num],\n",
    "        \"date\":month,\n",
    "        \"movie_list\":movie_list[num]\n",
    "        } )\n",
    "print(actor_collection)\n"
   ],
   "outputs": [
    {
     "output_type": "stream",
     "name": "stdout",
     "text": [
      "Collection(Database(MongoClient(host=['127.0.0.1:27017'], document_class=dict, tz_aware=False, connect=True), 'cine21'), 'actor_collection')\n"
     ]
    }
   ],
   "metadata": {}
  },
  {
   "cell_type": "code",
   "execution_count": null,
   "source": [
    "# actors_info = dict()\n",
    "# for num, actor in enumerate(actor_list):\n",
    "#     actors_info(\n",
    "#         {\"actor\":actor,\n",
    "#         \"actor_details\": actor_info_dict[num],\n",
    "#         \"actor_hit\":data_list1[num],\n",
    "#         \"date\":month,\n",
    "#         \"movie_list\":movie_list[num]\n",
    "#         } )\n",
    "# print(actors_info)\n",
    "# actor_collection.insert_many(actors_info)"
   ],
   "outputs": [
    {
     "output_type": "stream",
     "name": "stdout",
     "text": [
      "{}\n"
     ]
    },
    {
     "output_type": "error",
     "ename": "TypeError",
     "evalue": "documents must be a non-empty list",
     "traceback": [
      "\u001b[0;31m---------------------------------------------------------------------------\u001b[0m",
      "\u001b[0;31mTypeError\u001b[0m                                 Traceback (most recent call last)",
      "\u001b[0;32m/tmp/ipykernel_2217/1897284668.py\u001b[0m in \u001b[0;36m<module>\u001b[0;34m\u001b[0m\n\u001b[1;32m      9\u001b[0m         } )\n\u001b[1;32m     10\u001b[0m \u001b[0mprint\u001b[0m\u001b[0;34m(\u001b[0m\u001b[0mactors_info\u001b[0m\u001b[0;34m)\u001b[0m\u001b[0;34m\u001b[0m\u001b[0;34m\u001b[0m\u001b[0m\n\u001b[0;32m---> 11\u001b[0;31m \u001b[0mactor_collection\u001b[0m\u001b[0;34m.\u001b[0m\u001b[0minsert_many\u001b[0m\u001b[0;34m(\u001b[0m\u001b[0mactors_info\u001b[0m\u001b[0;34m)\u001b[0m\u001b[0;34m\u001b[0m\u001b[0;34m\u001b[0m\u001b[0m\n\u001b[0m",
      "\u001b[0;32m~/gath/gathVENV/lib/python3.8/site-packages/pymongo/collection.py\u001b[0m in \u001b[0;36minsert_many\u001b[0;34m(self, documents, ordered, bypass_document_validation, session)\u001b[0m\n\u001b[1;32m    753\u001b[0m                 \u001b[0;32mor\u001b[0m \u001b[0misinstance\u001b[0m\u001b[0;34m(\u001b[0m\u001b[0mdocuments\u001b[0m\u001b[0;34m,\u001b[0m \u001b[0mabc\u001b[0m\u001b[0;34m.\u001b[0m\u001b[0mMapping\u001b[0m\u001b[0;34m)\u001b[0m\u001b[0;34m\u001b[0m\u001b[0;34m\u001b[0m\u001b[0m\n\u001b[1;32m    754\u001b[0m                 or not documents):\n\u001b[0;32m--> 755\u001b[0;31m             \u001b[0;32mraise\u001b[0m \u001b[0mTypeError\u001b[0m\u001b[0;34m(\u001b[0m\u001b[0;34m\"documents must be a non-empty list\"\u001b[0m\u001b[0;34m)\u001b[0m\u001b[0;34m\u001b[0m\u001b[0;34m\u001b[0m\u001b[0m\n\u001b[0m\u001b[1;32m    756\u001b[0m         \u001b[0minserted_ids\u001b[0m \u001b[0;34m=\u001b[0m \u001b[0;34m[\u001b[0m\u001b[0;34m]\u001b[0m\u001b[0;34m\u001b[0m\u001b[0;34m\u001b[0m\u001b[0m\n\u001b[1;32m    757\u001b[0m         \u001b[0;32mdef\u001b[0m \u001b[0mgen\u001b[0m\u001b[0;34m(\u001b[0m\u001b[0;34m)\u001b[0m\u001b[0;34m:\u001b[0m\u001b[0;34m\u001b[0m\u001b[0;34m\u001b[0m\u001b[0m\n",
      "\u001b[0;31mTypeError\u001b[0m: documents must be a non-empty list"
     ]
    }
   ],
   "metadata": {}
  },
  {
   "cell_type": "code",
   "execution_count": null,
   "source": [
    "# actor_collection.update_many({},{\"$rename\":{\"actor\":\"actor_name\"}})"
   ],
   "outputs": [],
   "metadata": {}
  },
  {
   "cell_type": "markdown",
   "source": [
    "### collection 삭제하기"
   ],
   "metadata": {}
  },
  {
   "cell_type": "code",
   "execution_count": null,
   "source": [
    "# collection drop\n",
    "actor_collection.drop()"
   ],
   "outputs": [],
   "metadata": {
    "collapsed": true,
    "scrolled": true
   }
  },
  {
   "cell_type": "code",
   "execution_count": 36,
   "source": [
    "# collection 찾기\n",
    "docs = actor_collection.find()\n",
    "docs"
   ],
   "outputs": [
    {
     "output_type": "execute_result",
     "data": {
      "text/plain": [
       "<pymongo.cursor.Cursor at 0x7f009dc1c610>"
      ]
     },
     "metadata": {},
     "execution_count": 36
    }
   ],
   "metadata": {
    "collapsed": true,
    "scrolled": true
   }
  },
  {
   "cell_type": "code",
   "execution_count": 37,
   "source": [
    "for doc in docs:\n",
    "    print(doc)"
   ],
   "outputs": [
    {
     "output_type": "stream",
     "name": "stdout",
     "text": [
      "{'_id': ObjectId('61847abb045c4b7daa2c38b0'), 'actor': '박정민', 'actor_details': {'직업': '배우', '생년월일': '1987-02-25', '성별': '남', '신장/체중': '178cm, 63kg', '학교': '한국예술종합학교 영상원 연극원 연기과'}, 'actor_hit': '161,725', 'date': '2021-10', 'movie_list': ['기적']}\n",
      "{'_id': ObjectId('61847abb045c4b7daa2c38b1'), 'actor': '이성민', 'actor_details': {'직업': '배우', '생년월일': '1968-10-15', '성별': '남', '신장/체중': '178cm'}, 'actor_hit': '121,294', 'date': '2021-10', 'movie_list': ['기적']}\n",
      "{'_id': ObjectId('61847abb045c4b7daa2c38b2'), 'actor': '임윤아', 'actor_details': {'다른 이름': '소녀시대; girlsgeneration; girls generation', '직업': '가수', '생년월일': '1990-05-30', '성별': '여', '홈페이지': 'https://www.instagram.com/yoona__lim/', '소속사': 'SM엔터테인먼트'}, 'actor_hit': '80,862', 'date': '2021-10', 'movie_list': ['기적']}\n",
      "{'_id': ObjectId('61847abb045c4b7daa2c38b3'), 'actor': '노회찬', 'actor_details': {'생년월일': '1956-08-31', '사망': '2018-07-23', '성별': '남', '홈페이지': 'https://twitter.com/hcroh\\nhttps://www.facebook.com/omyChans'}, 'actor_hit': '51,594', 'date': '2021-10', 'movie_list': ['노회찬6411']}\n",
      "{'_id': ObjectId('61847abb045c4b7daa2c38b4'), 'actor': '이수경', 'actor_details': {'직업': '배우', '생년월일': '1996-10-24', '성별': '여'}, 'actor_hit': '40,431', 'date': '2021-10', 'movie_list': ['기적']}\n",
      "{'_id': ObjectId('61847abb045c4b7daa2c38b5'), 'actor': '박영남', 'actor_details': {'직업': '성우', '생년월일': '1946-10-08', '성별': '여'}, 'actor_hit': '27,908', 'date': '2021-10', 'movie_list': ['극장판 짱구는 못말려: 격돌! 낙서왕국과 얼추 네 명의 용사들']}\n",
      "{'_id': ObjectId('61847abb045c4b7daa2c38b6'), 'actor': '김환진', 'actor_details': {'직업': '성우', '생년월일': '1952-10-03', '성별': '남'}, 'actor_hit': '24,419', 'date': '2021-10', 'movie_list': ['극장판 짱구는 못말려: 격돌! 낙서왕국과 얼추 네 명의 용사들']}\n"
     ]
    }
   ],
   "metadata": {
    "collapsed": true,
    "scrolled": true
   }
  },
  {
   "cell_type": "markdown",
   "source": [
    "### Dictionary 타입으로 만들어서 한번에 insert_many() 로 데이터 입력하기"
   ],
   "metadata": {}
  },
  {
   "cell_type": "code",
   "execution_count": null,
   "source": [],
   "outputs": [],
   "metadata": {}
  },
  {
   "cell_type": "code",
   "execution_count": null,
   "source": [],
   "outputs": [],
   "metadata": {}
  },
  {
   "cell_type": "code",
   "execution_count": null,
   "source": [],
   "outputs": [],
   "metadata": {}
  },
  {
   "cell_type": "markdown",
   "source": [
    "### Update (컬럼명 변경 예제)"
   ],
   "metadata": {}
  },
  {
   "cell_type": "code",
   "execution_count": null,
   "source": [],
   "outputs": [],
   "metadata": {}
  },
  {
   "cell_type": "code",
   "execution_count": null,
   "source": [],
   "outputs": [],
   "metadata": {}
  },
  {
   "cell_type": "code",
   "execution_count": null,
   "source": [],
   "outputs": [],
   "metadata": {}
  },
  {
   "cell_type": "code",
   "execution_count": null,
   "source": [],
   "outputs": [],
   "metadata": {}
  },
  {
   "cell_type": "markdown",
   "source": [
    "### 컬렉션 객체 이름도 바꿀 수 있겠지요\n",
    "actor_collection -> actors_info 로 변경"
   ],
   "metadata": {}
  },
  {
   "cell_type": "code",
   "execution_count": null,
   "source": [],
   "outputs": [],
   "metadata": {}
  },
  {
   "cell_type": "code",
   "execution_count": null,
   "source": [],
   "outputs": [],
   "metadata": {}
  },
  {
   "cell_type": "code",
   "execution_count": null,
   "source": [],
   "outputs": [],
   "metadata": {}
  },
  {
   "cell_type": "code",
   "execution_count": null,
   "source": [],
   "outputs": [],
   "metadata": {}
  }
 ],
 "metadata": {
  "interpreter": {
   "hash": "fc13c0a8e8d12ce08c95072973631411a4695aaf4b5a0fe7d466f6f9f1488ae1"
  },
  "kernelspec": {
   "name": "python3",
   "display_name": "Python 3.8.0 64-bit ('gathVENV': venv)"
  },
  "language_info": {
   "codemirror_mode": {
    "name": "ipython",
    "version": 3
   },
   "file_extension": ".py",
   "mimetype": "text/x-python",
   "name": "python",
   "nbconvert_exporter": "python",
   "pygments_lexer": "ipython3",
   "version": "3.8.0"
  },
  "nbTranslate": {
   "displayLangs": [
    "*"
   ],
   "hotkey": "alt-t",
   "langInMainMenu": true,
   "sourceLang": "en",
   "targetLang": "fr",
   "useGoogleTranslate": true
  }
 },
 "nbformat": 4,
 "nbformat_minor": 1
}