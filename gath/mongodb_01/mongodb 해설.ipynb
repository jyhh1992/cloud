{
 "cells": [
  {
   "cell_type": "markdown",
   "source": [
    "# 1. 크롤링과 함께 쓰는 mongoDB 예제"
   ],
   "metadata": {
    "collapsed": true
   }
  },
  {
   "cell_type": "markdown",
   "source": [
    "### cine21 인물 랭킹 알아내기\n",
    "  - http://www.cine21.com/rank/person/\n",
    "  - 조회를 눌렀을 때, Go to Network -> content 의 Request URL/Method 와 Form 데이터 알아내기\n",
    "    - Request URL: http://www.cine21.com/rank/person/content\n",
    "    - Request Method: POST\n",
    "    - Form Data\n",
    "      - section:actor\n",
    "      - period_start:2021-10\n",
    "      - gender:all\n",
    "      - page:1\n",
    "    - 하단부 페이지를 누를 때마다, Form Data 의 page 값이 바뀜"
   ],
   "metadata": {}
  },
  {
   "cell_type": "code",
   "execution_count": 2,
   "source": [
    "import requests as req\n",
    "import re\n",
    "import datetime\n",
    "from bs4 import BeautifulSoup as bs\n",
    "from pymongo import MongoClient\n",
    "import pymongo"
   ],
   "outputs": [],
   "metadata": {
    "collapsed": true,
    "scrolled": true
   }
  },
  {
   "cell_type": "code",
   "execution_count": 3,
   "source": [
    "# 몽고DB 서버 연결\n",
    "username = 'rapa00'\n",
    "password = '1234'\n",
    "conn = pymongo.MongoClient('mongodb://%s:%s@127.0.0.1' % (username, password))"
   ],
   "outputs": [],
   "metadata": {
    "collapsed": true,
    "scrolled": true
   }
  },
  {
   "cell_type": "code",
   "execution_count": 4,
   "source": [
    "# db, collection 연결(없으면 생성)\n",
    "# python과 연동되었을 때, db와 collection의 경우, document insert 싯점에 생성됨\n",
    "mongodb = conn.cine21\n",
    "#collection 객체 변수 = 몽고db.컬렉션이름(없으면 만들어짐)\n",
    "actor_collection = mongodb.actor_collection "
   ],
   "outputs": [],
   "metadata": {
    "collapsed": true,
    "scrolled": true
   }
  },
  {
   "cell_type": "code",
   "execution_count": 17,
   "source": [
    "# actor 정보가 있는지 확인하기\n",
    "actor_list = actor_collection.find()\n",
    "for actor in actor_list:\n",
    "    print(actor['actor'])"
   ],
   "outputs": [
    {
     "output_type": "error",
     "ename": "KeyError",
     "evalue": "'actor'",
     "traceback": [
      "\u001b[0;31m---------------------------------------------------------------------------\u001b[0m",
      "\u001b[0;31mKeyError\u001b[0m                                  Traceback (most recent call last)",
      "\u001b[0;32m/tmp/ipykernel_5123/83191933.py\u001b[0m in \u001b[0;36m<module>\u001b[0;34m\u001b[0m\n\u001b[1;32m      2\u001b[0m \u001b[0mactor_list\u001b[0m \u001b[0;34m=\u001b[0m \u001b[0mactor_collection\u001b[0m\u001b[0;34m.\u001b[0m\u001b[0mfind\u001b[0m\u001b[0;34m(\u001b[0m\u001b[0;34m)\u001b[0m\u001b[0;34m\u001b[0m\u001b[0;34m\u001b[0m\u001b[0m\n\u001b[1;32m      3\u001b[0m \u001b[0;32mfor\u001b[0m \u001b[0mactor\u001b[0m \u001b[0;32min\u001b[0m \u001b[0mactor_list\u001b[0m\u001b[0;34m:\u001b[0m\u001b[0;34m\u001b[0m\u001b[0;34m\u001b[0m\u001b[0m\n\u001b[0;32m----> 4\u001b[0;31m     \u001b[0mprint\u001b[0m\u001b[0;34m(\u001b[0m\u001b[0mactor\u001b[0m\u001b[0;34m[\u001b[0m\u001b[0;34m'actor'\u001b[0m\u001b[0;34m]\u001b[0m\u001b[0;34m)\u001b[0m\u001b[0;34m\u001b[0m\u001b[0;34m\u001b[0m\u001b[0m\n\u001b[0m",
      "\u001b[0;31mKeyError\u001b[0m: 'actor'"
     ]
    }
   ],
   "metadata": {
    "scrolled": true
   }
  },
  {
   "cell_type": "code",
   "execution_count": 6,
   "source": [
    "# request url\n",
    "cine21_url = 'http://www.cine21.com/rank/person/content'\n",
    "month = \"2021-10\"\n",
    "year = \"2020-11\"\n",
    "\n",
    "# post 방식으로 데이터를 가져오기 위한 request 시 필요 정보\n",
    "# 브라우저의 개발자 모드의 network tab 의 form 정보\n",
    "conditions = dict()\n",
    "conditions['section'] = 'actor'\n",
    "conditions['period_start'] = month\n",
    "conditions['gender'] = 'all'\n",
    "conditions['page'] = 1\n",
    "\n",
    "# post 방식으로 request 요청\n",
    "response = req.post(cine21_url, data = conditions)"
   ],
   "outputs": [],
   "metadata": {
    "collapsed": true,
    "scrolled": true
   }
  },
  {
   "cell_type": "code",
   "execution_count": 7,
   "source": [
    "response"
   ],
   "outputs": [
    {
     "output_type": "execute_result",
     "data": {
      "text/plain": [
       "<Response [200]>"
      ]
     },
     "metadata": {},
     "execution_count": 7
    }
   ],
   "metadata": {}
  },
  {
   "cell_type": "code",
   "execution_count": 69,
   "source": [
    "response.content"
   ],
   "outputs": [
    {
     "output_type": "execute_result",
     "data": {
      "text/plain": [
       "b'\\t\\t\\t<ul class=\"people_list\">\\r\\n\\t\\t\\t\\t<li class=\"people_li\">\\r\\n\\t\\t\\t\\t\\t<a href=\"/db/person/info/?person_id=74826\"><img src=\"https://image.cine21.com/resize/cine21/person/2019/0828/11_54_52__5d65ecfc13ca6[X145,145].jpg\" alt=\"\" class=\"people_thumb\" target=\"_blank\" /></a>\\r\\n\\t\\t\\t\\t\\t<div class=\"name\"><a href=\"/db/person/info/?person_id=74826\">\\xeb\\xb0\\x95\\xec\\xa0\\x95\\xeb\\xaf\\xbc(1\\xed\\x8e\\xb8)</a></div>\\r\\n\\t\\t\\t\\t\\t<ul class=\"num_info\">\\r\\n\\t\\t\\t\\t\\t\\t<li><span class=\"tit\">\\xed\\x9d\\xa5\\xed\\x96\\x89\\xec\\xa7\\x80\\xec\\x88\\x98</span><strong>161,725</strong></li>\\r\\n\\t\\t\\t\\t\\t\\t<!--\\r\\n\\t\\t\\t\\t\\t\\t<li><a href=\"#\" class=\"btn_graph\"><span class=\"ico\"></span><span>\\xed\\x9d\\xa5\\xed\\x96\\x89\\xec\\x84\\xb1\\xec\\xa0\\x81<br />\\xea\\xb7\\xb8\\xeb\\x9e\\x98\\xed\\x94\\x84\\xeb\\xa1\\x9c \\xeb\\xb3\\xb4\\xea\\xb8\\xb0</span></a></li>\\r\\n\\t\\t\\t\\t\\t\\t-->\\r\\n\\t\\t\\t\\t\\t</ul>\\r\\n\\t\\t\\t\\t\\t<!-- \\xec\\x98\\x81\\xed\\x99\\x94\\xed\\x8f\\xac\\xec\\x8a\\xa4\\xed\\x84\\xb0\\xeb\\x8a\\x94 \\xec\\xb5\\x9c\\xeb\\x8c\\x80 5\\xea\\xb0\\x9c\\xea\\xb9\\x8c\\xec\\xa7\\x80\\xeb\\xa7\\x8c -->\\r\\n\\t\\t\\t\\t\\t<ul class=\"mov_list\">\\r\\n\\t\\t\\t\\t\\t\\t\\r\\n\\t\\t\\t\\t\\t\\t\\t<li>\\r\\n\\t\\t\\t\\t\\t\\t\\t\\t<a href=\"/movie/info/?movie_id=57227\">\\r\\n\\t\\t\\t\\t\\t\\t\\t\\t\\t<img src=\"https://image.cine21.com/resize/cine21/poster/2021/0928/10_31_26__6152706e344e6[X85,120].jpg\" alt=\"\" class=\"thumb\"  target=\"_blank\" />\\r\\n\\t\\t\\t\\t\\t\\t\\t\\t\\t<span>\\xea\\xb8\\xb0\\xec\\xa0\\x81</span>\\r\\n\\t\\t\\t\\t\\t\\t\\t\\t</a>\\r\\n\\t\\t\\t\\t\\t\\t\\t</li>\\r\\n\\t\\t\\t\\t\\t\\t\\t\\t\\t\\t\\t</ul>\\r\\n\\t\\t\\t\\t\\t<!-- \\xec\\x88\\x9c\\xec\\x9c\\x84 --><span class=\"grade\">1</span>\\r\\n\\t\\t\\t\\t</li>\\r\\n\\t\\t\\t\\t<li class=\"people_li\">\\r\\n\\t\\t\\t\\t\\t<a href=\"/db/person/info/?person_id=25123\"><img src=\"https://image.cine21.com/resize/cine21/person/2020/0108/11_20_05__5e153c55bdaea[X145,145].jpg\" alt=\"\" class=\"people_thumb\" target=\"_blank\" /></a>\\r\\n\\t\\t\\t\\t\\t<div class=\"name\"><a href=\"/db/person/info/?person_id=25123\">\\xec\\x9d\\xb4\\xec\\x84\\xb1\\xeb\\xaf\\xbc(1\\xed\\x8e\\xb8)</a></div>\\r\\n\\t\\t\\t\\t\\t<ul class=\"num_info\">\\r\\n\\t\\t\\t\\t\\t\\t<li><span class=\"tit\">\\xed\\x9d\\xa5\\xed\\x96\\x89\\xec\\xa7\\x80\\xec\\x88\\x98</span><strong>121,294</strong></li>\\r\\n\\t\\t\\t\\t\\t\\t<!--\\r\\n\\t\\t\\t\\t\\t\\t<li><a href=\"#\" class=\"btn_graph\"><span class=\"ico\"></span><span>\\xed\\x9d\\xa5\\xed\\x96\\x89\\xec\\x84\\xb1\\xec\\xa0\\x81<br />\\xea\\xb7\\xb8\\xeb\\x9e\\x98\\xed\\x94\\x84\\xeb\\xa1\\x9c \\xeb\\xb3\\xb4\\xea\\xb8\\xb0</span></a></li>\\r\\n\\t\\t\\t\\t\\t\\t-->\\r\\n\\t\\t\\t\\t\\t</ul>\\r\\n\\t\\t\\t\\t\\t<!-- \\xec\\x98\\x81\\xed\\x99\\x94\\xed\\x8f\\xac\\xec\\x8a\\xa4\\xed\\x84\\xb0\\xeb\\x8a\\x94 \\xec\\xb5\\x9c\\xeb\\x8c\\x80 5\\xea\\xb0\\x9c\\xea\\xb9\\x8c\\xec\\xa7\\x80\\xeb\\xa7\\x8c -->\\r\\n\\t\\t\\t\\t\\t<ul class=\"mov_list\">\\r\\n\\t\\t\\t\\t\\t\\t\\r\\n\\t\\t\\t\\t\\t\\t\\t<li>\\r\\n\\t\\t\\t\\t\\t\\t\\t\\t<a href=\"/movie/info/?movie_id=57227\">\\r\\n\\t\\t\\t\\t\\t\\t\\t\\t\\t<img src=\"https://image.cine21.com/resize/cine21/poster/2021/0928/10_31_26__6152706e344e6[X85,120].jpg\" alt=\"\" class=\"thumb\"  target=\"_blank\" />\\r\\n\\t\\t\\t\\t\\t\\t\\t\\t\\t<span>\\xea\\xb8\\xb0\\xec\\xa0\\x81</span>\\r\\n\\t\\t\\t\\t\\t\\t\\t\\t</a>\\r\\n\\t\\t\\t\\t\\t\\t\\t</li>\\r\\n\\t\\t\\t\\t\\t\\t\\t\\t\\t\\t\\t</ul>\\r\\n\\t\\t\\t\\t\\t<!-- \\xec\\x88\\x9c\\xec\\x9c\\x84 --><span class=\"grade\">2</span>\\r\\n\\t\\t\\t\\t</li>\\r\\n\\t\\t\\t\\t<li class=\"people_li\">\\r\\n\\t\\t\\t\\t\\t<a href=\"/db/person/info/?person_id=66313\"><img src=\"https://image.cine21.com/resize/cine21/person/2021/0927/15_22_17__615163198ef1b[X145,145].jpg\" alt=\"\" class=\"people_thumb\" target=\"_blank\" /></a>\\r\\n\\t\\t\\t\\t\\t<div class=\"name\"><a href=\"/db/person/info/?person_id=66313\">\\xec\\x9e\\x84\\xec\\x9c\\xa4\\xec\\x95\\x84(1\\xed\\x8e\\xb8)</a></div>\\r\\n\\t\\t\\t\\t\\t<ul class=\"num_info\">\\r\\n\\t\\t\\t\\t\\t\\t<li><span class=\"tit\">\\xed\\x9d\\xa5\\xed\\x96\\x89\\xec\\xa7\\x80\\xec\\x88\\x98</span><strong>80,862</strong></li>\\r\\n\\t\\t\\t\\t\\t\\t<!--\\r\\n\\t\\t\\t\\t\\t\\t<li><a href=\"#\" class=\"btn_graph\"><span class=\"ico\"></span><span>\\xed\\x9d\\xa5\\xed\\x96\\x89\\xec\\x84\\xb1\\xec\\xa0\\x81<br />\\xea\\xb7\\xb8\\xeb\\x9e\\x98\\xed\\x94\\x84\\xeb\\xa1\\x9c \\xeb\\xb3\\xb4\\xea\\xb8\\xb0</span></a></li>\\r\\n\\t\\t\\t\\t\\t\\t-->\\r\\n\\t\\t\\t\\t\\t</ul>\\r\\n\\t\\t\\t\\t\\t<!-- \\xec\\x98\\x81\\xed\\x99\\x94\\xed\\x8f\\xac\\xec\\x8a\\xa4\\xed\\x84\\xb0\\xeb\\x8a\\x94 \\xec\\xb5\\x9c\\xeb\\x8c\\x80 5\\xea\\xb0\\x9c\\xea\\xb9\\x8c\\xec\\xa7\\x80\\xeb\\xa7\\x8c -->\\r\\n\\t\\t\\t\\t\\t<ul class=\"mov_list\">\\r\\n\\t\\t\\t\\t\\t\\t\\r\\n\\t\\t\\t\\t\\t\\t\\t<li>\\r\\n\\t\\t\\t\\t\\t\\t\\t\\t<a href=\"/movie/info/?movie_id=57227\">\\r\\n\\t\\t\\t\\t\\t\\t\\t\\t\\t<img src=\"https://image.cine21.com/resize/cine21/poster/2021/0928/10_31_26__6152706e344e6[X85,120].jpg\" alt=\"\" class=\"thumb\"  target=\"_blank\" />\\r\\n\\t\\t\\t\\t\\t\\t\\t\\t\\t<span>\\xea\\xb8\\xb0\\xec\\xa0\\x81</span>\\r\\n\\t\\t\\t\\t\\t\\t\\t\\t</a>\\r\\n\\t\\t\\t\\t\\t\\t\\t</li>\\r\\n\\t\\t\\t\\t\\t\\t\\t\\t\\t\\t\\t</ul>\\r\\n\\t\\t\\t\\t\\t<!-- \\xec\\x88\\x9c\\xec\\x9c\\x84 --><span class=\"grade\">3</span>\\r\\n\\t\\t\\t\\t</li>\\r\\n\\t\\t\\t\\t<li class=\"people_li\">\\r\\n\\t\\t\\t\\t\\t<a href=\"/db/person/info/?person_id=70020\"><img src=\"https://image.cine21.com/resize/cine21/person/2009/1116/P0000006_04[X145,145].jpg\" alt=\"\" class=\"people_thumb\" target=\"_blank\" /></a>\\r\\n\\t\\t\\t\\t\\t<div class=\"name\"><a href=\"/db/person/info/?person_id=70020\">\\xeb\\x85\\xb8\\xed\\x9a\\x8c\\xec\\xb0\\xac(1\\xed\\x8e\\xb8)</a></div>\\r\\n\\t\\t\\t\\t\\t<ul class=\"num_info\">\\r\\n\\t\\t\\t\\t\\t\\t<li><span class=\"tit\">\\xed\\x9d\\xa5\\xed\\x96\\x89\\xec\\xa7\\x80\\xec\\x88\\x98</span><strong>51,594</strong></li>\\r\\n\\t\\t\\t\\t\\t\\t<!--\\r\\n\\t\\t\\t\\t\\t\\t<li><a href=\"#\" class=\"btn_graph\"><span class=\"ico\"></span><span>\\xed\\x9d\\xa5\\xed\\x96\\x89\\xec\\x84\\xb1\\xec\\xa0\\x81<br />\\xea\\xb7\\xb8\\xeb\\x9e\\x98\\xed\\x94\\x84\\xeb\\xa1\\x9c \\xeb\\xb3\\xb4\\xea\\xb8\\xb0</span></a></li>\\r\\n\\t\\t\\t\\t\\t\\t-->\\r\\n\\t\\t\\t\\t\\t</ul>\\r\\n\\t\\t\\t\\t\\t<!-- \\xec\\x98\\x81\\xed\\x99\\x94\\xed\\x8f\\xac\\xec\\x8a\\xa4\\xed\\x84\\xb0\\xeb\\x8a\\x94 \\xec\\xb5\\x9c\\xeb\\x8c\\x80 5\\xea\\xb0\\x9c\\xea\\xb9\\x8c\\xec\\xa7\\x80\\xeb\\xa7\\x8c -->\\r\\n\\t\\t\\t\\t\\t<ul class=\"mov_list\">\\r\\n\\t\\t\\t\\t\\t\\t\\r\\n\\t\\t\\t\\t\\t\\t\\t<li>\\r\\n\\t\\t\\t\\t\\t\\t\\t\\t<a href=\"/movie/info/?movie_id=57921\">\\r\\n\\t\\t\\t\\t\\t\\t\\t\\t\\t<img src=\"https://image.cine21.com/resize/cine21/poster/2021/1018/57921_616cc9dd3e72a[X85,120].jpg\" alt=\"\" class=\"thumb\"  target=\"_blank\" />\\r\\n\\t\\t\\t\\t\\t\\t\\t\\t\\t<span>\\xeb\\x85\\xb8\\xed\\x9a\\x8c\\xec\\xb0\\xac6411</span>\\r\\n\\t\\t\\t\\t\\t\\t\\t\\t</a>\\r\\n\\t\\t\\t\\t\\t\\t\\t</li>\\r\\n\\t\\t\\t\\t\\t\\t\\t\\t\\t\\t\\t</ul>\\r\\n\\t\\t\\t\\t\\t<!-- \\xec\\x88\\x9c\\xec\\x9c\\x84 --><span class=\"grade\">4</span>\\r\\n\\t\\t\\t\\t</li>\\r\\n\\t\\t\\t\\t<li class=\"people_li\">\\r\\n\\t\\t\\t\\t\\t<a href=\"/db/person/info/?person_id=96165\"><img src=\"https://image.cine21.com/resize/cine21/still/2017/1207/13_59_25__5a28caad303f8[X145,145].jpg\" alt=\"\" class=\"people_thumb\" target=\"_blank\" /></a>\\r\\n\\t\\t\\t\\t\\t<div class=\"name\"><a href=\"/db/person/info/?person_id=96165\">\\xec\\x9d\\xb4\\xec\\x88\\x98\\xea\\xb2\\xbd(1\\xed\\x8e\\xb8)</a></div>\\r\\n\\t\\t\\t\\t\\t<ul class=\"num_info\">\\r\\n\\t\\t\\t\\t\\t\\t<li><span class=\"tit\">\\xed\\x9d\\xa5\\xed\\x96\\x89\\xec\\xa7\\x80\\xec\\x88\\x98</span><strong>40,431</strong></li>\\r\\n\\t\\t\\t\\t\\t\\t<!--\\r\\n\\t\\t\\t\\t\\t\\t<li><a href=\"#\" class=\"btn_graph\"><span class=\"ico\"></span><span>\\xed\\x9d\\xa5\\xed\\x96\\x89\\xec\\x84\\xb1\\xec\\xa0\\x81<br />\\xea\\xb7\\xb8\\xeb\\x9e\\x98\\xed\\x94\\x84\\xeb\\xa1\\x9c \\xeb\\xb3\\xb4\\xea\\xb8\\xb0</span></a></li>\\r\\n\\t\\t\\t\\t\\t\\t-->\\r\\n\\t\\t\\t\\t\\t</ul>\\r\\n\\t\\t\\t\\t\\t<!-- \\xec\\x98\\x81\\xed\\x99\\x94\\xed\\x8f\\xac\\xec\\x8a\\xa4\\xed\\x84\\xb0\\xeb\\x8a\\x94 \\xec\\xb5\\x9c\\xeb\\x8c\\x80 5\\xea\\xb0\\x9c\\xea\\xb9\\x8c\\xec\\xa7\\x80\\xeb\\xa7\\x8c -->\\r\\n\\t\\t\\t\\t\\t<ul class=\"mov_list\">\\r\\n\\t\\t\\t\\t\\t\\t\\r\\n\\t\\t\\t\\t\\t\\t\\t<li>\\r\\n\\t\\t\\t\\t\\t\\t\\t\\t<a href=\"/movie/info/?movie_id=57227\">\\r\\n\\t\\t\\t\\t\\t\\t\\t\\t\\t<img src=\"https://image.cine21.com/resize/cine21/poster/2021/0928/10_31_26__6152706e344e6[X85,120].jpg\" alt=\"\" class=\"thumb\"  target=\"_blank\" />\\r\\n\\t\\t\\t\\t\\t\\t\\t\\t\\t<span>\\xea\\xb8\\xb0\\xec\\xa0\\x81</span>\\r\\n\\t\\t\\t\\t\\t\\t\\t\\t</a>\\r\\n\\t\\t\\t\\t\\t\\t\\t</li>\\r\\n\\t\\t\\t\\t\\t\\t\\t\\t\\t\\t\\t</ul>\\r\\n\\t\\t\\t\\t\\t<!-- \\xec\\x88\\x9c\\xec\\x9c\\x84 --><span class=\"grade\">5</span>\\r\\n\\t\\t\\t\\t</li>\\r\\n\\t\\t\\t\\t<li class=\"people_li\">\\r\\n\\t\\t\\t\\t\\t<a href=\"/db/person/info/?person_id=32987\"><img src=\"https://image.cine21.com/resize/cine21/person/2021/0713/19_03_32__60ed64f4d30da[X145,145].jpg\" alt=\"\" class=\"people_thumb\" target=\"_blank\" /></a>\\r\\n\\t\\t\\t\\t\\t<div class=\"name\"><a href=\"/db/person/info/?person_id=32987\">\\xeb\\xb0\\x95\\xec\\x98\\x81\\xeb\\x82\\xa8(1\\xed\\x8e\\xb8)</a></div>\\r\\n\\t\\t\\t\\t\\t<ul class=\"num_info\">\\r\\n\\t\\t\\t\\t\\t\\t<li><span class=\"tit\">\\xed\\x9d\\xa5\\xed\\x96\\x89\\xec\\xa7\\x80\\xec\\x88\\x98</span><strong>27,908</strong></li>\\r\\n\\t\\t\\t\\t\\t\\t<!--\\r\\n\\t\\t\\t\\t\\t\\t<li><a href=\"#\" class=\"btn_graph\"><span class=\"ico\"></span><span>\\xed\\x9d\\xa5\\xed\\x96\\x89\\xec\\x84\\xb1\\xec\\xa0\\x81<br />\\xea\\xb7\\xb8\\xeb\\x9e\\x98\\xed\\x94\\x84\\xeb\\xa1\\x9c \\xeb\\xb3\\xb4\\xea\\xb8\\xb0</span></a></li>\\r\\n\\t\\t\\t\\t\\t\\t-->\\r\\n\\t\\t\\t\\t\\t</ul>\\r\\n\\t\\t\\t\\t\\t<!-- \\xec\\x98\\x81\\xed\\x99\\x94\\xed\\x8f\\xac\\xec\\x8a\\xa4\\xed\\x84\\xb0\\xeb\\x8a\\x94 \\xec\\xb5\\x9c\\xeb\\x8c\\x80 5\\xea\\xb0\\x9c\\xea\\xb9\\x8c\\xec\\xa7\\x80\\xeb\\xa7\\x8c -->\\r\\n\\t\\t\\t\\t\\t<ul class=\"mov_list\">\\r\\n\\t\\t\\t\\t\\t\\t\\r\\n\\t\\t\\t\\t\\t\\t\\t<li>\\r\\n\\t\\t\\t\\t\\t\\t\\t\\t<a href=\"/movie/info/?movie_id=58107\">\\r\\n\\t\\t\\t\\t\\t\\t\\t\\t\\t<img src=\"https://image.cine21.com/resize/cine21/poster/2021/0903/11_52_57__61318e09828ca[X85,120].jpg\" alt=\"\" class=\"thumb\"  target=\"_blank\" />\\r\\n\\t\\t\\t\\t\\t\\t\\t\\t\\t<span>\\xea\\xb7\\xb9\\xec\\x9e\\xa5\\xed\\x8c\\x90 \\xec\\xa7\\xb1\\xea\\xb5\\xac\\xeb\\x8a\\x94 \\xeb\\xaa\\xbb\\xeb\\xa7\\x90\\xeb\\xa0\\xa4: \\xea\\xb2\\xa9\\xeb\\x8f\\x8c! \\xeb\\x82\\x99\\xec\\x84\\x9c\\xec\\x99\\x95\\xea\\xb5\\xad\\xea\\xb3\\xbc \\xec\\x96\\xbc\\xec\\xb6\\x94 \\xeb\\x84\\xa4 \\xeb\\xaa\\x85\\xec\\x9d\\x98 \\xec\\x9a\\xa9\\xec\\x82\\xac\\xeb\\x93\\xa4</span>\\r\\n\\t\\t\\t\\t\\t\\t\\t\\t</a>\\r\\n\\t\\t\\t\\t\\t\\t\\t</li>\\r\\n\\t\\t\\t\\t\\t\\t\\t\\t\\t\\t\\t</ul>\\r\\n\\t\\t\\t\\t\\t<!-- \\xec\\x88\\x9c\\xec\\x9c\\x84 --><span class=\"grade\">6</span>\\r\\n\\t\\t\\t\\t</li>\\r\\n\\t\\t\\t\\t<li class=\"people_li\">\\r\\n\\t\\t\\t\\t\\t<a href=\"/db/person/info/?person_id=74727\"><img src=\"https://image.cine21.com/resize/cine21/person/2021/0713/19_05_58__60ed65866f3cd[X145,145].jpg\" alt=\"\" class=\"people_thumb\" target=\"_blank\" /></a>\\r\\n\\t\\t\\t\\t\\t<div class=\"name\"><a href=\"/db/person/info/?person_id=74727\">\\xea\\xb9\\x80\\xed\\x99\\x98\\xec\\xa7\\x84(1\\xed\\x8e\\xb8)</a></div>\\r\\n\\t\\t\\t\\t\\t<ul class=\"num_info\">\\r\\n\\t\\t\\t\\t\\t\\t<li><span class=\"tit\">\\xed\\x9d\\xa5\\xed\\x96\\x89\\xec\\xa7\\x80\\xec\\x88\\x98</span><strong>24,419</strong></li>\\r\\n\\t\\t\\t\\t\\t\\t<!--\\r\\n\\t\\t\\t\\t\\t\\t<li><a href=\"#\" class=\"btn_graph\"><span class=\"ico\"></span><span>\\xed\\x9d\\xa5\\xed\\x96\\x89\\xec\\x84\\xb1\\xec\\xa0\\x81<br />\\xea\\xb7\\xb8\\xeb\\x9e\\x98\\xed\\x94\\x84\\xeb\\xa1\\x9c \\xeb\\xb3\\xb4\\xea\\xb8\\xb0</span></a></li>\\r\\n\\t\\t\\t\\t\\t\\t-->\\r\\n\\t\\t\\t\\t\\t</ul>\\r\\n\\t\\t\\t\\t\\t<!-- \\xec\\x98\\x81\\xed\\x99\\x94\\xed\\x8f\\xac\\xec\\x8a\\xa4\\xed\\x84\\xb0\\xeb\\x8a\\x94 \\xec\\xb5\\x9c\\xeb\\x8c\\x80 5\\xea\\xb0\\x9c\\xea\\xb9\\x8c\\xec\\xa7\\x80\\xeb\\xa7\\x8c -->\\r\\n\\t\\t\\t\\t\\t<ul class=\"mov_list\">\\r\\n\\t\\t\\t\\t\\t\\t\\r\\n\\t\\t\\t\\t\\t\\t\\t<li>\\r\\n\\t\\t\\t\\t\\t\\t\\t\\t<a href=\"/movie/info/?movie_id=58107\">\\r\\n\\t\\t\\t\\t\\t\\t\\t\\t\\t<img src=\"https://image.cine21.com/resize/cine21/poster/2021/0903/11_52_57__61318e09828ca[X85,120].jpg\" alt=\"\" class=\"thumb\"  target=\"_blank\" />\\r\\n\\t\\t\\t\\t\\t\\t\\t\\t\\t<span>\\xea\\xb7\\xb9\\xec\\x9e\\xa5\\xed\\x8c\\x90 \\xec\\xa7\\xb1\\xea\\xb5\\xac\\xeb\\x8a\\x94 \\xeb\\xaa\\xbb\\xeb\\xa7\\x90\\xeb\\xa0\\xa4: \\xea\\xb2\\xa9\\xeb\\x8f\\x8c! \\xeb\\x82\\x99\\xec\\x84\\x9c\\xec\\x99\\x95\\xea\\xb5\\xad\\xea\\xb3\\xbc \\xec\\x96\\xbc\\xec\\xb6\\x94 \\xeb\\x84\\xa4 \\xeb\\xaa\\x85\\xec\\x9d\\x98 \\xec\\x9a\\xa9\\xec\\x82\\xac\\xeb\\x93\\xa4</span>\\r\\n\\t\\t\\t\\t\\t\\t\\t\\t</a>\\r\\n\\t\\t\\t\\t\\t\\t\\t</li>\\r\\n\\t\\t\\t\\t\\t\\t\\t\\t\\t\\t\\t</ul>\\r\\n\\t\\t\\t\\t\\t<!-- \\xec\\x88\\x9c\\xec\\x9c\\x84 --><span class=\"grade\">7</span>\\r\\n\\t\\t\\t\\t</li>\\r\\n\\t\\t\\t</ul>\\r\\n\\r\\n\\r\\n\\t\\t\\t\\t<div class=\"pagination\"><a href=\"javascript:fetch_list(1)\" class=\"btn_first\"><span class=\"hidden\">\\xec\\xb2\\x98\\xec\\x9d\\x8c\\xec\\x9c\\xbc\\xeb\\xa1\\x9c</span><span class=\"ico\"></span></a><div class=\"page\"><a href=\"javascript:;\" class=\"on\">1</a><a href=\"javascript:fetch_list(2)\">2</a><a href=\"javascript:fetch_list(3)\">3</a><a href=\"javascript:fetch_list(4)\">4</a><a href=\"javascript:fetch_list(5)\">5</a><a href=\"javascript:fetch_list(6)\">6</a><a href=\"javascript:fetch_list(7)\">7</a><a href=\"javascript:fetch_list(8)\">8</a><a href=\"javascript:fetch_list(9)\">9</a><a href=\"javascript:fetch_list(10)\">10</a></div><a href=\"javascript:fetch_list(11)\" class=\"btn_next\"><span class=\"hidden\">\\xeb\\x8b\\xa4\\xec\\x9d\\x8c</span><span class=\"ico\"></span></a><a href=\"javascript:fetch_list(73)\" class=\"btn_end\"><span class=\"hidden\">\\xeb\\x81\\x9d\\xec\\x9c\\xbc\\xeb\\xa1\\x9c</span><span class=\"ico\"></span></a>\\t\\t\\t\\t</div>'"
      ]
     },
     "metadata": {},
     "execution_count": 69
    }
   ],
   "metadata": {}
  },
  {
   "cell_type": "code",
   "execution_count": 8,
   "source": [
    "# html 문서인 soup 객체 생성\n",
    "#soup = bs(response.content.decode('utf-8'), 'html.parser')\n",
    "soup = bs(response.content, 'html.parser')\n",
    "soup"
   ],
   "outputs": [
    {
     "output_type": "execute_result",
     "data": {
      "text/plain": [
       " <ul class=\"people_list\">\n",
       "<li class=\"people_li\">\n",
       "<a href=\"/db/person/info/?person_id=74826\"><img alt=\"\" class=\"people_thumb\" src=\"https://image.cine21.com/resize/cine21/person/2019/0828/11_54_52__5d65ecfc13ca6[X145,145].jpg\" target=\"_blank\"/></a>\n",
       "<div class=\"name\"><a href=\"/db/person/info/?person_id=74826\">박정민(1편)</a></div>\n",
       "<ul class=\"num_info\">\n",
       "<li><span class=\"tit\">흥행지수</span><strong>161,725</strong></li>\n",
       "<!--\n",
       "\t\t\t\t\t\t<li><a href=\"#\" class=\"btn_graph\"><span class=\"ico\"></span><span>흥행성적<br />그래프로 보기</span></a></li>\n",
       "\t\t\t\t\t\t-->\n",
       "</ul>\n",
       "<!-- 영화포스터는 최대 5개까지만 -->\n",
       "<ul class=\"mov_list\">\n",
       "<li>\n",
       "<a href=\"/movie/info/?movie_id=57227\">\n",
       "<img alt=\"\" class=\"thumb\" src=\"https://image.cine21.com/resize/cine21/poster/2021/0928/10_31_26__6152706e344e6[X85,120].jpg\" target=\"_blank\"/>\n",
       "<span>기적</span>\n",
       "</a>\n",
       "</li>\n",
       "</ul>\n",
       "<!-- 순위 --><span class=\"grade\">1</span>\n",
       "</li>\n",
       "<li class=\"people_li\">\n",
       "<a href=\"/db/person/info/?person_id=25123\"><img alt=\"\" class=\"people_thumb\" src=\"https://image.cine21.com/resize/cine21/person/2020/0108/11_20_05__5e153c55bdaea[X145,145].jpg\" target=\"_blank\"/></a>\n",
       "<div class=\"name\"><a href=\"/db/person/info/?person_id=25123\">이성민(1편)</a></div>\n",
       "<ul class=\"num_info\">\n",
       "<li><span class=\"tit\">흥행지수</span><strong>121,294</strong></li>\n",
       "<!--\n",
       "\t\t\t\t\t\t<li><a href=\"#\" class=\"btn_graph\"><span class=\"ico\"></span><span>흥행성적<br />그래프로 보기</span></a></li>\n",
       "\t\t\t\t\t\t-->\n",
       "</ul>\n",
       "<!-- 영화포스터는 최대 5개까지만 -->\n",
       "<ul class=\"mov_list\">\n",
       "<li>\n",
       "<a href=\"/movie/info/?movie_id=57227\">\n",
       "<img alt=\"\" class=\"thumb\" src=\"https://image.cine21.com/resize/cine21/poster/2021/0928/10_31_26__6152706e344e6[X85,120].jpg\" target=\"_blank\"/>\n",
       "<span>기적</span>\n",
       "</a>\n",
       "</li>\n",
       "</ul>\n",
       "<!-- 순위 --><span class=\"grade\">2</span>\n",
       "</li>\n",
       "<li class=\"people_li\">\n",
       "<a href=\"/db/person/info/?person_id=66313\"><img alt=\"\" class=\"people_thumb\" src=\"https://image.cine21.com/resize/cine21/person/2021/0927/15_22_17__615163198ef1b[X145,145].jpg\" target=\"_blank\"/></a>\n",
       "<div class=\"name\"><a href=\"/db/person/info/?person_id=66313\">임윤아(1편)</a></div>\n",
       "<ul class=\"num_info\">\n",
       "<li><span class=\"tit\">흥행지수</span><strong>80,862</strong></li>\n",
       "<!--\n",
       "\t\t\t\t\t\t<li><a href=\"#\" class=\"btn_graph\"><span class=\"ico\"></span><span>흥행성적<br />그래프로 보기</span></a></li>\n",
       "\t\t\t\t\t\t-->\n",
       "</ul>\n",
       "<!-- 영화포스터는 최대 5개까지만 -->\n",
       "<ul class=\"mov_list\">\n",
       "<li>\n",
       "<a href=\"/movie/info/?movie_id=57227\">\n",
       "<img alt=\"\" class=\"thumb\" src=\"https://image.cine21.com/resize/cine21/poster/2021/0928/10_31_26__6152706e344e6[X85,120].jpg\" target=\"_blank\"/>\n",
       "<span>기적</span>\n",
       "</a>\n",
       "</li>\n",
       "</ul>\n",
       "<!-- 순위 --><span class=\"grade\">3</span>\n",
       "</li>\n",
       "<li class=\"people_li\">\n",
       "<a href=\"/db/person/info/?person_id=70020\"><img alt=\"\" class=\"people_thumb\" src=\"https://image.cine21.com/resize/cine21/person/2009/1116/P0000006_04[X145,145].jpg\" target=\"_blank\"/></a>\n",
       "<div class=\"name\"><a href=\"/db/person/info/?person_id=70020\">노회찬(1편)</a></div>\n",
       "<ul class=\"num_info\">\n",
       "<li><span class=\"tit\">흥행지수</span><strong>51,594</strong></li>\n",
       "<!--\n",
       "\t\t\t\t\t\t<li><a href=\"#\" class=\"btn_graph\"><span class=\"ico\"></span><span>흥행성적<br />그래프로 보기</span></a></li>\n",
       "\t\t\t\t\t\t-->\n",
       "</ul>\n",
       "<!-- 영화포스터는 최대 5개까지만 -->\n",
       "<ul class=\"mov_list\">\n",
       "<li>\n",
       "<a href=\"/movie/info/?movie_id=57921\">\n",
       "<img alt=\"\" class=\"thumb\" src=\"https://image.cine21.com/resize/cine21/poster/2021/1018/57921_616cc9dd3e72a[X85,120].jpg\" target=\"_blank\"/>\n",
       "<span>노회찬6411</span>\n",
       "</a>\n",
       "</li>\n",
       "</ul>\n",
       "<!-- 순위 --><span class=\"grade\">4</span>\n",
       "</li>\n",
       "<li class=\"people_li\">\n",
       "<a href=\"/db/person/info/?person_id=96165\"><img alt=\"\" class=\"people_thumb\" src=\"https://image.cine21.com/resize/cine21/still/2017/1207/13_59_25__5a28caad303f8[X145,145].jpg\" target=\"_blank\"/></a>\n",
       "<div class=\"name\"><a href=\"/db/person/info/?person_id=96165\">이수경(1편)</a></div>\n",
       "<ul class=\"num_info\">\n",
       "<li><span class=\"tit\">흥행지수</span><strong>40,431</strong></li>\n",
       "<!--\n",
       "\t\t\t\t\t\t<li><a href=\"#\" class=\"btn_graph\"><span class=\"ico\"></span><span>흥행성적<br />그래프로 보기</span></a></li>\n",
       "\t\t\t\t\t\t-->\n",
       "</ul>\n",
       "<!-- 영화포스터는 최대 5개까지만 -->\n",
       "<ul class=\"mov_list\">\n",
       "<li>\n",
       "<a href=\"/movie/info/?movie_id=57227\">\n",
       "<img alt=\"\" class=\"thumb\" src=\"https://image.cine21.com/resize/cine21/poster/2021/0928/10_31_26__6152706e344e6[X85,120].jpg\" target=\"_blank\"/>\n",
       "<span>기적</span>\n",
       "</a>\n",
       "</li>\n",
       "</ul>\n",
       "<!-- 순위 --><span class=\"grade\">5</span>\n",
       "</li>\n",
       "<li class=\"people_li\">\n",
       "<a href=\"/db/person/info/?person_id=32987\"><img alt=\"\" class=\"people_thumb\" src=\"https://image.cine21.com/resize/cine21/person/2021/0713/19_03_32__60ed64f4d30da[X145,145].jpg\" target=\"_blank\"/></a>\n",
       "<div class=\"name\"><a href=\"/db/person/info/?person_id=32987\">박영남(1편)</a></div>\n",
       "<ul class=\"num_info\">\n",
       "<li><span class=\"tit\">흥행지수</span><strong>27,908</strong></li>\n",
       "<!--\n",
       "\t\t\t\t\t\t<li><a href=\"#\" class=\"btn_graph\"><span class=\"ico\"></span><span>흥행성적<br />그래프로 보기</span></a></li>\n",
       "\t\t\t\t\t\t-->\n",
       "</ul>\n",
       "<!-- 영화포스터는 최대 5개까지만 -->\n",
       "<ul class=\"mov_list\">\n",
       "<li>\n",
       "<a href=\"/movie/info/?movie_id=58107\">\n",
       "<img alt=\"\" class=\"thumb\" src=\"https://image.cine21.com/resize/cine21/poster/2021/0903/11_52_57__61318e09828ca[X85,120].jpg\" target=\"_blank\"/>\n",
       "<span>극장판 짱구는 못말려: 격돌! 낙서왕국과 얼추 네 명의 용사들</span>\n",
       "</a>\n",
       "</li>\n",
       "</ul>\n",
       "<!-- 순위 --><span class=\"grade\">6</span>\n",
       "</li>\n",
       "<li class=\"people_li\">\n",
       "<a href=\"/db/person/info/?person_id=74727\"><img alt=\"\" class=\"people_thumb\" src=\"https://image.cine21.com/resize/cine21/person/2021/0713/19_05_58__60ed65866f3cd[X145,145].jpg\" target=\"_blank\"/></a>\n",
       "<div class=\"name\"><a href=\"/db/person/info/?person_id=74727\">김환진(1편)</a></div>\n",
       "<ul class=\"num_info\">\n",
       "<li><span class=\"tit\">흥행지수</span><strong>24,419</strong></li>\n",
       "<!--\n",
       "\t\t\t\t\t\t<li><a href=\"#\" class=\"btn_graph\"><span class=\"ico\"></span><span>흥행성적<br />그래프로 보기</span></a></li>\n",
       "\t\t\t\t\t\t-->\n",
       "</ul>\n",
       "<!-- 영화포스터는 최대 5개까지만 -->\n",
       "<ul class=\"mov_list\">\n",
       "<li>\n",
       "<a href=\"/movie/info/?movie_id=58107\">\n",
       "<img alt=\"\" class=\"thumb\" src=\"https://image.cine21.com/resize/cine21/poster/2021/0903/11_52_57__61318e09828ca[X85,120].jpg\" target=\"_blank\"/>\n",
       "<span>극장판 짱구는 못말려: 격돌! 낙서왕국과 얼추 네 명의 용사들</span>\n",
       "</a>\n",
       "</li>\n",
       "</ul>\n",
       "<!-- 순위 --><span class=\"grade\">7</span>\n",
       "</li>\n",
       "</ul>\n",
       "<div class=\"pagination\"><a class=\"btn_first\" href=\"javascript:fetch_list(1)\"><span class=\"hidden\">처음으로</span><span class=\"ico\"></span></a><div class=\"page\"><a class=\"on\" href=\"javascript:;\">1</a><a href=\"javascript:fetch_list(2)\">2</a><a href=\"javascript:fetch_list(3)\">3</a><a href=\"javascript:fetch_list(4)\">4</a><a href=\"javascript:fetch_list(5)\">5</a><a href=\"javascript:fetch_list(6)\">6</a><a href=\"javascript:fetch_list(7)\">7</a><a href=\"javascript:fetch_list(8)\">8</a><a href=\"javascript:fetch_list(9)\">9</a><a href=\"javascript:fetch_list(10)\">10</a></div><a class=\"btn_next\" href=\"javascript:fetch_list(11)\"><span class=\"hidden\">다음</span><span class=\"ico\"></span></a><a class=\"btn_end\" href=\"javascript:fetch_list(73)\"><span class=\"hidden\">끝으로</span><span class=\"ico\"></span></a> </div>"
      ]
     },
     "metadata": {},
     "execution_count": 8
    }
   ],
   "metadata": {}
  },
  {
   "cell_type": "code",
   "execution_count": 9,
   "source": [
    "actors =  soup.select(\"li.people_li div.name\")\n",
    "actors\n",
    "#<div class=\"name\"><a href=\"/db/person/info/?person_id=74826\">박정민(1편)</a></div>   \n",
    "for actor in actors:\n",
    "    #actor.text\n",
    "    actor.getText(strip=True)\n",
    "    print(actor.text)"
   ],
   "outputs": [
    {
     "output_type": "stream",
     "name": "stdout",
     "text": [
      "박정민(1편)\n",
      "이성민(1편)\n",
      "임윤아(1편)\n",
      "노회찬(1편)\n",
      "이수경(1편)\n",
      "박영남(1편)\n",
      "김환진(1편)\n"
     ]
    }
   ],
   "metadata": {}
  },
  {
   "cell_type": "code",
   "execution_count": 10,
   "source": [
    "# 정규 표현식 참고 : https://regexr.com/\n",
    "# 문자, 숫자를 찾음 : \\w  0-9a-zA-Z\n",
    "# 특수 기호 () 문자로 인식 : \\( \\)\n",
    "\n",
    "# 2. 반복 표현 ?, *, +\n",
    "# + : 앞 문자가 1번 또는 그 이상 반복되는 패턴\n",
    "# ? : 앞 문자가 0번 또는 1번 표시되는 패턴(없어도 되고, 한번 있어도 되는 패턴)\n",
    "# * : 앞 문자가 0번 또는 그이상 반복되는 패턴\n",
    "import re\n",
    "test_data = '마동석(17편)'\n",
    "#re.sub('정규표현식', '변경데이터', test_data)\n",
    "print(re.sub(\"\\(\\w+\\)\", \"\", test_data))"
   ],
   "outputs": [
    {
     "output_type": "stream",
     "name": "stdout",
     "text": [
      "마동석\n"
     ]
    }
   ],
   "metadata": {
    "scrolled": true
   }
  },
  {
   "cell_type": "code",
   "execution_count": 11,
   "source": [
    "# [실습]\n",
    "# 한 페이지 내의 배우이름만 가져오기\n",
    "import re\n",
    "\n",
    "actors_list = []  # actors_list = list()\n",
    "for actor in actors:\n",
    "    #print(re.sub(\"\\(\\w+\\)\", \"\", actor.getText(strip=True))) \n",
    "    actors_list.append(re.sub(\"\\(\\w+\\)\", \"\", actor.getText(strip=True)))\n",
    "actors_list   # 배우 리스트"
   ],
   "outputs": [
    {
     "output_type": "execute_result",
     "data": {
      "text/plain": [
       "['박정민', '이성민', '임윤아', '노회찬', '이수경', '박영남', '김환진']"
      ]
     },
     "metadata": {},
     "execution_count": 11
    }
   ],
   "metadata": {}
  },
  {
   "cell_type": "markdown",
   "source": [
    "### 각 배우별 상세 정보를 document에 넣고 싶다.\n",
    "* 각 배우별 상세 정보를 별도 컬럼으로 만들려했더니, 각 배우별 상세 정보 항목이 다르다!\n",
    "* 모든 상세 정보 항목을 컬럼으로 만들고, 각 컬럼에 매칭되는 컬럼값을 넣기가 쉽지 않다. 코드도 복잡하고!\n",
    "* Mongodb는 NoSQL -> 통째로 집어넣자.!\n",
    "\n",
    "* embedded document\n",
    "  - document 의 컬럼값으로 document를 넣을 수 있다.\n",
    "\n",
    "ul.people_list li.people_li    \n",
    "<a href=\"/db/person/info/?person_id=74826\">박정민(1편)</a>   \n",
    "- url : 패턴 찾기  \n",
    "박정민    http://www.cine21.com + /db/person/info/?person_id=74826   \n",
    "         http://www.cine21.com/db/person/info/?person_id=74826   \n",
    "윤아      http://www.cine21.com +  /db/person/info/?person_id=74826  \n",
    "         http://www.cine21.com/db/person/info/?person_id=74826  \n",
    "이성민    http://www.cine21.com +  /db/person/info/?person_id=25123  "
   ],
   "metadata": {}
  },
  {
   "cell_type": "code",
   "execution_count": 12,
   "source": [
    "# 배우 상세 정보 추출을 위한 과정 셀\n",
    "actors =  soup.select(\"li.people_li div.name\")\n",
    "#actors\n",
    "#actors[0].select_one('a').attrs['href']  # 한사람에 대한 href 속성의 값\n",
    "#actors_detail_info = list() # 배우 상세 정보 저장\n",
    "for actor in actors:\n",
    "    # 배우 한명의 상세정보를 위한 url\n",
    "    #print(\"http://www.cine21.com\" + actor.select_one('a').attrs['href'])\n",
    "    url_link = \"http://www.cine21.com\" + actor.select_one('a').attrs['href']\n",
    "\n",
    "    res = req.get(url_link)\n",
    "\n",
    "    # 배우 상세정보를 저장하는 soup 객체(html)\n",
    "    soup_actor = bs(res.content, 'html.parser') \n",
    "    # 한 배우에 대한 정보 리스트\n",
    "    #default_info = soup_actor.select_one('ul.default_info')\n",
    "    #print(default_info)\n",
    "    #actor_info_dict = dict() # 배우 한명 정보를 담는 dict 변수\n",
    "\n",
    "    default_info = soup_actor.select_one('ul.default_info')\n",
    "    #print(default_info)\n",
    "    # 한 배우 상세정보를 리스트로 리턴받음    \n",
    "    actor_details = default_info.select('li') \n",
    "    for actor_detail in actor_details:\n",
    "        # 상세정보 key 추출\n",
    "        #print(actor_detail.select_one('span.tit').get_text(strip=True))\n",
    "        #print(type(actor_detail))\n",
    "        # 상세정보 value 추출\n",
    "        actor_detail_value = re.sub('<span.*?>.*?</span>','', str(actor_detail))\n",
    "        actor_detail_value = re.sub('<.*?>','', actor_detail_value).strip()\n",
    "        \n",
    "        #배우 한 명의 정보 dict 저장\n",
    "        print(actor_detail_value)    \n",
    "    print(\"-\" * 10)\n",
    "\n"
   ],
   "outputs": [
    {
     "output_type": "stream",
     "name": "stdout",
     "text": [
      "배우\n",
      "1987-02-25\n",
      "남\n",
      "178cm, 63kg\n",
      "한국예술종합학교 영상원 연극원 연기과\n",
      "----------\n",
      "배우\n",
      "1968-10-15\n",
      "남\n",
      "178cm\n",
      "----------\n",
      "소녀시대; girlsgeneration; girls generation\n",
      "가수\n",
      "1990-05-30\n",
      "여\n",
      "https://www.instagram.com/yoona__lim/\n",
      "SM엔터테인먼트\n",
      "----------\n",
      "1956-08-31\n",
      "2018-07-23\n",
      "남\n",
      "https://twitter.com/hcroh\n",
      "https://www.facebook.com/omyChans\n",
      "----------\n",
      "배우\n",
      "1996-10-24\n",
      "여\n",
      "----------\n",
      "성우\n",
      "1946-10-08\n",
      "여\n",
      "----------\n",
      "성우\n",
      "1952-10-03\n",
      "남\n",
      "----------\n"
     ]
    }
   ],
   "metadata": {}
  },
  {
   "cell_type": "code",
   "execution_count": 13,
   "source": [
    "# 배우 상세 정보 추출을 위한 과정 셀\n",
    "actors =  soup.select(\"li.people_li div.name\")\n",
    "actors_detail_info = list() # 배우 상세 정보 저장\n",
    "for actor in actors:\n",
    "    # 배우 한명의 상세정보를 위한 url\n",
    "    #print(\"http://www.cine21.com\" + actor.select_one('a').attrs['href'])\n",
    "    url_link = \"http://www.cine21.com\" + actor.select_one('a').attrs['href']\n",
    "\n",
    "    res = req.get(url_link)\n",
    "    # 배우 상세정보를 저장하는 soup 객체(html)\n",
    "    soup_actor = bs(res.content, 'html.parser') \n",
    "\n",
    "    # 한 배우에 대한 정보 리스트\n",
    "    actor_info_dict = dict() # 배우 한명 정보를 담는 dict 변수\n",
    "    default_info = soup_actor.select_one('ul.default_info')\n",
    "    # 한 배우 상세정보를 리스트로 리턴받음    \n",
    "    actor_details = default_info.select('li') \n",
    "    for actor_detail in actor_details:\n",
    "        actor_detail_key = actor_detail.select_one('span.tit').get_text(strip=True)\n",
    "        #print(type(actor_detail))\n",
    "        #상세정보 value 추출\n",
    "        actor_detail_value = re.sub('<span.*?>.*?</span>','', str(actor_detail))\n",
    "        actor_detail_value = re.sub('<.*?>','', actor_detail_value).strip()\n",
    "        #배우 한 명의 정보 dict 저장\n",
    "        #print(actor_detail_value)    \n",
    "        actor_info_dict[actor_detail_key] = actor_detail_value\n",
    "        # 방법2 : 상세정보 key와 value 추출 \n",
    "        # actor_detail_key = actor_detail.get_text() \n",
    "        # actor_detail_value = actor_detail.select_one('span').extract().get_text()\n",
    "        # print(actor_detail_key, \":\", actor_detail_value)\n",
    "    # print(\"-\" * 10) \n",
    "    actors_detail_info.append(actor_info_dict)\n",
    "\n",
    "# 배우들의 상세정보 출력\n",
    "print(actors_detail_info)\n",
    "\n",
    "\n"
   ],
   "outputs": [
    {
     "output_type": "stream",
     "name": "stdout",
     "text": [
      "[{'직업': '배우', '생년월일': '1987-02-25', '성별': '남', '신장/체중': '178cm, 63kg', '학교': '한국예술종합학교 영상원 연극원 연기과'}, {'직업': '배우', '생년월일': '1968-10-15', '성별': '남', '신장/체중': '178cm'}, {'다른 이름': '소녀시대; girlsgeneration; girls generation', '직업': '가수', '생년월일': '1990-05-30', '성별': '여', '홈페이지': 'https://www.instagram.com/yoona__lim/', '소속사': 'SM엔터테인먼트'}, {'생년월일': '1956-08-31', '사망': '2018-07-23', '성별': '남', '홈페이지': 'https://twitter.com/hcroh\\nhttps://www.facebook.com/omyChans'}, {'직업': '배우', '생년월일': '1996-10-24', '성별': '여'}, {'직업': '성우', '생년월일': '1946-10-08', '성별': '여'}, {'직업': '성우', '생년월일': '1952-10-03', '성별': '남'}]\n"
     ]
    }
   ],
   "metadata": {}
  },
  {
   "cell_type": "markdown",
   "source": [
    "## 배우 흥행 지수 뽑기\n",
    "- 배우 개인별 흥행지수를 추출 후 ',' 제거하기"
   ],
   "metadata": {}
  },
  {
   "cell_type": "code",
   "execution_count": 14,
   "source": [
    "# 배우 개인별 흥행지수 추출하기\n",
    "actors = soup.select('li.people_li div.name')\n",
    "actors_hit = soup.select('li.people_li ul.num_info strong')\n",
    "actors_hit_info = []\n",
    "for idx, actor in enumerate(actors):\n",
    "    #print(\"배우이름\" ,re.sub('\\(\\w+\\)', '', actor.text))\n",
    "    actor_hit_num = int(actors_hit[idx].text.replace(',',''))\n",
    "    #print(\"흥행지수\", actor_hit_num)\n",
    "    #print('-'*10)    \n",
    "    actors_hit_info.append(actor_hit_num)\n",
    "print(actors_hit_info)"
   ],
   "outputs": [
    {
     "output_type": "stream",
     "name": "stdout",
     "text": [
      "[161725, 121294, 80862, 51594, 40431, 27908, 24419]\n"
     ]
    }
   ],
   "metadata": {}
  },
  {
   "cell_type": "markdown",
   "source": [
    "## 각 배우별 출연 영화를 document에 저장하기\n",
    "  - 출연 영화는 한 개가 될 수도 있고, 여러 개가 될 수도 있음\n",
    "  - 파이썬은 리스트, mongodb document는 컬럼에 배열(array)로 넣으면 됨 "
   ],
   "metadata": {}
  },
  {
   "cell_type": "code",
   "execution_count": 15,
   "source": [
    "# 배우 출현 영화만 추출\n",
    "movie_list = list()\n",
    "movies = soup.select('li.people_li ul.mov_list')\n",
    "#print(movies)\n",
    "for movie in movies:\n",
    "    actor_movies = list()\n",
    "    movie_titles = movie.select('ul.mov_list li a span')\n",
    "    #print(movie_titles)\n",
    "    for movie_title in movie_titles:\n",
    "        actor_movies.append(movie_title.text)\n",
    "        print(movie_title.text)\n",
    "    movie_list.append(actor_movies)\n",
    "    print('-'*10)"
   ],
   "outputs": [
    {
     "output_type": "stream",
     "name": "stdout",
     "text": [
      "기적\n",
      "----------\n",
      "기적\n",
      "----------\n",
      "기적\n",
      "----------\n",
      "노회찬6411\n",
      "----------\n",
      "기적\n",
      "----------\n",
      "극장판 짱구는 못말려: 격돌! 낙서왕국과 얼추 네 명의 용사들\n",
      "----------\n",
      "극장판 짱구는 못말려: 격돌! 낙서왕국과 얼추 네 명의 용사들\n",
      "----------\n"
     ]
    }
   ],
   "metadata": {}
  },
  {
   "cell_type": "markdown",
   "source": [
    "### insert_one() 로 하나씩 데이터 입력하기 (반복문과 함께 사용하면, 여러 데이터를 넣을 수 있음)"
   ],
   "metadata": {}
  },
  {
   "cell_type": "markdown",
   "source": [
    "- actor_list: 배우 이름\n",
    "- actor_details: 배우 상세 정보\n",
    "- actor_rate: 흥행 지수\n",
    "- date: 기준월\n",
    "- movie_list: 출연 영화 리스트!"
   ],
   "metadata": {}
  },
  {
   "cell_type": "code",
   "execution_count": null,
   "source": [],
   "outputs": [],
   "metadata": {}
  },
  {
   "cell_type": "code",
   "execution_count": 16,
   "source": [
    "# 한 배우 정보(document)씩 몽고DB에 insert\n",
    "for num, actor in enumerate(actors_list):\n",
    "    actor_collection.insert_one(\n",
    "        {\"actor\":actor, \n",
    "         \"actor_details\": actors_detail_info[num], \n",
    "         \"actor_hit\":actors_hit_info[num], \n",
    "         \"date\":month, \n",
    "         \"movie_list\":movie_list[num]})"
   ],
   "outputs": [],
   "metadata": {}
  },
  {
   "cell_type": "markdown",
   "source": [
    "### insert_many() 실행"
   ],
   "metadata": {}
  },
  {
   "cell_type": "code",
   "execution_count": null,
   "source": [
    "# dict 타입의 actor들의 정보를 list로 저장\n",
    "# insert_many()를 수행하기 위해서는 document를 list로 만들어야함.\n",
    "actors_info = list()   \n",
    "for num, actor in enumerate(actors_list):\n",
    "    actors_info.append(\n",
    "        {\"actor\":actor, \n",
    "         \"actor_details\": actors_detail_info[num], \n",
    "         \"actor_rate\":actors_hit_info[num], \n",
    "         \"date\":month, \n",
    "         \"movie_list\":movie_list[num]}\n",
    "    )\n",
    "print(actors_info) # 리스트 결과 확인\n",
    "actor_collection.insert_many(actors_info)"
   ],
   "outputs": [],
   "metadata": {}
  },
  {
   "cell_type": "markdown",
   "source": [
    "### document key 명을 변경하는 방법\n",
    "- 실습 : actor_details -> actor_info"
   ],
   "metadata": {}
  },
  {
   "cell_type": "code",
   "execution_count": null,
   "source": [
    "#actor_collection.update_many({}, {\"$rename\": {\"원래키\" : \"변경할 키\"} })\n",
    "actor_collection.update_many({}, {\"$rename\": {\"actor\" : \"actor_name\"} })"
   ],
   "outputs": [],
   "metadata": {}
  },
  {
   "cell_type": "code",
   "execution_count": null,
   "source": [
    "# collection drop\n",
    "actor_collection.drop()"
   ],
   "outputs": [],
   "metadata": {
    "collapsed": true,
    "scrolled": true
   }
  },
  {
   "cell_type": "code",
   "execution_count": null,
   "source": [
    "# collection 찾기\n",
    "docs = actor_collection.find()\n",
    "docs"
   ],
   "outputs": [],
   "metadata": {
    "collapsed": true,
    "scrolled": true
   }
  },
  {
   "cell_type": "code",
   "execution_count": null,
   "source": [
    "for doc in docs:\n",
    "    print(doc)"
   ],
   "outputs": [],
   "metadata": {
    "collapsed": true,
    "scrolled": true
   }
  }
 ],
 "metadata": {
  "interpreter": {
   "hash": "fc13c0a8e8d12ce08c95072973631411a4695aaf4b5a0fe7d466f6f9f1488ae1"
  },
  "kernelspec": {
   "name": "python3",
   "display_name": "Python 3.8.0 64-bit ('gathVENV': venv)"
  },
  "language_info": {
   "codemirror_mode": {
    "name": "ipython",
    "version": 3
   },
   "file_extension": ".py",
   "mimetype": "text/x-python",
   "name": "python",
   "nbconvert_exporter": "python",
   "pygments_lexer": "ipython3",
   "version": "3.8.0"
  },
  "nbTranslate": {
   "displayLangs": [
    "*"
   ],
   "hotkey": "alt-t",
   "langInMainMenu": true,
   "sourceLang": "en",
   "targetLang": "fr",
   "useGoogleTranslate": true
  }
 },
 "nbformat": 4,
 "nbformat_minor": 1
}