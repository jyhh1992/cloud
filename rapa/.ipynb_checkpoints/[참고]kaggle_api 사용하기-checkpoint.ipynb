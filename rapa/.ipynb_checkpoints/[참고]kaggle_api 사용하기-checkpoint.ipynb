{
 "cells": [
  {
   "cell_type": "code",
   "execution_count": 4,
   "metadata": {
    "executionInfo": {
     "elapsed": 244,
     "status": "ok",
     "timestamp": 1634058999858,
     "user": {
      "displayName": "경하김",
      "photoUrl": "https://lh3.googleusercontent.com/a/default-user=s64",
      "userId": "00010385631009285573"
     },
     "user_tz": -540
    },
    "id": "g49RuFGrBvt7"
   },
   "outputs": [],
   "source": [
    "import pandas as pd\n",
    "import numpy as np\n",
    "import matplotlib.pyplot as plt\n",
    "import seaborn as sns"
   ]
  },
  {
   "cell_type": "markdown",
   "metadata": {
    "id": "paInbv8Ys-Qy"
   },
   "source": [
    "### 문제 1. Colab Notebook에 Kaggle API 세팅하기\n",
    "\n",
    "참조 ; https://teddylee777.github.io/kaggle/Kaggle-API-%EC%82%AC%EC%9A%A9%EB%B2%95"
   ]
  },
  {
   "cell_type": "code",
   "execution_count": 5,
   "metadata": {
    "executionInfo": {
     "elapsed": 276,
     "status": "ok",
     "timestamp": 1634059002949,
     "user": {
      "displayName": "경하김",
      "photoUrl": "https://lh3.googleusercontent.com/a/default-user=s64",
      "userId": "00010385631009285573"
     },
     "user_tz": -540
    },
    "id": "RRXGYV60B7FX"
   },
   "outputs": [],
   "source": [
    "import os"
   ]
  },
  {
   "cell_type": "code",
   "execution_count": 7,
   "metadata": {
    "executionInfo": {
     "elapsed": 251,
     "status": "ok",
     "timestamp": 1634059011247,
     "user": {
      "displayName": "경하김",
      "photoUrl": "https://lh3.googleusercontent.com/a/default-user=s64",
      "userId": "00010385631009285573"
     },
     "user_tz": -540
    },
    "id": "mMKFOC0OBtHO"
   },
   "outputs": [],
   "source": [
    "# os.environ을 이용하여 Kaggle API Username, Key 세팅하기\n",
    "os.environ['KAGGLE_USERNAME'] = 'usernaem'\n",
    "os.environ['KAGGLE_KEY'] = 'kaggle_key값'"
   ]
  },
  {
   "cell_type": "code",
   "execution_count": 10,
   "metadata": {
    "colab": {
     "base_uri": "https://localhost:8080/"
    },
    "executionInfo": {
     "elapsed": 662,
     "status": "ok",
     "timestamp": 1634059623488,
     "user": {
      "displayName": "경하김",
      "photoUrl": "https://lh3.googleusercontent.com/a/default-user=s64",
      "userId": "00010385631009285573"
     },
     "user_tz": -540
    },
    "id": "uKJezANVgVcj",
    "outputId": "1b45e93a-78d5-47ed-fe26-35ea536306b8"
   },
   "outputs": [
    {
     "name": "stdout",
     "output_type": "stream",
     "text": [
      "401 - Unauthorized\n"
     ]
    }
   ],
   "source": [
    "# Linux 명령어로 압축 해제하기 (현재 구글에서 kaggle 다운로드를 막아놓음)\n",
    "!kaggle datasets download -d bobbyscience/ league-of-legends-diamond-ranked-games-10-min\n",
    "!unzip '*.zip'  "
   ]
  },
  {
   "cell_type": "markdown",
   "metadata": {
    "id": "zvbeoB_WtBi-"
   },
   "source": [
    "### 문제 2. 리눅스에서 데이터 다운로드 및 압축 해제하기"
   ]
  },
  {
   "cell_type": "markdown",
   "metadata": {
    "executionInfo": {
     "elapsed": 2400,
     "status": "ok",
     "timestamp": 1610316448737,
     "user": {
      "displayName": "김패캠",
      "photoUrl": "",
      "userId": "06994282823286758918"
     },
     "user_tz": -540
    },
    "id": "JSblp2NsCGbh",
    "outputId": "5e6092ad-23bd-442d-a223-29b63ad8d545"
   },
   "source": [
    "## 리눅스 로컬에서는\n",
    "터미널 셀에서 명령을 실행을 해야함. "
   ]
  },
  {
   "cell_type": "markdown",
   "metadata": {
    "id": "Ozh8B2IjhGmL"
   },
   "source": [
    "1. kaggle 명령 프로그램 설치  \n",
    "\n",
    "$ pip3.8 install kaggle --upgrade"
   ]
  },
  {
   "cell_type": "markdown",
   "metadata": {
    "id": "9-jvRk-IhLvJ"
   },
   "source": [
    "\n",
    "2. kaggle key (json) 파일 다운로드  \n",
    "~/.kaggle/kaggle.json  \n",
    "-- 키파일이기 때문에 파일퍼미션 변경  \n",
    "$ chmod 600 ~/.kaggle/kaggle.json"
   ]
  },
  {
   "cell_type": "markdown",
   "metadata": {
    "id": "aJ34SovLtFI8"
   },
   "source": [
    "\n",
    "3. Linux 명령어로 압축 해제하기  \n",
    "!kaggle datasets download -d bobbyscience/  league-of-legends-diamond-ranked-games-10-min  \n",
    "!unzip '*.zip'  \n"
   ]
  }
 ],
 "metadata": {
  "colab": {
   "collapsed_sections": [],
   "name": "[참고]kaggle_api 사용하기.ipynb",
   "provenance": []
  },
  "kernelspec": {
   "display_name": "Python 3",
   "language": "python",
   "name": "python3"
  },
  "language_info": {
   "codemirror_mode": {
    "name": "ipython",
    "version": 3
   },
   "file_extension": ".py",
   "mimetype": "text/x-python",
   "name": "python",
   "nbconvert_exporter": "python",
   "pygments_lexer": "ipython3",
   "version": "3.8.5"
  }
 },
 "nbformat": 4,
 "nbformat_minor": 0
}
