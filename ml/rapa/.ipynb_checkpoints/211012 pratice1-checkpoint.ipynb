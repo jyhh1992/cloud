{
 "cells": [
  {
   "cell_type": "code",
   "execution_count": 1,
   "id": "122954c8",
   "metadata": {},
   "outputs": [],
   "source": [
    "import numpy as np\n",
    "import pandas as pd\n",
    "import matplotlib.pyplot as plt\n",
    "import seaborn as sns\n",
    "from sklearn.linear_model import LinearRegression\n",
    "from sklearn.model_selection import train_test_split\n",
    "#데이터셔플\n",
    "from sklearn.metrics import mean_squared_error\n",
    "# mse 계산"
   ]
  },
  {
   "cell_type": "code",
   "execution_count": 2,
   "id": "3eb6b617",
   "metadata": {},
   "outputs": [],
   "source": [
    "data = \"./data/weight-height.csv\"\n",
    "df_weight_height = pd.read_csv(data)"
   ]
  },
  {
   "cell_type": "code",
   "execution_count": 3,
   "id": "ca2fdbcc",
   "metadata": {},
   "outputs": [
    {
     "data": {
      "text/html": [
       "<div>\n",
       "<style scoped>\n",
       "    .dataframe tbody tr th:only-of-type {\n",
       "        vertical-align: middle;\n",
       "    }\n",
       "\n",
       "    .dataframe tbody tr th {\n",
       "        vertical-align: top;\n",
       "    }\n",
       "\n",
       "    .dataframe thead th {\n",
       "        text-align: right;\n",
       "    }\n",
       "</style>\n",
       "<table border=\"1\" class=\"dataframe\">\n",
       "  <thead>\n",
       "    <tr style=\"text-align: right;\">\n",
       "      <th></th>\n",
       "      <th>Gender</th>\n",
       "      <th>Height</th>\n",
       "      <th>Weight</th>\n",
       "    </tr>\n",
       "  </thead>\n",
       "  <tbody>\n",
       "    <tr>\n",
       "      <th>0</th>\n",
       "      <td>Male</td>\n",
       "      <td>73.847017</td>\n",
       "      <td>241.893563</td>\n",
       "    </tr>\n",
       "    <tr>\n",
       "      <th>1</th>\n",
       "      <td>Male</td>\n",
       "      <td>68.781904</td>\n",
       "      <td>162.310473</td>\n",
       "    </tr>\n",
       "    <tr>\n",
       "      <th>2</th>\n",
       "      <td>Male</td>\n",
       "      <td>74.110105</td>\n",
       "      <td>212.740856</td>\n",
       "    </tr>\n",
       "    <tr>\n",
       "      <th>3</th>\n",
       "      <td>Male</td>\n",
       "      <td>71.730978</td>\n",
       "      <td>220.042470</td>\n",
       "    </tr>\n",
       "    <tr>\n",
       "      <th>4</th>\n",
       "      <td>Male</td>\n",
       "      <td>69.881796</td>\n",
       "      <td>206.349801</td>\n",
       "    </tr>\n",
       "  </tbody>\n",
       "</table>\n",
       "</div>"
      ],
      "text/plain": [
       "  Gender     Height      Weight\n",
       "0   Male  73.847017  241.893563\n",
       "1   Male  68.781904  162.310473\n",
       "2   Male  74.110105  212.740856\n",
       "3   Male  71.730978  220.042470\n",
       "4   Male  69.881796  206.349801"
      ]
     },
     "execution_count": 3,
     "metadata": {},
     "output_type": "execute_result"
    }
   ],
   "source": [
    "df_weight_height.head()"
   ]
  },
  {
   "cell_type": "code",
   "execution_count": 4,
   "id": "a9f5220c",
   "metadata": {},
   "outputs": [],
   "source": [
    "df_weight_height[\"Height\"] = 2.54*df_weight_height[\"Height\"]\n",
    "df_weight_height[\"Weight\"] = 0.4563*df_weight_height[\"Weight\"]"
   ]
  },
  {
   "cell_type": "code",
   "execution_count": null,
   "id": "46c21770",
   "metadata": {},
   "outputs": [],
   "source": [
    "df_weight_height[\"Height\"] = df_weight_height[\"Height\"].apply(lambda x: x * 2.54)\n",
    "df_weight_height[\"Weight\"] = df_weight_height[\"Weight\"].apply(lambda x: x * 0.4563)"
   ]
  },
  {
   "cell_type": "code",
   "execution_count": 5,
   "id": "535dc3f3",
   "metadata": {},
   "outputs": [
    {
     "data": {
      "text/html": [
       "<div>\n",
       "<style scoped>\n",
       "    .dataframe tbody tr th:only-of-type {\n",
       "        vertical-align: middle;\n",
       "    }\n",
       "\n",
       "    .dataframe tbody tr th {\n",
       "        vertical-align: top;\n",
       "    }\n",
       "\n",
       "    .dataframe thead th {\n",
       "        text-align: right;\n",
       "    }\n",
       "</style>\n",
       "<table border=\"1\" class=\"dataframe\">\n",
       "  <thead>\n",
       "    <tr style=\"text-align: right;\">\n",
       "      <th></th>\n",
       "      <th>Gender</th>\n",
       "      <th>Height</th>\n",
       "      <th>Weight</th>\n",
       "    </tr>\n",
       "  </thead>\n",
       "  <tbody>\n",
       "    <tr>\n",
       "      <th>0</th>\n",
       "      <td>Male</td>\n",
       "      <td>187.571423</td>\n",
       "      <td>110.376033</td>\n",
       "    </tr>\n",
       "    <tr>\n",
       "      <th>1</th>\n",
       "      <td>Male</td>\n",
       "      <td>174.706036</td>\n",
       "      <td>74.062269</td>\n",
       "    </tr>\n",
       "    <tr>\n",
       "      <th>2</th>\n",
       "      <td>Male</td>\n",
       "      <td>188.239668</td>\n",
       "      <td>97.073652</td>\n",
       "    </tr>\n",
       "    <tr>\n",
       "      <th>3</th>\n",
       "      <td>Male</td>\n",
       "      <td>182.196685</td>\n",
       "      <td>100.405379</td>\n",
       "    </tr>\n",
       "    <tr>\n",
       "      <th>4</th>\n",
       "      <td>Male</td>\n",
       "      <td>177.499761</td>\n",
       "      <td>94.157414</td>\n",
       "    </tr>\n",
       "  </tbody>\n",
       "</table>\n",
       "</div>"
      ],
      "text/plain": [
       "  Gender      Height      Weight\n",
       "0   Male  187.571423  110.376033\n",
       "1   Male  174.706036   74.062269\n",
       "2   Male  188.239668   97.073652\n",
       "3   Male  182.196685  100.405379\n",
       "4   Male  177.499761   94.157414"
      ]
     },
     "execution_count": 5,
     "metadata": {},
     "output_type": "execute_result"
    }
   ],
   "source": [
    "df_weight_height.head()"
   ]
  },
  {
   "cell_type": "code",
   "execution_count": 6,
   "id": "ae73c893",
   "metadata": {},
   "outputs": [
    {
     "data": {
      "text/plain": [
       "(10000, 3)"
      ]
     },
     "execution_count": 6,
     "metadata": {},
     "output_type": "execute_result"
    }
   ],
   "source": [
    "df_weight_height.shape"
   ]
  },
  {
   "cell_type": "code",
   "execution_count": 7,
   "id": "d2ca221e",
   "metadata": {},
   "outputs": [
    {
     "name": "stdout",
     "output_type": "stream",
     "text": [
      "<class 'pandas.core.frame.DataFrame'>\n",
      "RangeIndex: 10000 entries, 0 to 9999\n",
      "Data columns (total 3 columns):\n",
      " #   Column  Non-Null Count  Dtype  \n",
      "---  ------  --------------  -----  \n",
      " 0   Gender  10000 non-null  object \n",
      " 1   Height  10000 non-null  float64\n",
      " 2   Weight  10000 non-null  float64\n",
      "dtypes: float64(2), object(1)\n",
      "memory usage: 234.5+ KB\n"
     ]
    }
   ],
   "source": [
    "df_weight_height.info()"
   ]
  },
  {
   "cell_type": "code",
   "execution_count": 8,
   "id": "d143909b",
   "metadata": {},
   "outputs": [
    {
     "data": {
      "text/html": [
       "<div>\n",
       "<style scoped>\n",
       "    .dataframe tbody tr th:only-of-type {\n",
       "        vertical-align: middle;\n",
       "    }\n",
       "\n",
       "    .dataframe tbody tr th {\n",
       "        vertical-align: top;\n",
       "    }\n",
       "\n",
       "    .dataframe thead th {\n",
       "        text-align: right;\n",
       "    }\n",
       "</style>\n",
       "<table border=\"1\" class=\"dataframe\">\n",
       "  <thead>\n",
       "    <tr style=\"text-align: right;\">\n",
       "      <th></th>\n",
       "      <th>Height</th>\n",
       "      <th>Weight</th>\n",
       "    </tr>\n",
       "  </thead>\n",
       "  <tbody>\n",
       "    <tr>\n",
       "      <th>count</th>\n",
       "      <td>10000.000000</td>\n",
       "      <td>10000.000000</td>\n",
       "    </tr>\n",
       "    <tr>\n",
       "      <th>mean</th>\n",
       "      <td>168.573602</td>\n",
       "      <td>73.665235</td>\n",
       "    </tr>\n",
       "    <tr>\n",
       "      <th>std</th>\n",
       "      <td>9.772721</td>\n",
       "      <td>14.651081</td>\n",
       "    </tr>\n",
       "    <tr>\n",
       "      <th>min</th>\n",
       "      <td>137.828359</td>\n",
       "      <td>29.522668</td>\n",
       "    </tr>\n",
       "    <tr>\n",
       "      <th>25%</th>\n",
       "      <td>161.304276</td>\n",
       "      <td>61.973777</td>\n",
       "    </tr>\n",
       "    <tr>\n",
       "      <th>50%</th>\n",
       "      <td>168.447898</td>\n",
       "      <td>73.561459</td>\n",
       "    </tr>\n",
       "    <tr>\n",
       "      <th>75%</th>\n",
       "      <td>175.702625</td>\n",
       "      <td>85.405454</td>\n",
       "    </tr>\n",
       "    <tr>\n",
       "      <th>max</th>\n",
       "      <td>200.656806</td>\n",
       "      <td>123.196299</td>\n",
       "    </tr>\n",
       "  </tbody>\n",
       "</table>\n",
       "</div>"
      ],
      "text/plain": [
       "             Height        Weight\n",
       "count  10000.000000  10000.000000\n",
       "mean     168.573602     73.665235\n",
       "std        9.772721     14.651081\n",
       "min      137.828359     29.522668\n",
       "25%      161.304276     61.973777\n",
       "50%      168.447898     73.561459\n",
       "75%      175.702625     85.405454\n",
       "max      200.656806    123.196299"
      ]
     },
     "execution_count": 8,
     "metadata": {},
     "output_type": "execute_result"
    }
   ],
   "source": [
    "df_weight_height.describe()"
   ]
  },
  {
   "cell_type": "code",
   "execution_count": 11,
   "id": "fba2b205",
   "metadata": {},
   "outputs": [
    {
     "data": {
      "image/png": "[encoded data removed]",
      "text/plain": [
       "<Figure size 432x288 with 1 Axes>"
      ]
     },
     "metadata": {
      "needs_background": "light"
     },
     "output_type": "display_data"
    }
   ],
   "source": [
    "# 입력데이터와 정답데이터를 분리하세요.\n",
    "# X =  # 입력데이터\n",
    "# y =  # 정답데이터\n",
    "sns.scatterplot(data=df_weight_height, x='Height', y='Weight')\n",
    "plt.title('cal')\n",
    "# seaborn으로 다음의 차트가 그려보세요.\n",
    "plt.show()"
   ]
  },
  {
   "cell_type": "code",
   "execution_count": 13,
   "id": "1d7cfe8e",
   "metadata": {},
   "outputs": [],
   "source": [
    "X = df_weight_height[\"Height\"]\n",
    "y = df_weight_height[\"Weight\"]"
   ]
  },
  {
   "cell_type": "code",
   "execution_count": 37,
   "id": "4e4a5e0d",
   "metadata": {},
   "outputs": [
    {
     "data": {
      "text/plain": [
       "(4318    164.923546\n",
       " 471     174.666051\n",
       " 9656    160.290068\n",
       " 8243    166.353566\n",
       " 9984    149.979453\n",
       "            ...    \n",
       " 7839    164.732365\n",
       " 3603    165.079450\n",
       " 5959    147.442905\n",
       " 5426    147.124825\n",
       " 7608    160.306738\n",
       " Name: Height, Length: 8000, dtype: float64,\n",
       " 293     177.543978\n",
       " 1244    175.464666\n",
       " 7353    162.396670\n",
       " 5145    158.876608\n",
       " 1618    189.569921\n",
       "            ...    \n",
       " 5361    154.838773\n",
       " 7365    152.433217\n",
       " 1162    166.312151\n",
       " 9434    162.625640\n",
       " 4398    181.405636\n",
       " Name: Height, Length: 2000, dtype: float64)"
      ]
     },
     "execution_count": 37,
     "metadata": {},
     "output_type": "execute_result"
    }
   ],
   "source": [
    "# shuffle = True, random_state=40 \n",
    "# 40번 섞는다\n",
    "# X_train, X_test, y_train, y_test = train_test_split(X, y, test_size=0.2)\n",
    "X_train, X_test, y_train, y_test = train_test_split(X, y, test_size=0.2, shuffle = True, random_state=40 )\n",
    "X_train, X_test"
   ]
  },
  {
   "cell_type": "code",
   "execution_count": 39,
   "id": "17569b0d",
   "metadata": {},
   "outputs": [
    {
     "data": {
      "text/plain": [
       "LinearRegression()"
      ]
     },
     "execution_count": 39,
     "metadata": {},
     "output_type": "execute_result"
    }
   ],
   "source": [
    "model_lr = LinearRegression()\n",
    "model_lr"
   ]
  },
  {
   "cell_type": "code",
   "execution_count": 40,
   "id": "a95ebc96",
   "metadata": {},
   "outputs": [
    {
     "data": {
      "text/plain": [
       "LinearRegression()"
      ]
     },
     "execution_count": 40,
     "metadata": {},
     "output_type": "execute_result"
    }
   ],
   "source": [
    "model_lr.fit(X_train.values.reshape(-1,1), y_train)"
   ]
  },
  {
   "cell_type": "code",
   "execution_count": 41,
   "id": "84a06da5",
   "metadata": {},
   "outputs": [
    {
     "data": {
      "text/plain": [
       "4318    164.923546\n",
       "471     174.666051\n",
       "9656    160.290068\n",
       "8243    166.353566\n",
       "9984    149.979453\n",
       "           ...    \n",
       "7839    164.732365\n",
       "3603    165.079450\n",
       "5959    147.442905\n",
       "5426    147.124825\n",
       "7608    160.306738\n",
       "Name: Height, Length: 8000, dtype: float64"
      ]
     },
     "execution_count": 41,
     "metadata": {},
     "output_type": "execute_result"
    }
   ],
   "source": [
    "X_train"
   ]
  },
  {
   "cell_type": "code",
   "execution_count": 42,
   "id": "9b67d907",
   "metadata": {},
   "outputs": [],
   "source": [
    "y_pred = model_lr.predict(X_test.values.reshape(-1,1))\n"
   ]
  },
  {
   "cell_type": "code",
   "execution_count": 43,
   "id": "e8011d02",
   "metadata": {},
   "outputs": [
    {
     "data": {
      "text/plain": [
       "array([86.14803344, 83.26061043, 65.11382128, ..., 70.55102825,\n",
       "       65.4317782 , 91.51050019])"
      ]
     },
     "execution_count": 43,
     "metadata": {},
     "output_type": "execute_result"
    }
   ],
   "source": [
    "y_pred"
   ]
  },
  {
   "cell_type": "code",
   "execution_count": 44,
   "id": "721f67d1",
   "metadata": {},
   "outputs": [
    {
     "name": "stdout",
     "output_type": "stream",
     "text": [
      "[177.54397803 175.46466627 162.39667038 ... 166.31215084 162.6256398\n",
      " 181.40563603]\n",
      "[[177.54397803]\n",
      " [175.46466627]\n",
      " [162.39667038]\n",
      " ...\n",
      " [166.31215084]\n",
      " [162.6256398 ]\n",
      " [181.40563603]]\n"
     ]
    }
   ],
   "source": [
    "print(X_test.values)\n",
    "print(X_test.values.reshape(-1,1))"
   ]
  },
  {
   "cell_type": "code",
   "execution_count": 34,
   "id": "37fb8c63",
   "metadata": {},
   "outputs": [
    {
     "name": "stdout",
     "output_type": "stream",
     "text": [
      "0    180\n",
      "dtype: int64\n"
     ]
    },
    {
     "data": {
      "text/plain": [
       "array([89.47448278])"
      ]
     },
     "execution_count": 34,
     "metadata": {},
     "output_type": "execute_result"
    }
   ],
   "source": [
    "my_h= pd.Series([180])\n",
    "print(my_h)\n",
    "model_lr.predict(my_h.values.reshape(-1,1))\n"
   ]
  },
  {
   "cell_type": "code",
   "execution_count": 45,
   "id": "89b69247",
   "metadata": {},
   "outputs": [
    {
     "name": "stdout",
     "output_type": "stream",
     "text": [
      "MSE : 32.461898211431375\n",
      "RMSE : 5.697534397564562\n"
     ]
    }
   ],
   "source": [
    "# MSE(Mean Squared Error)를 측정하기\n",
    "MSE = mean_squared_error(y_test, y_pred)\n",
    "\n",
    "\n",
    "# RMSE(Root Mean Squared Error)를 측정하기\n",
    "RMSE = np.sqrt(MSE)\n",
    "\n",
    "print('MSE :', MSE)\n",
    "print('RMSE :', RMSE)\n",
    "\n",
    "# 결과는 도메인마다 다름\n",
    "# MSE : 30.852657924863387\n",
    "# RMSE : 5.554516893921863\n",
    "# no shuffle\n",
    "\n",
    "\n",
    "# MSE : 32.461898211431375\n",
    "# RMSE : 5.697534397564562"
   ]
  },
  {
   "cell_type": "code",
   "execution_count": 47,
   "id": "be72b450",
   "metadata": {},
   "outputs": [
    {
     "data": {
      "image/png": "[encoded data removed]",
      "text/plain": [
       "<Figure size 432x288 with 1 Axes>"
      ]
     },
     "metadata": {
      "needs_background": "light"
     },
     "output_type": "display_data"
    }
   ],
   "source": [
    "plt.plot(X_test, y_test,'o')\n",
    "plt.plot(X_test, y_pred)\n",
    "plt.title('Weight and Height Prediction')\n",
    "plt.show()"
   ]
  },
  {
   "cell_type": "code",
   "execution_count": null,
   "id": "c6c5fe95",
   "metadata": {},
   "outputs": [],
   "source": []
  },
  {
   "cell_type": "code",
   "execution_count": null,
   "id": "2dce3e7c",
   "metadata": {},
   "outputs": [],
   "source": []
  },
  {
   "cell_type": "code",
   "execution_count": null,
   "id": "b3e709b5",
   "metadata": {},
   "outputs": [],
   "source": []
  }
 ],
 "metadata": {
  "kernelspec": {
   "display_name": "MLvenv",
   "language": "python",
   "name": "mlvenv"
  },
  "language_info": {
   "codemirror_mode": {
    "name": "ipython",
    "version": 3
   },
   "file_extension": ".py",
   "mimetype": "text/x-python",
   "name": "python",
   "nbconvert_exporter": "python",
   "pygments_lexer": "ipython3",
   "version": "3.8.0"
  }
 },
 "nbformat": 4,
 "nbformat_minor": 5
}
