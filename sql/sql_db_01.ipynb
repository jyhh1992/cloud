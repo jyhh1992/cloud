{
 "cells": [
  {
   "cell_type": "code",
   "execution_count": 19,
   "id": "0fc8dc12",
   "metadata": {},
   "outputs": [],
   "source": [
    "import sqlite3\n",
    "import datetime"
   ]
  },
  {
   "cell_type": "code",
   "execution_count": 5,
   "id": "870f96b0",
   "metadata": {},
   "outputs": [
    {
     "name": "stdout",
     "output_type": "stream",
     "text": [
      "sqlite3 version: 2.6.0\n"
     ]
    }
   ],
   "source": [
    "print('sqlite3 version:', sqlite3.version)"
   ]
  },
  {
   "cell_type": "code",
   "execution_count": 21,
   "id": "6d8e8620",
   "metadata": {},
   "outputs": [
    {
     "name": "stdout",
     "output_type": "stream",
     "text": [
      "now :  2021-10-25 14:48:32.186419\n",
      "nowDatetime :  2021-10-25 14:48:32\n"
     ]
    }
   ],
   "source": [
    "# 데이터 추가 날짜 값 추출하기\n",
    "now = datetime.datetime.now()\n",
    "print('now : ', now)\n",
    "nowDatetime = now.strftime('%Y-%m-%d %H:%M:%S')\n",
    "print('nowDatetime : ', nowDatetime)"
   ]
  },
  {
   "cell_type": "code",
   "execution_count": 29,
   "id": "3f487856",
   "metadata": {},
   "outputs": [],
   "source": [
    "conn = sqlite3.connect(\"sqldb.db\")\n",
    "# conn = sqlite3.connect(\"database.db\", isolation_level=None)\n"
   ]
  },
  {
   "cell_type": "code",
   "execution_count": 30,
   "id": "b1047d8f",
   "metadata": {},
   "outputs": [
    {
     "name": "stdout",
     "output_type": "stream",
     "text": [
      "cursor type :  <class 'sqlite3.Cursor'>\n"
     ]
    }
   ],
   "source": [
    "cur = conn.cursor()\n",
    "print('cursor type : ', type(cur))"
   ]
  },
  {
   "cell_type": "code",
   "execution_count": 31,
   "id": "ef0a6211",
   "metadata": {},
   "outputs": [
    {
     "data": {
      "text/plain": [
       "<sqlite3.Cursor at 0x7fd7043f33b0>"
      ]
     },
     "execution_count": 31,
     "metadata": {},
     "output_type": "execute_result"
    }
   ],
   "source": [
    "cur.execute(\"create table if not exists usersdb(id integer primary key, \\\n",
    "            username text, email text, phone text, website text, regdate text)\")"
   ]
  },
  {
   "cell_type": "code",
   "execution_count": 32,
   "id": "4e7d8346",
   "metadata": {},
   "outputs": [
    {
     "data": {
      "text/plain": [
       "<sqlite3.Cursor at 0x7fd7043f33b0>"
      ]
     },
     "execution_count": 32,
     "metadata": {},
     "output_type": "execute_result"
    }
   ],
   "source": [
    "# 테이블 생성(Data Type : TEXT, NUMERIC, INTEGER, REAL, BLOB)\n",
    "cur.execute(\"INSERT INTO usersdb VALUES(1, 'Kim', 'kim@cozlab.com', '010-1234-5678', 'cozlab.com', ?)\", (nowDatetime,))"
   ]
  },
  {
   "cell_type": "code",
   "execution_count": 33,
   "id": "84041e36",
   "metadata": {},
   "outputs": [],
   "source": [
    "conn.commit()"
   ]
  },
  {
   "cell_type": "code",
   "execution_count": 34,
   "id": "39259c88",
   "metadata": {},
   "outputs": [
    {
     "data": {
      "text/plain": [
       "<sqlite3.Cursor at 0x7fd7043f33b0>"
      ]
     },
     "execution_count": 34,
     "metadata": {},
     "output_type": "execute_result"
    }
   ],
   "source": [
    "# 데이터 insert 튜플형식\n",
    "cur.execute(\"INSERT INTO usersdb (id, username, email, phone, website, regdate) VALUES (?,?,?,?,?,?)\", \\\n",
    "(2, 'Park', 'park@naver.com', '010-3456-4567', 'park.com', nowDatetime))"
   ]
  },
  {
   "cell_type": "code",
   "execution_count": 35,
   "id": "8ae1350a",
   "metadata": {},
   "outputs": [],
   "source": [
    "conn.commit()"
   ]
  },
  {
   "cell_type": "code",
   "execution_count": 36,
   "id": "3520945e",
   "metadata": {},
   "outputs": [
    {
     "data": {
      "text/plain": [
       "<sqlite3.Cursor at 0x7fd7043f33b0>"
      ]
     },
     "execution_count": 36,
     "metadata": {},
     "output_type": "execute_result"
    }
   ],
   "source": [
    "userList = (\n",
    "(3, 'Lee', 'lee@naver.com', '010-3333-3333', 'lee.com', nowDatetime),\n",
    "(4, 'Cho', 'cho@naver.com', '010-4444-4444', 'cho.com', nowDatetime),\n",
    "(5, 'Yue', 'yue@naver.com', '010-5555-5555', 'yue.com', nowDatetime),\n",
    "(6, 'Sea', 'sea@naver.com', '010-6666-6666', 'sea.com', nowDatetime),\n",
    ")\n",
    "cur.executemany(\"INSERT INTO usersdb(id, username, email, phone, website, regdate) VALUES (?,?,?,?,?,?)\", userList)"
   ]
  },
  {
   "cell_type": "code",
   "execution_count": 37,
   "id": "82771871",
   "metadata": {},
   "outputs": [],
   "source": [
    "conn.commit()"
   ]
  },
  {
   "cell_type": "code",
   "execution_count": 38,
   "id": "29ab5188",
   "metadata": {},
   "outputs": [
    {
     "data": {
      "text/plain": [
       "<sqlite3.Cursor at 0x7fd7043f33b0>"
      ]
     },
     "execution_count": 38,
     "metadata": {},
     "output_type": "execute_result"
    }
   ],
   "source": [
    "# 테이블데이터 모두 삭제\n",
    "cur.execute(\"DELETE FROM usersdb\")"
   ]
  },
  {
   "cell_type": "code",
   "execution_count": 39,
   "id": "8af9af3b",
   "metadata": {},
   "outputs": [],
   "source": [
    "conn.commit()"
   ]
  },
  {
   "cell_type": "code",
   "execution_count": 40,
   "id": "5fbc1a18",
   "metadata": {},
   "outputs": [
    {
     "data": {
      "text/plain": [
       "<sqlite3.Cursor at 0x7fd7043f33b0>"
      ]
     },
     "execution_count": 40,
     "metadata": {},
     "output_type": "execute_result"
    }
   ],
   "source": [
    "userList = (\n",
    "(1, 'kim', 'kim@naver.com', '010-3456-4567', 'kim.com', nowDatetime),\n",
    "(2, 'Park', 'park@naver.com', '010-3456-4567', 'park.com', nowDatetime),\n",
    "(3, 'Lee', 'lee@naver.com', '010-3333-3333', 'lee.com', nowDatetime),\n",
    "(4, 'Cho', 'cho@naver.com', '010-4444-4444', 'cho.com', nowDatetime),\n",
    "(5, 'Yue', 'yue@naver.com', '010-5555-5555', 'yue.com', nowDatetime),\n",
    "(6, 'Sea', 'sea@naver.com', '010-6666-6666', 'sea.com', nowDatetime),\n",
    ")\n",
    "cur.executemany(\"INSERT INTO usersdb(id, username, email, phone, website, regdate) VALUES (?,?,?,?,?,?)\", userList)"
   ]
  },
  {
   "cell_type": "code",
   "execution_count": 41,
   "id": "b1dfa1ae",
   "metadata": {},
   "outputs": [],
   "source": [
    "conn.commit()"
   ]
  },
  {
   "cell_type": "code",
   "execution_count": 42,
   "id": "1cb1422d",
   "metadata": {},
   "outputs": [],
   "source": [
    "cur.close()"
   ]
  },
  {
   "cell_type": "code",
   "execution_count": 106,
   "id": "6eec8c27",
   "metadata": {},
   "outputs": [
    {
     "ename": "ProgrammingError",
     "evalue": "Cannot operate on a closed database.",
     "output_type": "error",
     "traceback": [
      "\u001b[0;31m---------------------------------------------------------------------------\u001b[0m",
      "\u001b[0;31mProgrammingError\u001b[0m                          Traceback (most recent call last)",
      "\u001b[0;32m/tmp/ipykernel_6521/102052779.py\u001b[0m in \u001b[0;36m<module>\u001b[0;34m\u001b[0m\n\u001b[0;32m----> 1\u001b[0;31m \u001b[0mcur\u001b[0m\u001b[0;34m.\u001b[0m\u001b[0mexecute\u001b[0m\u001b[0;34m(\u001b[0m\u001b[0;34m\"DELETE FROM usersdb\"\u001b[0m\u001b[0;34m)\u001b[0m\u001b[0;34m\u001b[0m\u001b[0;34m\u001b[0m\u001b[0m\n\u001b[0m",
      "\u001b[0;31mProgrammingError\u001b[0m: Cannot operate on a closed database."
     ]
    }
   ],
   "source": [
    "cur.execute(\"DELETE FROM usersdb\")"
   ]
  },
  {
   "cell_type": "code",
   "execution_count": null,
   "id": "0133bb6b",
   "metadata": {},
   "outputs": [],
   "source": []
  },
  {
   "cell_type": "code",
   "execution_count": 44,
   "id": "f22f13e9",
   "metadata": {},
   "outputs": [],
   "source": [
    "# conn = sqlite3.connect(\"sqldb.db\")\n",
    "conn = sqlite3.connect(\"sqldb.db\", isolation_level=None)"
   ]
  },
  {
   "cell_type": "code",
   "execution_count": 45,
   "id": "5f160b05",
   "metadata": {},
   "outputs": [
    {
     "name": "stdout",
     "output_type": "stream",
     "text": [
      "cursor type :  <class 'sqlite3.Cursor'>\n"
     ]
    }
   ],
   "source": [
    "cur = conn.cursor()\n",
    "print('cursor type : ', type(cur))"
   ]
  },
  {
   "cell_type": "code",
   "execution_count": 46,
   "id": "092c0201",
   "metadata": {},
   "outputs": [
    {
     "data": {
      "text/plain": [
       "<sqlite3.Cursor at 0x7fd7043f3650>"
      ]
     },
     "execution_count": 46,
     "metadata": {},
     "output_type": "execute_result"
    }
   ],
   "source": [
    "cur.execute(\"DELETE FROM usersdb\")"
   ]
  },
  {
   "cell_type": "code",
   "execution_count": 47,
   "id": "0ae3807a",
   "metadata": {},
   "outputs": [
    {
     "data": {
      "text/plain": [
       "<sqlite3.Cursor at 0x7fd7043f3650>"
      ]
     },
     "execution_count": 47,
     "metadata": {},
     "output_type": "execute_result"
    }
   ],
   "source": [
    "userList = (\n",
    "(1, 'kim', 'kim@naver.com', '010-3456-4567', 'kim.com', nowDatetime),\n",
    "(2, 'Park', 'park@naver.com', '010-3456-4567', 'park.com', nowDatetime),\n",
    "(3, 'Lee', 'lee@naver.com', '010-3333-3333', 'lee.com', nowDatetime),\n",
    "(4, 'Cho', 'cho@naver.com', '010-4444-4444', 'cho.com', nowDatetime),\n",
    "(5, 'Yue', 'yue@naver.com', '010-5555-5555', 'yue.com', nowDatetime),\n",
    "(6, 'Sea', 'sea@naver.com', '010-6666-6666', 'sea.com', nowDatetime),\n",
    ")\n",
    "cur.executemany(\"INSERT INTO usersdb(id, username, email, phone, website, regdate) VALUES (?,?,?,?,?,?)\", userList)"
   ]
  },
  {
   "cell_type": "code",
   "execution_count": 52,
   "id": "e957e2bd",
   "metadata": {},
   "outputs": [
    {
     "data": {
      "text/plain": [
       "<sqlite3.Cursor at 0x7fd7043f3650>"
      ]
     },
     "execution_count": 52,
     "metadata": {},
     "output_type": "execute_result"
    }
   ],
   "source": [
    "cur.execute(\"select * from usersdb\")"
   ]
  },
  {
   "cell_type": "code",
   "execution_count": 49,
   "id": "8c326e5c",
   "metadata": {},
   "outputs": [
    {
     "name": "stdout",
     "output_type": "stream",
     "text": [
      "one -> \n",
      " (1, 'kim', 'kim@naver.com', '010-3456-4567', 'kim.com', '2021-10-25 14:48:32')\n"
     ]
    }
   ],
   "source": [
    "print('one -> \\n',cur.fetchone())"
   ]
  },
  {
   "cell_type": "code",
   "execution_count": 50,
   "id": "c6588dc8",
   "metadata": {},
   "outputs": [
    {
     "name": "stdout",
     "output_type": "stream",
     "text": [
      "Three -> \n",
      " [(2, 'Park', 'park@naver.com', '010-3456-4567', 'park.com', '2021-10-25 14:48:32'), (3, 'Lee', 'lee@naver.com', '010-3333-3333', 'lee.com', '2021-10-25 14:48:32'), (4, 'Cho', 'cho@naver.com', '010-4444-4444', 'cho.com', '2021-10-25 14:48:32')]\n"
     ]
    }
   ],
   "source": [
    "print('Three -> \\n', cur.fetchmany(size=3))"
   ]
  },
  {
   "cell_type": "code",
   "execution_count": 53,
   "id": "895d67b9",
   "metadata": {},
   "outputs": [
    {
     "name": "stdout",
     "output_type": "stream",
     "text": [
      "All -> \n",
      " [(1, 'kim', 'kim@naver.com', '010-3456-4567', 'kim.com', '2021-10-25 14:48:32'), (2, 'Park', 'park@naver.com', '010-3456-4567', 'park.com', '2021-10-25 14:48:32'), (3, 'Lee', 'lee@naver.com', '010-3333-3333', 'lee.com', '2021-10-25 14:48:32'), (4, 'Cho', 'cho@naver.com', '010-4444-4444', 'cho.com', '2021-10-25 14:48:32'), (5, 'Yue', 'yue@naver.com', '010-5555-5555', 'yue.com', '2021-10-25 14:48:32'), (6, 'Sea', 'sea@naver.com', '010-6666-6666', 'sea.com', '2021-10-25 14:48:32')]\n"
     ]
    }
   ],
   "source": [
    "print('All -> \\n', cur.fetchall())"
   ]
  },
  {
   "cell_type": "code",
   "execution_count": 54,
   "id": "1c36799f",
   "metadata": {},
   "outputs": [
    {
     "data": {
      "text/plain": [
       "<sqlite3.Cursor at 0x7fd7043f3650>"
      ]
     },
     "execution_count": 54,
     "metadata": {},
     "output_type": "execute_result"
    }
   ],
   "source": [
    "cur.execute(\"select * from usersdb\")"
   ]
  },
  {
   "cell_type": "code",
   "execution_count": 56,
   "id": "c33c3b79",
   "metadata": {},
   "outputs": [
    {
     "name": "stdout",
     "output_type": "stream",
     "text": [
      "retrivel ->  (1, 'kim', 'kim@naver.com', '010-3456-4567', 'kim.com', '2021-10-25 14:48:32')\n",
      "retrivel ->  (2, 'Park', 'park@naver.com', '010-3456-4567', 'park.com', '2021-10-25 14:48:32')\n",
      "retrivel ->  (3, 'Lee', 'lee@naver.com', '010-3333-3333', 'lee.com', '2021-10-25 14:48:32')\n",
      "retrivel ->  (4, 'Cho', 'cho@naver.com', '010-4444-4444', 'cho.com', '2021-10-25 14:48:32')\n",
      "retrivel ->  (5, 'Yue', 'yue@naver.com', '010-5555-5555', 'yue.com', '2021-10-25 14:48:32')\n",
      "retrivel ->  (6, 'Sea', 'sea@naver.com', '010-6666-6666', 'sea.com', '2021-10-25 14:48:32')\n"
     ]
    }
   ],
   "source": [
    "rows = cur.fetchall()\n",
    "for row in rows:\n",
    "    print('retrivel -> ', row)"
   ]
  },
  {
   "cell_type": "code",
   "execution_count": 60,
   "id": "2b7340bf",
   "metadata": {},
   "outputs": [],
   "source": [
    "for row in cur.fetchall():\n",
    "    print('retrivel -> ', row)"
   ]
  },
  {
   "cell_type": "code",
   "execution_count": 62,
   "id": "d9835410",
   "metadata": {},
   "outputs": [
    {
     "name": "stdout",
     "output_type": "stream",
     "text": [
      "retrivel ->  (6, 'Sea', 'sea@naver.com', '010-6666-6666', 'sea.com', '2021-10-25 14:48:32')\n",
      "retrivel ->  (5, 'Yue', 'yue@naver.com', '010-5555-5555', 'yue.com', '2021-10-25 14:48:32')\n",
      "retrivel ->  (4, 'Cho', 'cho@naver.com', '010-4444-4444', 'cho.com', '2021-10-25 14:48:32')\n",
      "retrivel ->  (3, 'Lee', 'lee@naver.com', '010-3333-3333', 'lee.com', '2021-10-25 14:48:32')\n",
      "retrivel ->  (2, 'Park', 'park@naver.com', '010-3456-4567', 'park.com', '2021-10-25 14:48:32')\n",
      "retrivel ->  (1, 'kim', 'kim@naver.com', '010-3456-4567', 'kim.com', '2021-10-25 14:48:32')\n"
     ]
    }
   ],
   "source": [
    "# 순회3\n",
    "for row in cur.execute('SELECT * FROM usersdb ORDER BY id DESC'):\n",
    "    print('retrivel -> ', row)"
   ]
  },
  {
   "cell_type": "code",
   "execution_count": 64,
   "id": "ff61b472",
   "metadata": {},
   "outputs": [
    {
     "name": "stdout",
     "output_type": "stream",
     "text": [
      "retrivel ->  (1, 'kim', 'kim@naver.com', '010-3456-4567', 'kim.com', '2021-10-25 14:48:32')\n",
      "retrivel ->  (2, 'Park', 'park@naver.com', '010-3456-4567', 'park.com', '2021-10-25 14:48:32')\n",
      "retrivel ->  (3, 'Lee', 'lee@naver.com', '010-3333-3333', 'lee.com', '2021-10-25 14:48:32')\n",
      "retrivel ->  (4, 'Cho', 'cho@naver.com', '010-4444-4444', 'cho.com', '2021-10-25 14:48:32')\n",
      "retrivel ->  (5, 'Yue', 'yue@naver.com', '010-5555-5555', 'yue.com', '2021-10-25 14:48:32')\n",
      "retrivel ->  (6, 'Sea', 'sea@naver.com', '010-6666-6666', 'sea.com', '2021-10-25 14:48:32')\n"
     ]
    }
   ],
   "source": [
    "cur.execute(\"select * from usersdb\")\n",
    "for row in cur.fetchall():\n",
    "    print('retrivel -> ', row)"
   ]
  },
  {
   "cell_type": "code",
   "execution_count": 63,
   "id": "3ddc5aa1",
   "metadata": {},
   "outputs": [],
   "source": [
    "rows = cur.fetchall()\n",
    "for row in rows:\n",
    "    print('retrivel -> ', row)"
   ]
  },
  {
   "cell_type": "code",
   "execution_count": 65,
   "id": "1abfd48c",
   "metadata": {},
   "outputs": [
    {
     "data": {
      "text/plain": [
       "<sqlite3.Cursor at 0x7fd7043f3650>"
      ]
     },
     "execution_count": 65,
     "metadata": {},
     "output_type": "execute_result"
    }
   ],
   "source": [
    "cur.execute(\"select * from usersdb\")"
   ]
  },
  {
   "cell_type": "code",
   "execution_count": 66,
   "id": "870d9340",
   "metadata": {},
   "outputs": [
    {
     "name": "stdout",
     "output_type": "stream",
     "text": [
      "param1 (3, 'Lee', 'lee@naver.com', '010-3333-3333', 'lee.com', '2021-10-25 14:48:32')\n",
      "param1 []\n"
     ]
    }
   ],
   "source": [
    "# WHERE 조건1 튜플형\n",
    "param1 = (3,)\n",
    "cur.execute(\"SELECT * FROM usersdb WHERE id=?\", param1)\n",
    "print('param1', cur.fetchone()) # 1개\n",
    "print('param1', cur.fetchall()) # 데이터 없음"
   ]
  },
  {
   "cell_type": "code",
   "execution_count": 69,
   "id": "32351d09",
   "metadata": {},
   "outputs": [
    {
     "name": "stdout",
     "output_type": "stream",
     "text": [
      "param2 [(4, 'Cho', 'cho@naver.com', '010-4444-4444', 'cho.com', '2021-10-25 14:48:32')]\n"
     ]
    }
   ],
   "source": [
    "# format 문\n",
    "param2 = 4\n",
    "cur.execute(\"SELECT * FROM usersdb WHERE id='%s'\" % param2) # %s %f %d\n",
    "# print('param2', cur.fetchone()) #1개\n",
    "print('param2', cur.fetchall()) #1개"
   ]
  },
  {
   "cell_type": "code",
   "execution_count": 72,
   "id": "dd18bf41",
   "metadata": {},
   "outputs": [
    {
     "name": "stdout",
     "output_type": "stream",
     "text": [
      "param3 (5, 'Yue', 'yue@naver.com', '010-5555-5555', 'yue.com', '2021-10-25 14:48:32')\n"
     ]
    }
   ],
   "source": [
    "# WHERE 조건3 dict 형\n",
    "cur.execute(\"SELECT * FROM usersdb WHERE id=:id\", {\"id\":5}) #WHERE id=:id <= dict형 조건\n",
    "print('param3', cur.fetchone()) # 1개\n",
    "# print('param3', cur.fetchall()) # 1개"
   ]
  },
  {
   "cell_type": "code",
   "execution_count": 73,
   "id": "bc690811",
   "metadata": {},
   "outputs": [
    {
     "name": "stdout",
     "output_type": "stream",
     "text": [
      "param4 :  [(3, 'Lee', 'lee@naver.com', '010-3333-3333', 'lee.com', '2021-10-25 14:48:32'), (5, 'Yue', 'yue@naver.com', '010-5555-5555', 'yue.com', '2021-10-25 14:48:32')]\n"
     ]
    }
   ],
   "source": [
    "\n",
    "param4 = (3,5)\n",
    "cur.execute(\"SELECT * FROM usersdb WHERE id IN(?,?) \", param4)\n",
    "print('param4 : ', cur.fetchall())"
   ]
  },
  {
   "cell_type": "code",
   "execution_count": 74,
   "id": "eb68bcbb",
   "metadata": {},
   "outputs": [
    {
     "name": "stdout",
     "output_type": "stream",
     "text": [
      "param5 :  [(3, 'Lee', 'lee@naver.com', '010-3333-3333', 'lee.com', '2021-10-25 14:48:32'), (4, 'Cho', 'cho@naver.com', '010-4444-4444', 'cho.com', '2021-10-25 14:48:32')]\n"
     ]
    }
   ],
   "source": [
    "# WHERE 조건5\n",
    "cur.execute(\"SELECT * FROM usersdb WHERE id IN('%d','%d') \" % (3,4))\n",
    "print('param5 : ', cur.fetchall())"
   ]
  },
  {
   "cell_type": "code",
   "execution_count": 75,
   "id": "730a0f9b",
   "metadata": {},
   "outputs": [
    {
     "name": "stdout",
     "output_type": "stream",
     "text": [
      "param6 [(2, 'Park', 'park@naver.com', '010-3456-4567', 'park.com', '2021-10-25 14:48:32'), (5, 'Yue', 'yue@naver.com', '010-5555-5555', 'yue.com', '2021-10-25 14:48:32')]\n"
     ]
    }
   ],
   "source": [
    "# WHERE 조건6 WHERE OR\n",
    "#WHERE id=:id <= dict형 조건\n",
    "cur.execute(\"SELECT * FROM usersdb WHERE id=:id1 OR id=:id2\", {\"id1\":2, \"id2\":5})\n",
    "print('param6', cur.fetchall()) # 1개"
   ]
  },
  {
   "cell_type": "code",
   "execution_count": 76,
   "id": "04f44c12",
   "metadata": {},
   "outputs": [
    {
     "name": "stdout",
     "output_type": "stream",
     "text": [
      "Dump print Complete\n"
     ]
    }
   ],
   "source": [
    "with conn: # db 연결, file로 저장\n",
    "    with open('./dump.sql', 'w') as f:\n",
    "        for line in conn.iterdump():\n",
    "            f.write('%s\\n' % line)\n",
    "    print('Dump print Complete')"
   ]
  },
  {
   "cell_type": "code",
   "execution_count": 77,
   "id": "d4ab3fe7",
   "metadata": {},
   "outputs": [],
   "source": [
    "conn.commit()"
   ]
  },
  {
   "cell_type": "code",
   "execution_count": 78,
   "id": "86805661",
   "metadata": {},
   "outputs": [],
   "source": [
    "conn.close()"
   ]
  },
  {
   "cell_type": "code",
   "execution_count": 79,
   "id": "d2d0f154",
   "metadata": {},
   "outputs": [],
   "source": [
    "conn = sqlite3.connect(\"sqldb.db\", isolation_level=None)\n",
    "cur = conn.cursor()"
   ]
  },
  {
   "cell_type": "code",
   "execution_count": 80,
   "id": "a11df070",
   "metadata": {},
   "outputs": [
    {
     "data": {
      "text/plain": [
       "<sqlite3.Cursor at 0x7fd6dfcab960>"
      ]
     },
     "execution_count": 80,
     "metadata": {},
     "output_type": "execute_result"
    }
   ],
   "source": [
    "cur.execute(\"UPDATE usersdb SET username = ? WHERE id =?\", ('joy', 1))"
   ]
  },
  {
   "cell_type": "code",
   "execution_count": 82,
   "id": "a883ccc7",
   "metadata": {},
   "outputs": [
    {
     "data": {
      "text/plain": [
       "<sqlite3.Cursor at 0x7fd6dfcab960>"
      ]
     },
     "execution_count": 82,
     "metadata": {},
     "output_type": "execute_result"
    }
   ],
   "source": [
    "cur.execute(\"UPDATE usersdb SET username = :name WHERE id = :id\", {'name' : 'good', 'id' : 2})"
   ]
  },
  {
   "cell_type": "code",
   "execution_count": 83,
   "id": "ca2401df",
   "metadata": {},
   "outputs": [],
   "source": [
    "conn.commit()"
   ]
  },
  {
   "cell_type": "code",
   "execution_count": 87,
   "id": "770c1e19",
   "metadata": {},
   "outputs": [
    {
     "name": "stdout",
     "output_type": "stream",
     "text": [
      "now :  2021-10-25 17:05:43.367417\n",
      "nowDatetime :  2021-10-25 17:05:43\n"
     ]
    }
   ],
   "source": [
    "import sqlite3\n",
    "import datetime\n",
    "now = datetime.datetime.now()\n",
    "print('now : ', now)\n",
    "nowDatetime = now.strftime('%Y-%m-%d %H:%M:%S')\n",
    "print('nowDatetime : ', nowDatetime)\n",
    "conn = sqlite3.connect(\"sqldb.db\")\n",
    "cur = conn.cursor()"
   ]
  },
  {
   "cell_type": "code",
   "execution_count": 88,
   "id": "6ad13bda",
   "metadata": {},
   "outputs": [
    {
     "name": "stdout",
     "output_type": "stream",
     "text": [
      "user db delete :  6\n"
     ]
    }
   ],
   "source": [
    "# 삭제 한것 카운트 해서 반환함 : cur.execute(\"DELETE FROM usersdb\").rowcount\n",
    "print(\"user db delete : \", cur.execute(\"DELETE FROM usersdb\").rowcount)"
   ]
  },
  {
   "cell_type": "code",
   "execution_count": 89,
   "id": "4af391aa",
   "metadata": {},
   "outputs": [
    {
     "data": {
      "text/plain": [
       "<sqlite3.Cursor at 0x7fd6dfc9b570>"
      ]
     },
     "execution_count": 89,
     "metadata": {},
     "output_type": "execute_result"
    }
   ],
   "source": [
    "userList = (\n",
    "(1, 'kim', 'kim@naver.com', '010-3456-4567', 'kim.com', nowDatetime),\n",
    "(2, 'Park', 'park@naver.com', '010-3456-4567', 'park.com', nowDatetime),\n",
    "(3, 'Lee', 'lee@naver.com', '010-3333-3333', 'lee.com', nowDatetime),\n",
    "(4, 'Cho', 'cho@naver.com', '010-4444-4444', 'cho.com', nowDatetime),\n",
    "(5, 'Yue', 'yue@naver.com', '010-5555-5555', 'yue.com', nowDatetime),\n",
    "(6, 'Sea', 'sea@naver.com', '010-6666-6666', 'sea.com', nowDatetime),\n",
    ")\n",
    "cur.executemany(\"INSERT INTO usersdb(id, username, email, phone, website, regdate) VALUES (?,?,?,?,?,?)\", userList)"
   ]
  },
  {
   "cell_type": "code",
   "execution_count": 90,
   "id": "b38ed81f",
   "metadata": {},
   "outputs": [
    {
     "data": {
      "text/plain": [
       "<sqlite3.Cursor at 0x7fd6dfc9b570>"
      ]
     },
     "execution_count": 90,
     "metadata": {},
     "output_type": "execute_result"
    }
   ],
   "source": [
    "cur.execute(\"DELETE FROM usersdb WHERE id = ? \", (2,))"
   ]
  },
  {
   "cell_type": "code",
   "execution_count": 91,
   "id": "4bc872de",
   "metadata": {},
   "outputs": [],
   "source": [
    "conn.commit()"
   ]
  },
  {
   "cell_type": "code",
   "execution_count": 92,
   "id": "b311054b",
   "metadata": {},
   "outputs": [
    {
     "name": "stdout",
     "output_type": "stream",
     "text": [
      "(1, 'kim', 'kim@naver.com', '010-3456-4567', 'kim.com', '2021-10-25 17:05:43')\n",
      "(3, 'Lee', 'lee@naver.com', '010-3333-3333', 'lee.com', '2021-10-25 17:05:43')\n",
      "(4, 'Cho', 'cho@naver.com', '010-4444-4444', 'cho.com', '2021-10-25 17:05:43')\n",
      "(5, 'Yue', 'yue@naver.com', '010-5555-5555', 'yue.com', '2021-10-25 17:05:43')\n",
      "(6, 'Sea', 'sea@naver.com', '010-6666-6666', 'sea.com', '2021-10-25 17:05:43')\n"
     ]
    }
   ],
   "source": [
    "for user in cur.execute(\"SELECT * FROM usersdb\"):\n",
    "    print(user)"
   ]
  },
  {
   "cell_type": "code",
   "execution_count": 94,
   "id": "0c7764f2",
   "metadata": {},
   "outputs": [
    {
     "data": {
      "text/plain": [
       "<sqlite3.Cursor at 0x7fd6dfc9b570>"
      ]
     },
     "execution_count": 94,
     "metadata": {},
     "output_type": "execute_result"
    }
   ],
   "source": [
    "cur.execute(\"DELETE FROM usersdb WHERE id=:id AND username=:name\", {\"id\":3, \"name\":\"Lee\"}) #WHERE id=:Id <= dict형 조건"
   ]
  },
  {
   "cell_type": "code",
   "execution_count": 95,
   "id": "03c7cc74",
   "metadata": {},
   "outputs": [],
   "source": [
    "conn.commit()"
   ]
  },
  {
   "cell_type": "code",
   "execution_count": 96,
   "id": "26c86380",
   "metadata": {},
   "outputs": [
    {
     "name": "stdout",
     "output_type": "stream",
     "text": [
      "(1, 'kim', 'kim@naver.com', '010-3456-4567', 'kim.com', '2021-10-25 17:05:43')\n",
      "(4, 'Cho', 'cho@naver.com', '010-4444-4444', 'cho.com', '2021-10-25 17:05:43')\n",
      "(5, 'Yue', 'yue@naver.com', '010-5555-5555', 'yue.com', '2021-10-25 17:05:43')\n",
      "(6, 'Sea', 'sea@naver.com', '010-6666-6666', 'sea.com', '2021-10-25 17:05:43')\n"
     ]
    }
   ],
   "source": [
    "for user in cur.execute(\"SELECT * FROM usersdb\"):\n",
    "    print(user)"
   ]
  },
  {
   "cell_type": "code",
   "execution_count": 98,
   "id": "55a978f0",
   "metadata": {},
   "outputs": [
    {
     "data": {
      "text/plain": [
       "<sqlite3.Cursor at 0x7fd6dfc9b570>"
      ]
     },
     "execution_count": 98,
     "metadata": {},
     "output_type": "execute_result"
    }
   ],
   "source": [
    "# 삭제 : 스트링 format형으로\n",
    "cur.execute(\"DELETE FROM usersdb WHERE id = %d\" % 1)"
   ]
  },
  {
   "cell_type": "code",
   "execution_count": 99,
   "id": "e7b56101",
   "metadata": {},
   "outputs": [],
   "source": [
    "conn.commit()"
   ]
  },
  {
   "cell_type": "code",
   "execution_count": 100,
   "id": "34f6bf18",
   "metadata": {},
   "outputs": [
    {
     "name": "stdout",
     "output_type": "stream",
     "text": [
      "(4, 'Cho', 'cho@naver.com', '010-4444-4444', 'cho.com', '2021-10-25 17:05:43')\n",
      "(5, 'Yue', 'yue@naver.com', '010-5555-5555', 'yue.com', '2021-10-25 17:05:43')\n",
      "(6, 'Sea', 'sea@naver.com', '010-6666-6666', 'sea.com', '2021-10-25 17:05:43')\n"
     ]
    }
   ],
   "source": [
    "for user in cur.execute(\"SELECT * FROM usersdb\"):\n",
    "    print(user)"
   ]
  },
  {
   "cell_type": "code",
   "execution_count": 101,
   "id": "8140835a",
   "metadata": {},
   "outputs": [
    {
     "data": {
      "text/plain": [
       "<sqlite3.Cursor at 0x7fd6dfc9b570>"
      ]
     },
     "execution_count": 101,
     "metadata": {},
     "output_type": "execute_result"
    }
   ],
   "source": [
    "# 삭제 : dict 형으로\n",
    "cur.execute(\"DELETE FROM usersdb WHERE id =:id\", {\"id\" : 4})"
   ]
  },
  {
   "cell_type": "code",
   "execution_count": 102,
   "id": "1dac14a3",
   "metadata": {},
   "outputs": [],
   "source": [
    "conn.commit()"
   ]
  },
  {
   "cell_type": "code",
   "execution_count": 103,
   "id": "3aaa93fa",
   "metadata": {},
   "outputs": [
    {
     "name": "stdout",
     "output_type": "stream",
     "text": [
      "(5, 'Yue', 'yue@naver.com', '010-5555-5555', 'yue.com', '2021-10-25 17:05:43')\n",
      "(6, 'Sea', 'sea@naver.com', '010-6666-6666', 'sea.com', '2021-10-25 17:05:43')\n"
     ]
    }
   ],
   "source": [
    "for user in cur.execute(\"SELECT * FROM usersdb\"):\n",
    "    print(user)"
   ]
  },
  {
   "cell_type": "code",
   "execution_count": 104,
   "id": "5042024d",
   "metadata": {},
   "outputs": [
    {
     "name": "stdout",
     "output_type": "stream",
     "text": [
      "usersdb deleted :  2  rows\n"
     ]
    }
   ],
   "source": [
    "# 데이터 전체 삭제 : 삭제된 행 카운트 출력\n",
    "print(\"usersdb deleted : \", conn.execute(\"DELETE FROM usersdb\").rowcount, \" rows\")"
   ]
  },
  {
   "cell_type": "code",
   "execution_count": 105,
   "id": "46dd7c4d",
   "metadata": {},
   "outputs": [],
   "source": [
    "conn.commit()\n",
    "conn.close()"
   ]
  },
  {
   "cell_type": "code",
   "execution_count": null,
   "id": "841d9b80",
   "metadata": {},
   "outputs": [],
   "source": []
  }
 ],
 "metadata": {
  "kernelspec": {
   "display_name": "sqlVENV",
   "language": "python",
   "name": "sqlvenv"
  },
  "language_info": {
   "codemirror_mode": {
    "name": "ipython",
    "version": 3
   },
   "file_extension": ".py",
   "mimetype": "text/x-python",
   "name": "python",
   "nbconvert_exporter": "python",
   "pygments_lexer": "ipython3",
   "version": "3.8.0"
  }
 },
 "nbformat": 4,
 "nbformat_minor": 5
}
